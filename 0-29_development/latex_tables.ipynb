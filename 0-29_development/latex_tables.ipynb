{
 "cells": [
  {
   "cell_type": "code",
   "execution_count": 6,
   "id": "ff815457-ecad-4ff5-9560-6876dce695e7",
   "metadata": {},
   "outputs": [],
   "source": [
    "import tabulate\n",
    "import numpy as np"
   ]
  },
  {
   "cell_type": "code",
   "execution_count": 7,
   "id": "118c9e99-9eee-47ab-9adb-6723e7a96e28",
   "metadata": {},
   "outputs": [],
   "source": [
    "p_min_initial = np.array([0, 0.2, 40, .5, .001, 1, .01, .0001, 0.1])\n",
    "p_max_initial = np.array([8, 1, 800, 4, .3, 10, .1, .01, 6])"
   ]
  },
  {
   "cell_type": "code",
   "execution_count": 8,
   "id": "5692e6ee-f579-41d4-960b-7392774193c4",
   "metadata": {},
   "outputs": [],
   "source": [
    "p_names = [\"$I_{max}$\",  \"$C_e$\",  \"$Su_{max}$\", \"β\",  \"$P_{max}$\",  \"$T_{lag}$\",   \"$K_f$\",   \"$K_s$\", \"FM\"]"
   ]
  },
  {
   "cell_type": "code",
   "execution_count": 9,
   "id": "9cdfc0d2-8690-4b20-9a23-52eb4c473e1e",
   "metadata": {},
   "outputs": [],
   "source": [
    "data = np.array([p_names,p_min_initial, p_max_initial])"
   ]
  },
  {
   "cell_type": "code",
   "execution_count": 10,
   "id": "7e909a0c-84b4-407e-abbe-3f0f833ac57a",
   "metadata": {},
   "outputs": [
    {
     "name": "stdout",
     "output_type": "stream",
     "text": [
      "\\begin{tabular}{lrr}\n",
      "\\hline\n",
      "            &    pmin &   pmax \\\\\n",
      "\\hline\n",
      " $I_{max}$  &  0      &   8    \\\\\n",
      " $C_e$      &  0.2    &   1    \\\\\n",
      " $Su_{max}$ & 40      & 800    \\\\\n",
      " β          &  0.5    &   4    \\\\\n",
      " $P_{max}$  &  0.001  &   0.3  \\\\\n",
      " $T_{lag}$  &  1      &  10    \\\\\n",
      " $K_f$      &  0.01   &   0.1  \\\\\n",
      " $K_s$      &  0.0001 &   0.01 \\\\\n",
      " FM         &  0.1    &   6    \\\\\n",
      "\\hline\n",
      "\\end{tabular}\n"
     ]
    }
   ],
   "source": [
    "print(tabulate.tabulate(data.T, headers=('pmin','pmax'),tablefmt=\"latex_raw\"))"
   ]
  },
  {
   "cell_type": "code",
   "execution_count": null,
   "id": "61b75ce5-6548-4eba-98b6-86882fb5254b",
   "metadata": {},
   "outputs": [],
   "source": []
  }
 ],
 "metadata": {
  "kernelspec": {
   "display_name": "Python 3 (ipykernel)",
   "language": "python",
   "name": "python3"
  },
  "language_info": {
   "codemirror_mode": {
    "name": "ipython",
    "version": 3
   },
   "file_extension": ".py",
   "mimetype": "text/x-python",
   "name": "python",
   "nbconvert_exporter": "python",
   "pygments_lexer": "ipython3",
   "version": "3.10.14"
  }
 },
 "nbformat": 4,
 "nbformat_minor": 5
}
