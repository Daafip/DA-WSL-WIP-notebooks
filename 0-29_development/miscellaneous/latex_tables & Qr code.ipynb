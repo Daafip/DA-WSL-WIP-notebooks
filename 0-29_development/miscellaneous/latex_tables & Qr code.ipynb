{
 "cells": [
  {
   "cell_type": "code",
   "execution_count": 1,
   "id": "ff815457-ecad-4ff5-9560-6876dce695e7",
   "metadata": {},
   "outputs": [],
   "source": [
    "import tabulate\n",
    "import numpy as np"
   ]
  },
  {
   "cell_type": "code",
   "execution_count": 7,
   "id": "118c9e99-9eee-47ab-9adb-6723e7a96e28",
   "metadata": {},
   "outputs": [],
   "source": [
    "p_min_initial = np.array([0, 0.2, 40, .5, .001, 1, .01, .0001, 0.1])\n",
    "p_max_initial = np.array([8, 1, 800, 4, .3, 10, .1, .01, 6])"
   ]
  },
  {
   "cell_type": "code",
   "execution_count": 8,
   "id": "5692e6ee-f579-41d4-960b-7392774193c4",
   "metadata": {},
   "outputs": [],
   "source": [
    "p_names = [\"$I_{max}$\",  \"$C_e$\",  \"$Su_{max}$\", \"β\",  \"$P_{max}$\",  \"$T_{lag}$\",   \"$K_f$\",   \"$K_s$\", \"FM\"]"
   ]
  },
  {
   "cell_type": "code",
   "execution_count": 9,
   "id": "9cdfc0d2-8690-4b20-9a23-52eb4c473e1e",
   "metadata": {},
   "outputs": [],
   "source": [
    "data = np.array([p_names,p_min_initial, p_max_initial])"
   ]
  },
  {
   "cell_type": "code",
   "execution_count": 10,
   "id": "7e909a0c-84b4-407e-abbe-3f0f833ac57a",
   "metadata": {},
   "outputs": [
    {
     "name": "stdout",
     "output_type": "stream",
     "text": [
      "\\begin{tabular}{lrr}\n",
      "\\hline\n",
      "            &    pmin &   pmax \\\\\n",
      "\\hline\n",
      " $I_{max}$  &  0      &   8    \\\\\n",
      " $C_e$      &  0.2    &   1    \\\\\n",
      " $Su_{max}$ & 40      & 800    \\\\\n",
      " β          &  0.5    &   4    \\\\\n",
      " $P_{max}$  &  0.001  &   0.3  \\\\\n",
      " $T_{lag}$  &  1      &  10    \\\\\n",
      " $K_f$      &  0.01   &   0.1  \\\\\n",
      " $K_s$      &  0.0001 &   0.01 \\\\\n",
      " FM         &  0.1    &   6    \\\\\n",
      "\\hline\n",
      "\\end{tabular}\n"
     ]
    }
   ],
   "source": [
    "print(tabulate.tabulate(data.T, headers=('pmin','pmax'),tablefmt=\"latex_raw\"))"
   ]
  },
  {
   "cell_type": "code",
   "execution_count": 3,
   "id": "61b75ce5-6548-4eba-98b6-86882fb5254b",
   "metadata": {},
   "outputs": [],
   "source": [
    "import qrcode"
   ]
  },
  {
   "cell_type": "code",
   "execution_count": 4,
   "id": "0737bd5f-15c6-437f-b673-203963446592",
   "metadata": {},
   "outputs": [],
   "source": [
    "im = qrcode.make(\"https://github.com/Daafip/Msc-Thesis-Notebooks\")"
   ]
  },
  {
   "cell_type": "code",
   "execution_count": 5,
   "id": "2644e4ab-26d7-414c-861d-ee486647c0e5",
   "metadata": {},
   "outputs": [],
   "source": [
    "im.save(\"qr_code.png\")"
   ]
  },
  {
   "cell_type": "code",
   "execution_count": null,
   "id": "18d05486-33a8-4c2a-8028-e6c569a529c7",
   "metadata": {},
   "outputs": [],
   "source": []
  },
  {
   "cell_type": "code",
   "execution_count": 3,
   "id": "a975d24b-0cfd-49d6-a9d6-6e2e500daf26",
   "metadata": {},
   "outputs": [],
   "source": [
    "units_dict = {\n",
    "        'dayl': 's',\n",
    "        'pr': 'mm/d',\n",
    "        'srad': 'W/m2',\n",
    "        'swe': 'mm',\n",
    "        'tasmax': 'degC',\n",
    "        'tasmin': 'degC',\n",
    "        'vp': 'Pa',\n",
    "        'evspsblpot': 'mm/d',\n",
    "        'tas': 'degC',\n",
    "        'streamflow': 'mm/d'}\n"
   ]
  },
  {
   "cell_type": "code",
   "execution_count": 2,
   "id": "89f42465-faab-4fef-abf0-f2a0bf242208",
   "metadata": {},
   "outputs": [],
   "source": [
    "longname_dict = {\n",
    "        'dayl': 'daylight',\n",
    "        'pr': 'precipitation',\n",
    "        'srad': 'mean radiation',\n",
    "        'swe': ' snow water equivalent',\n",
    "        'tasmax': 'temperature max',\n",
    "        'tasmin': 'temperature min',\n",
    "        'vp': 'vapourpressure',\n",
    "        'evspsblpot': 'potential evaporation',\n",
    "        'tas': 'temerature mean',\n",
    "        'streamflow': 'observed streamflow'}"
   ]
  },
  {
   "cell_type": "code",
   "execution_count": 15,
   "id": "74149da2-bcda-4496-a675-198540ebcc94",
   "metadata": {},
   "outputs": [],
   "source": [
    "lst = []\n",
    "for key in longname_dict.keys():\n",
    "    lst.append([key, longname_dict[key],units_dict[key]])"
   ]
  },
  {
   "cell_type": "code",
   "execution_count": 20,
   "id": "4de3e4ad-3a79-40da-9e92-5a995ea239c3",
   "metadata": {},
   "outputs": [
    {
     "name": "stdout",
     "output_type": "stream",
     "text": [
      "| Variable   | Description           | unit   |\n",
      "|------------|-----------------------|--------|\n",
      "| dayl       | daylight              | s      |\n",
      "| pr         | precipitation         | mm/d   |\n",
      "| srad       | mean radiation        | W/m2   |\n",
      "| swe        | snow water equivalent | mm     |\n",
      "| tasmax     | temperature max       | degC   |\n",
      "| tasmin     | temperature min       | degC   |\n",
      "| vp         | vapourpressure        | Pa     |\n",
      "| evspsblpot | potential evaporation | mm/d   |\n",
      "| tas        | temerature mean       | degC   |\n",
      "| streamflow | observed streamflow   | mm/d   |\n"
     ]
    }
   ],
   "source": [
    "print(tabulate.tabulate(lst, headers=('Variable','Description','unit'),tablefmt='github'))"
   ]
  },
  {
   "cell_type": "code",
   "execution_count": null,
   "id": "a215007d-4956-4851-bdc6-a05fe05bed2b",
   "metadata": {},
   "outputs": [],
   "source": []
  }
 ],
 "metadata": {
  "kernelspec": {
   "display_name": "Python 3 (ipykernel)",
   "language": "python",
   "name": "python3"
  },
  "language_info": {
   "codemirror_mode": {
    "name": "ipython",
    "version": 3
   },
   "file_extension": ".py",
   "mimetype": "text/x-python",
   "name": "python",
   "nbconvert_exporter": "python",
   "pygments_lexer": "ipython3",
   "version": "3.12.0"
  }
 },
 "nbformat": 4,
 "nbformat_minor": 5
}
