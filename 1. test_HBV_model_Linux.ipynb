{
 "cells": [
  {
   "cell_type": "markdown",
   "id": "e9cd8d85-eb4a-45d6-925a-e3e770592043",
   "metadata": {},
   "source": [
    "### Import modules and verify they work? "
   ]
  },
  {
   "cell_type": "code",
   "execution_count": 1,
   "id": "ec7e710a-5aa4-40f9-a1cb-151e3cddbe04",
   "metadata": {},
   "outputs": [],
   "source": [
    "# general python\n",
    "import warnings\n",
    "warnings.filterwarnings(\"ignore\", category=UserWarning)\n",
    "import numpy as np\n",
    "import os\n",
    "from pathlib import Path\n",
    "import yaml\n",
    "import pandas as pd\n",
    "import matplotlib.pyplot as plt"
   ]
  },
  {
   "cell_type": "code",
   "execution_count": 2,
   "id": "4569a0f2-4bea-48cc-b5a4-ca5384e368c6",
   "metadata": {},
   "outputs": [],
   "source": [
    "# general eWC\n",
    "import ewatercycle\n",
    "import ewatercycle.models"
   ]
  },
  {
   "cell_type": "code",
   "execution_count": 3,
   "id": "98a3463b-eedd-4f59-a542-6afd58cf6eb4",
   "metadata": {
    "scrolled": true
   },
   "outputs": [],
   "source": [
    "# pip install ewatercycle-HBV==1.3.3"
   ]
  },
  {
   "cell_type": "code",
   "execution_count": 4,
   "id": "c43ba815-aec1-4123-87ff-5043e75a9ba7",
   "metadata": {
    "scrolled": true
   },
   "outputs": [],
   "source": [
    "# pip install HBV==1.0.1"
   ]
  },
  {
   "cell_type": "code",
   "execution_count": 5,
   "id": "ea9c713f-e179-4dc7-ba20-843b83de4518",
   "metadata": {},
   "outputs": [],
   "source": [
    "# for local mode\n",
    "from typing import Type\n",
    "from ewatercycle.base.model import LocalModel\n",
    "from ewatercycle_HBV.model import HBVMethods # Use custom forcing instead\n",
    "from HBV import HBV as HBV_bmi\n",
    "from bmipy import Bmi\n",
    "\n",
    "class LocalModelHBV(LocalModel, HBVMethods):\n",
    "    \"\"\"The HBV eWaterCycle model, with the local BMI.\"\"\"\n",
    "    bmi_class: Type[Bmi] = HBV_bmi"
   ]
  },
  {
   "cell_type": "code",
   "execution_count": 6,
   "id": "6585261f-a0e0-4bfc-bfce-e26acea0e3b0",
   "metadata": {},
   "outputs": [
    {
     "data": {
      "text/plain": [
       "__main__.LocalModelHBV"
      ]
     },
     "execution_count": 6,
     "metadata": {},
     "output_type": "execute_result"
    }
   ],
   "source": [
    "LocalModelHBV"
   ]
  },
  {
   "cell_type": "markdown",
   "id": "111bc65b-8299-43ba-95fd-e92df6b92707",
   "metadata": {},
   "source": [
    "#### set up paths"
   ]
  },
  {
   "cell_type": "code",
   "execution_count": 7,
   "id": "df66893d-b667-4fcc-a841-683f32ed2cc7",
   "metadata": {},
   "outputs": [
    {
     "data": {
      "text/plain": [
       "PosixPath('/home/davidhaasnoot/eWaterCycle-WSL-WIP/Forcing')"
      ]
     },
     "execution_count": 7,
     "metadata": {},
     "output_type": "execute_result"
    }
   ],
   "source": [
    "path = Path.cwd()\n",
    "forcing_path = path / \"Forcing\"\n",
    "forcing_path"
   ]
  },
  {
   "cell_type": "markdown",
   "id": "4787c692-3f9c-402b-9b48-93daeeb47926",
   "metadata": {},
   "source": [
    "#### add parameter info"
   ]
  },
  {
   "cell_type": "code",
   "execution_count": 8,
   "id": "33fbba0f-dbc0-4812-9125-79e0df831e7b",
   "metadata": {},
   "outputs": [],
   "source": [
    "## Array of initial storage terms - we keep these constant for now \n",
    "##              Si,  Su, Sf, Ss\n",
    "s_0 = np.array([0,  100,  0,  5])\n",
    "\n",
    "## Array of parameters min/max bounds as a reference\n",
    "##                      Imax,  Ce,  Sumax, beta,  Pmax,  T_lag,   Kf,   Ks\n",
    "p_min_initial= np.array([0,   0.2,  40,    .5,   .001,   1,     .01,  .0001])\n",
    "p_max_initial = np.array([8,    1,  800,   4,    .3,     10,    .1,   .01])\n",
    "p_names = [\"$I_{max}$\",  \"$C_e$\",  \"$Su_{max}$\", \"β\",  \"$P_{max}$\",  \"$T_{lag}$\",   \"$K_f$\",   \"$K_s$\"]\n",
    "S_names = [\"Interception storage\", \"Unsaturated Rootzone Storage\", \"Fastflow storage\", \"Groundwater storage\"]\n",
    "param_names = [\"Imax\",\"Ce\",  \"Sumax\", \"beta\",  \"Pmax\",  \"Tlag\",   \"Kf\",   \"Ks\"]\n",
    "\n",
    "# set initial as mean of max,min\n",
    "par_0 = (p_min_initial + p_max_initial)/2"
   ]
  },
  {
   "cell_type": "code",
   "execution_count": 9,
   "id": "03aea008-87ce-4d09-8d01-f12dfe6bb116",
   "metadata": {},
   "outputs": [],
   "source": [
    "experiment_start_date = \"1997-08-01T00:00:00Z\"\n",
    "experiment_end_date = \"2000-08-31T00:00:00Z\"\n",
    "HRU_id = 2479155\n",
    "alpha = 1.2626"
   ]
  },
  {
   "cell_type": "code",
   "execution_count": 10,
   "id": "41855c32-2650-403e-bcad-332eab6c1ec4",
   "metadata": {},
   "outputs": [],
   "source": [
    "from ewatercycle_HBV.forcing import HBVForcing"
   ]
  },
  {
   "cell_type": "code",
   "execution_count": 11,
   "id": "6249ec9f-8ff2-4181-ac6f-cac309d8cf72",
   "metadata": {},
   "outputs": [],
   "source": [
    "test_forcing = HBVForcing(start_time = experiment_start_date,\n",
    "                          end_time = experiment_end_date,\n",
    "                          directory = forcing_path,\n",
    "                          forcing_file = f'0{HRU_id}_lump_cida_forcing_leap.txt',\n",
    "                          alpha= alpha\n",
    "                          )"
   ]
  },
  {
   "cell_type": "code",
   "execution_count": 12,
   "id": "f5962203-87d3-45dc-acf8-1354522e5fe1",
   "metadata": {},
   "outputs": [],
   "source": [
    "ds = test_forcing.from_camels_txt()"
   ]
  },
  {
   "cell_type": "markdown",
   "id": "7ab1b4e5-c1bf-48d1-a46a-19a7aeb8867c",
   "metadata": {},
   "source": [
    "#### Can also run locally when developing - v0.1.1. here\n",
    "```py\n",
    "from ewatercycle.container import ContainerImage\n",
    "LeakyBucket(forcing=forcing, bmi_image=ContainerImage(\"local_image:latest\"))\n",
    "```"
   ]
  },
  {
   "cell_type": "code",
   "execution_count": 13,
   "id": "9aad16e2-272a-4fe3-a048-0801cbfa4a52",
   "metadata": {
    "editable": true,
    "slideshow": {
     "slide_type": ""
    },
    "tags": []
   },
   "outputs": [],
   "source": [
    "from ewatercycle.container import ContainerImage\n",
    "local_model = LocalModelHBV(forcing=test_forcing)"
   ]
  },
  {
   "cell_type": "markdown",
   "id": "b6f86ebb-37ed-4db7-b011-971b8eafbbb0",
   "metadata": {},
   "source": [
    "need to  add a local container to run"
   ]
  },
  {
   "cell_type": "code",
   "execution_count": 14,
   "id": "a6c23e65-f652-444b-9782-238b8ad957a7",
   "metadata": {},
   "outputs": [],
   "source": [
    "config_file, _ = local_model.setup(\n",
    "            parameters=','.join([str(p) for p in par_0]),\n",
    "            initial_storage=','.join([str(s) for s in s_0]),\n",
    "           )"
   ]
  },
  {
   "cell_type": "code",
   "execution_count": 15,
   "id": "33bec934-bd45-4274-9204-3c762564434c",
   "metadata": {},
   "outputs": [],
   "source": [
    "local_model.initialize(config_file)"
   ]
  },
  {
   "cell_type": "code",
   "execution_count": 16,
   "id": "5c67e834-9232-41a3-9e19-216c742e83da",
   "metadata": {},
   "outputs": [],
   "source": [
    "Q_m = []\n",
    "time = []\n",
    "while local_model.time < local_model.end_time:\n",
    "    local_model.update()\n",
    "    Q_m.append(local_model.get_value(\"Q_m\"))\n",
    "    time.append(local_model.time_as_datetime.date())"
   ]
  },
  {
   "cell_type": "code",
   "execution_count": 17,
   "id": "d6d843b5-08d7-44da-b2ff-098b71091a9c",
   "metadata": {},
   "outputs": [
    {
     "data": {
      "text/plain": [
       "[<matplotlib.lines.Line2D at 0x7f14589d6080>]"
      ]
     },
     "execution_count": 17,
     "metadata": {},
     "output_type": "execute_result"
    },
    {
     "data": {
      "image/png": "[encoded data removed]",
      "text/plain": [
       "<Figure size 640x480 with 1 Axes>"
      ]
     },
     "metadata": {},
     "output_type": "display_data"
    }
   ],
   "source": [
    "plt.plot(time[:-10], Q_m[:-10])"
   ]
  },
  {
   "cell_type": "code",
   "execution_count": 18,
   "id": "1ff5c18f-7f4d-477b-9dcf-ce85c94c3185",
   "metadata": {},
   "outputs": [],
   "source": [
    "local_model.finalize()"
   ]
  },
  {
   "cell_type": "markdown",
   "id": "b944e1b8-e225-483d-b39e-74ed4dea37cf",
   "metadata": {},
   "source": [
    "# Containerised"
   ]
  },
  {
   "cell_type": "code",
   "execution_count": 19,
   "id": "555a3c69-953c-403b-a259-125aa8370dd8",
   "metadata": {},
   "outputs": [],
   "source": [
    "from ewatercycle.models import HBV"
   ]
  },
  {
   "cell_type": "code",
   "execution_count": 20,
   "id": "d62a1be2-e5a1-4c82-aaf0-9ab2eeea14af",
   "metadata": {},
   "outputs": [],
   "source": [
    "image_link = \"ghcr.io/daafip/hbv-bmi-grpc4bmi:v1.2.0\""
   ]
  },
  {
   "cell_type": "code",
   "execution_count": 21,
   "id": "e58785c1-fe03-4f4f-b00c-ee5754de1bf5",
   "metadata": {},
   "outputs": [],
   "source": [
    "from ewatercycle.container import ContainerImage\n",
    "model = HBV(forcing=test_forcing,bmi_image=ContainerImage(image_link))"
   ]
  },
  {
   "cell_type": "code",
   "execution_count": 22,
   "id": "ebbd898f-b3cc-4d03-8050-21067d31c1e8",
   "metadata": {},
   "outputs": [],
   "source": [
    "config_file, _ = model.setup(\n",
    "            parameters=','.join([str(p) for p in par_0]),\n",
    "            initial_storage=','.join([str(s) for s in s_0]),\n",
    "           )"
   ]
  },
  {
   "cell_type": "code",
   "execution_count": 23,
   "id": "ba14b408-e446-45aa-b406-91dc35f40bc1",
   "metadata": {},
   "outputs": [],
   "source": [
    "model.initialize(config_file)"
   ]
  },
  {
   "cell_type": "code",
   "execution_count": 24,
   "id": "579fe3d8-0418-4e76-9d66-9c1a938812cc",
   "metadata": {},
   "outputs": [],
   "source": [
    "Q_m = []\n",
    "time = []\n",
    "while model.time < model.end_time:\n",
    "    model.update()\n",
    "    Q_m.append(model.get_value(\"Q_m\"))\n",
    "    time.append(pd.Timestamp(model.time_as_datetime.date()))"
   ]
  },
  {
   "cell_type": "code",
   "execution_count": 25,
   "id": "a6fd6178-1059-497a-a91f-dd0fa983df2a",
   "metadata": {},
   "outputs": [],
   "source": [
    "model.finalize()"
   ]
  },
  {
   "cell_type": "code",
   "execution_count": 26,
   "id": "ccde9dca-258d-409c-a602-d4abda553b32",
   "metadata": {},
   "outputs": [],
   "source": [
    "df = pd.DataFrame(data=Q_m,columns=[\"Modeled discharge\"],index=time)"
   ]
  },
  {
   "cell_type": "code",
   "execution_count": 27,
   "id": "5a1fa61b-97ec-46a7-9fbd-65d415568371",
   "metadata": {},
   "outputs": [],
   "source": [
    "Q_m_in_ref = np.loadtxt(\"Q_m_out_ref.txt\")"
   ]
  },
  {
   "cell_type": "code",
   "execution_count": 28,
   "id": "a39c2e98-30d0-4658-adbd-b2feae7062f4",
   "metadata": {},
   "outputs": [
    {
     "data": {
      "text/plain": [
       "<matplotlib.legend.Legend at 0x7f14591f1e70>"
      ]
     },
     "execution_count": 28,
     "metadata": {},
     "output_type": "execute_result"
    },
    {
     "data": {
      "image/png": "[encoded data removed]",
      "text/plain": [
       "<Figure size 640x480 with 1 Axes>"
      ]
     },
     "metadata": {},
     "output_type": "display_data"
    }
   ],
   "source": [
    "fig, ax = plt.subplots(1,1)\n",
    "df.plot(ax=ax,label=\"Modeled discharge HBV-bmi\")\n",
    "# ax.plot(df.index, Q_m_in_ref[1:],ls=\"--\",label=\"Modelled reference Q\");\n",
    "# ds[\"Q\"].plot(ax=ax,lw=0,marker=\"*\",ms=2.5,zorder=-1,label=\"Observations\")\n",
    "ax.legend(bbox_to_anchor=(1,1))"
   ]
  },
  {
   "cell_type": "code",
   "execution_count": null,
   "id": "237dc2dd-d1e5-4659-8a66-14ae1187a791",
   "metadata": {},
   "outputs": [],
   "source": []
  }
 ],
 "metadata": {
  "kernelspec": {
   "display_name": "Python 3 (ipykernel)",
   "language": "python",
   "name": "python3"
  },
  "language_info": {
   "codemirror_mode": {
    "name": "ipython",
    "version": 3
   },
   "file_extension": ".py",
   "mimetype": "text/x-python",
   "name": "python",
   "nbconvert_exporter": "python",
   "pygments_lexer": "ipython3",
   "version": "3.10.13"
  }
 },
 "nbformat": 4,
 "nbformat_minor": 5
}
