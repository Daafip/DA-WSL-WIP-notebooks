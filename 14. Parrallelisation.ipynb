{
 "cells": [
  {
   "cell_type": "markdown",
   "id": "e9cd8d85-eb4a-45d6-925a-e3e770592043",
   "metadata": {},
   "source": [
    "### Import modules and verify they work? "
   ]
  },
  {
   "cell_type": "code",
   "execution_count": 1,
   "id": "ec7e710a-5aa4-40f9-a1cb-151e3cddbe04",
   "metadata": {},
   "outputs": [],
   "source": [
    "# general python\n",
    "import warnings\n",
    "warnings.filterwarnings(\"ignore\", category=UserWarning)\n",
    "import numpy as np\n",
    "import os\n",
    "from pathlib import Path\n",
    "import yaml\n",
    "import pandas as pd\n",
    "import matplotlib.pyplot as plt\n",
    "from datetime import datetime\n",
    "import scipy\n",
    "import xarray as xr\n",
    "from tqdm import tqdm\n",
    "import glob\n",
    "from devtools import pprint\n",
    "from tqdm import tqdm"
   ]
  },
  {
   "cell_type": "code",
   "execution_count": 74,
   "id": "0222199d-f1eb-414d-b25f-bfcccbbc2979",
   "metadata": {},
   "outputs": [
    {
     "name": "stdout",
     "output_type": "stream",
     "text": [
      "Collecting git+https://github.com/Daafip/ewatercycle-test-parallelisation@main\n",
      "  Cloning https://github.com/Daafip/ewatercycle-test-parallelisation (to revision main) to /tmp/pip-req-build-lwapcxrd\n",
      "  Running command git clone --filter=blob:none --quiet https://github.com/Daafip/ewatercycle-test-parallelisation /tmp/pip-req-build-lwapcxrd\n",
      "^C\n",
      "\u001b[31mERROR: Operation cancelled by user\u001b[0m\u001b[31m\n",
      "\u001b[0mNote: you may need to restart the kernel to use updated packages.\n"
     ]
    }
   ],
   "source": [
    "pip install git+https://github.com/Daafip/ewatercycle-test-parallelisation@main"
   ]
  },
  {
   "cell_type": "markdown",
   "id": "6dce1e11-7b68-4b30-a949-f0d8b5e3719c",
   "metadata": {},
   "source": [
    "#### import DA function:"
   ]
  },
  {
   "cell_type": "code",
   "execution_count": 9,
   "id": "f4d26ea7-f699-427b-b3a4-9d78d566e711",
   "metadata": {},
   "outputs": [],
   "source": [
    "import importlib.util\n",
    "\n",
    "def module_from_file(module_name, file_path):\n",
    "    spec = importlib.util.spec_from_file_location(module_name, file_path)\n",
    "    module = importlib.util.module_from_spec(spec)\n",
    "    spec.loader.exec_module(module)\n",
    "    return module"
   ]
  },
  {
   "cell_type": "code",
   "execution_count": 10,
   "id": "a3224ab2-e29f-422d-b4ed-3368d95e364a",
   "metadata": {},
   "outputs": [],
   "source": [
    "DA = module_from_file(\"DA\",r'../eWaterCycle-DA/src/eWaterCycle_DA/DA.py')"
   ]
  },
  {
   "cell_type": "code",
   "execution_count": 11,
   "id": "107e551f-371f-4938-959a-a697e54b11f8",
   "metadata": {},
   "outputs": [],
   "source": [
    "n_particles = 3"
   ]
  },
  {
   "cell_type": "code",
   "execution_count": 12,
   "id": "507275ac-4746-419f-b796-a110bc06de62",
   "metadata": {},
   "outputs": [],
   "source": [
    "ensemble = DA.Ensemble(N=n_particles)\n",
    "ensemble.setup()"
   ]
  },
  {
   "cell_type": "code",
   "execution_count": 13,
   "id": "da1ea51c-84c3-431d-aa1c-41b7a994718d",
   "metadata": {},
   "outputs": [],
   "source": [
    "array_random_num = np.array([[np.random.random() for i in range(len(p_max_initial))] for i in range(n_particles)])\n",
    "p_intial = p_min_initial + array_random_num * (p_max_initial-p_min_initial)"
   ]
  },
  {
   "cell_type": "code",
   "execution_count": 14,
   "id": "af32a60e-4c0d-4c86-a473-76a3358bc374",
   "metadata": {},
   "outputs": [],
   "source": [
    "# values wihch you \n",
    "setup_kwargs_lst = []\n",
    "for index in range(n_particles):\n",
    "    setup_kwargs_lst.append({'parameters':','.join([str(p) for p in p_intial[index]]), \n",
    "                            'initial_storage':','.join([str(s) for s in s_0]),\n",
    "                             })"
   ]
  },
  {
   "cell_type": "code",
   "execution_count": 15,
   "id": "ca0b485b-43fa-4645-b7d4-34031404a39d",
   "metadata": {
    "scrolled": true
   },
   "outputs": [],
   "source": [
    "# this initializes the models for all ensemble members. \n",
    "ensemble.initialize(model_name=[\"HBV\"]*n_particles,\n",
    "                    forcing=[camels_forcing]*n_particles,\n",
    "                    setup_kwargs=setup_kwargs_lst) "
   ]
  },
  {
   "cell_type": "markdown",
   "id": "40b3a9ac-13b0-48fc-beba-84e3ba046c90",
   "metadata": {},
   "source": [
    "if fails to initialize, run in cmd:\n",
    "[link1](https://stackoverflow.com/questions/65272764/ports-are-not-available-listen-tcp-0-0-0-0-50070-bind-an-attempt-was-made-to)\n",
    "[link2](https://asheroto.medium.com/docker-error-an-attempt-was-made-to-access-a-socket-in-a-way-forbidden-by-its-access-permissions-15a444ab217b)\n",
    "```bash\n",
    "net stop winnat\n",
    "netsh int ipv4 set dynamic tcp start=49152 num=16384\n",
    "netsh int ipv6 set dynamic tcp start=49152 num=16384\n",
    "net start winnat\n",
    "````"
   ]
  },
  {
   "cell_type": "code",
   "execution_count": 16,
   "id": "93322426-59b4-47aa-8d0d-539fe1290a03",
   "metadata": {},
   "outputs": [],
   "source": [
    "# # #### run if fails \n",
    "# ensemble.finalize()"
   ]
  },
  {
   "cell_type": "markdown",
   "id": "881d3579-aa0b-4467-81a3-6bc56b22624a",
   "metadata": {},
   "source": [
    "## Time current update step"
   ]
  },
  {
   "cell_type": "code",
   "execution_count": 22,
   "id": "1797290f-8fe6-4eac-a611-ef176888dd43",
   "metadata": {},
   "outputs": [
    {
     "name": "stdout",
     "output_type": "stream",
     "text": [
      "CPU times: user 0 ns, sys: 2.92 ms, total: 2.92 ms\n",
      "Wall time: 9.7 ms\n"
     ]
    }
   ],
   "source": [
    "%%time\n",
    "ensemble.update(assimilate=False)"
   ]
  },
  {
   "cell_type": "code",
   "execution_count": 24,
   "id": "f5fe0055-5e7b-483f-b11a-053988c23d3e",
   "metadata": {},
   "outputs": [],
   "source": [
    "def H(Z):\n",
    "    if len(Z) == 13:\n",
    "        return Z[-1] \n",
    "    else: \n",
    "        raise SyntaxWarning(f\"Length of statevector should be 9 but is {len(Z)}\")"
   ]
  },
  {
   "cell_type": "code",
   "execution_count": 25,
   "id": "6c77d003-2305-495c-b9b9-82b2fd5984f1",
   "metadata": {},
   "outputs": [],
   "source": [
    "ensemble.initialize_da_method(ensemble_method_name = \"PF\", \n",
    "                              hyper_parameters = {\n",
    "                                               'like_sigma_weights' : 0.05,\n",
    "                                               'like_sigma_state_vector' : 0.01,\n",
    "                                                 },\n",
    "                              \n",
    "                              state_vector_variables = \"all\", # the next three are keyword arguments but are needed. \n",
    "                              observation_path = ds_obs_dir,\n",
    "                              observed_variable_name = \"Q\",\n",
    "                              measurement_operator = H, \n",
    "                           \n",
    "                            )"
   ]
  },
  {
   "cell_type": "code",
   "execution_count": 26,
   "id": "48d72aa4-bcb4-4c85-af3d-f9b6e3bc3857",
   "metadata": {},
   "outputs": [
    {
     "name": "stdout",
     "output_type": "stream",
     "text": [
      "CPU times: user 61.9 ms, sys: 5.27 ms, total: 67.2 ms\n",
      "Wall time: 240 ms\n"
     ]
    }
   ],
   "source": [
    "%%time\n",
    "ensemble.update(assimilate=True)"
   ]
  },
  {
   "cell_type": "markdown",
   "id": "16e46e19-c47f-42ac-9c6f-991e189fbe39",
   "metadata": {},
   "source": [
    "### Most overhead in the assimilate step, but for other models should be useful"
   ]
  },
  {
   "cell_type": "code",
   "execution_count": 27,
   "id": "bbe590b9-fc60-4883-a0b0-41e476eb296c",
   "metadata": {},
   "outputs": [],
   "source": [
    "import numba"
   ]
  },
  {
   "cell_type": "code",
   "execution_count": 51,
   "id": "d7ecc7d5-b519-4b85-a546-8f65f4291a03",
   "metadata": {},
   "outputs": [
    {
     "name": "stdout",
     "output_type": "stream",
     "text": [
      "CPU times: user 2.87 ms, sys: 844 µs, total: 3.71 ms\n",
      "Wall time: 10.9 ms\n"
     ]
    }
   ],
   "source": [
    "%%time\n",
    "for ensemble_member in ensemble.ensemble_list:\n",
    "    ensemble_member.update()"
   ]
  },
  {
   "cell_type": "markdown",
   "id": "e3213793-2443-492d-a548-0bc66a99b2c8",
   "metadata": {},
   "source": [
    "Numba not working as dependant on other code"
   ]
  },
  {
   "cell_type": "code",
   "execution_count": 52,
   "id": "a3a6ac82-3212-450b-841e-c16c198ec6ef",
   "metadata": {},
   "outputs": [],
   "source": [
    "# numba.__version__"
   ]
  },
  {
   "cell_type": "code",
   "execution_count": 53,
   "id": "78075adf-c872-4fa1-91c0-e92e9d5b2830",
   "metadata": {},
   "outputs": [],
   "source": [
    "# from numba import jit, prange"
   ]
  },
  {
   "cell_type": "code",
   "execution_count": 54,
   "id": "b6eb054a-103a-46dc-a6cf-511302eba9fb",
   "metadata": {},
   "outputs": [],
   "source": [
    "# @jit(nopython=False, nogil=False)\n",
    "# def parallel_update(ensemble):\n",
    "#     for i in prange(ensemble.N):\n",
    "#         ensemble.ensemble_list[i].update()"
   ]
  },
  {
   "cell_type": "code",
   "execution_count": 55,
   "id": "4722c757-56d0-4e10-b324-e73b803c269d",
   "metadata": {},
   "outputs": [],
   "source": [
    "# parallel_update(ensemble)"
   ]
  },
  {
   "cell_type": "code",
   "execution_count": 56,
   "id": "ed1a728e-db25-42e2-a630-9f9b00c15f96",
   "metadata": {},
   "outputs": [],
   "source": [
    "from dask import delayed"
   ]
  },
  {
   "cell_type": "code",
   "execution_count": 67,
   "id": "37887ff4-0562-4483-a3c0-b55dffb43af8",
   "metadata": {},
   "outputs": [],
   "source": [
    "@delayed\n",
    "def update_member(ensemble, i):\n",
    "    ensemble.ensemble_list[i].update()\n",
    "    return ensemble.ensemble_list[i].get_value(\"Q\")"
   ]
  },
  {
   "cell_type": "code",
   "execution_count": 68,
   "id": "03e28b16-a7cd-4693-9b10-590381823858",
   "metadata": {},
   "outputs": [],
   "source": [
    "@delayed\n",
    "def gather(*args):\n",
    "    return list(args)"
   ]
  },
  {
   "cell_type": "code",
   "execution_count": 69,
   "id": "846a50e2-31b4-4a09-a50b-6c39f1ff772e",
   "metadata": {},
   "outputs": [],
   "source": [
    "gathered = gather(*[update_member(ensemble,i) for i in range(ensemble.N)])"
   ]
  },
  {
   "cell_type": "code",
   "execution_count": 73,
   "id": "4a8d5bdb-658a-4096-8196-8a1ceeb98e08",
   "metadata": {},
   "outputs": [
    {
     "name": "stdout",
     "output_type": "stream",
     "text": [
      "5.62 ms ± 216 µs per loop (mean ± std. dev. of 7 runs, 100 loops each)\n"
     ]
    }
   ],
   "source": [
    "%%timeit\n",
    "gathered.compute()"
   ]
  },
  {
   "cell_type": "markdown",
   "id": "64ae9ea9-c292-459b-80ab-23ca1bfaa01d",
   "metadata": {},
   "source": [
    "## Run"
   ]
  },
  {
   "cell_type": "code",
   "execution_count": 28,
   "id": "443f7de0-31ae-470e-a6df-03ebb2e71dc4",
   "metadata": {},
   "outputs": [
    {
     "name": "stderr",
     "output_type": "stream",
     "text": [
      "100%|███████████████████████████████████████████████████████████████████████████████| 1127/1127 [29:41<00:00,  1.58s/it]\n"
     ]
    }
   ],
   "source": [
    "# n_timesteps = int((ref_model.end_time - ref_model.start_time) /  ref_model.time_step)\n",
    "\n",
    "# time = []\n",
    "# lst_state_vector = []\n",
    "# lst_Q = [] \n",
    "# for _ in tqdm(range(n_timesteps)):    \n",
    "#     time.append(pd.Timestamp(ref_model.time_as_datetime.date()))\n",
    "#     ensemble.update(assimilate=True)\n",
    "#     lst_state_vector.append(ensemble.get_state_vector())\n",
    "#     lst_Q.append(ensemble.get_value(\"Q\").flatten())\n",
    "#     # TODO: adjust so that tLag ? currently still often 3\n",
    "\n",
    "# # end model - IMPORTANT! when working with dockers\n",
    "# ensemble.finalize()"
   ]
  },
  {
   "cell_type": "code",
   "execution_count": 29,
   "id": "b7cf4cfd-f3b4-483b-844b-613c935b95c3",
   "metadata": {},
   "outputs": [],
   "source": [
    "# Q_m_arr = np.array(lst_Q).T\n",
    "# state_vector_arr = np.array(lst_state_vector)"
   ]
  },
  {
   "cell_type": "markdown",
   "id": "e45e2221-b067-456e-a2fe-2e6dd4a0eb1b",
   "metadata": {},
   "source": [
    "### process the numpy data into easily acessed data types"
   ]
  },
  {
   "cell_type": "code",
   "execution_count": null,
   "id": "92b0d22d-5fdf-4188-b07b-7ee1132a6df6",
   "metadata": {},
   "outputs": [],
   "source": []
  }
 ],
 "metadata": {
  "kernelspec": {
   "display_name": "Python 3 (ipykernel)",
   "language": "python",
   "name": "python3"
  },
  "language_info": {
   "codemirror_mode": {
    "name": "ipython",
    "version": 3
   },
   "file_extension": ".py",
   "mimetype": "text/x-python",
   "name": "python",
   "nbconvert_exporter": "python",
   "pygments_lexer": "ipython3",
   "version": "3.10.13"
  }
 },
 "nbformat": 4,
 "nbformat_minor": 5
}
