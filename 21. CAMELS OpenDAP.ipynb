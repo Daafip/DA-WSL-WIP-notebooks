{
 "cells": [
  {
   "cell_type": "code",
   "execution_count": 1,
   "id": "ec7e710a-5aa4-40f9-a1cb-151e3cddbe04",
   "metadata": {},
   "outputs": [],
   "source": [
    "# general python\n",
    "import warnings\n",
    "warnings.filterwarnings(\"ignore\", category=UserWarning)\n",
    "import numpy as np\n",
    "import os\n",
    "from pathlib import Path\n",
    "import yaml\n",
    "import pandas as pd\n",
    "import matplotlib.pyplot as plt\n",
    "from datetime import datetime\n",
    "import scipy\n",
    "import xarray as xr\n",
    "from tqdm import tqdm\n",
    "import glob\n",
    "# from devtools import pprint\n",
    "from rich import print\n",
    "from tqdm import tqdm"
   ]
  },
  {
   "cell_type": "code",
   "execution_count": 2,
   "id": "4569a0f2-4bea-48cc-b5a4-ca5384e368c6",
   "metadata": {},
   "outputs": [],
   "source": [
    "# general eWC\n",
    "import ewatercycle\n",
    "import ewatercycle.forcing\n",
    "import ewatercycle.models"
   ]
  },
  {
   "cell_type": "markdown",
   "id": "111bc65b-8299-43ba-95fd-e92df6b92707",
   "metadata": {},
   "source": [
    "#### set up paths"
   ]
  },
  {
   "cell_type": "code",
   "execution_count": 3,
   "id": "df66893d-b667-4fcc-a841-683f32ed2cc7",
   "metadata": {},
   "outputs": [
    {
     "data": {
      "text/plain": [
       "PosixPath('/home/davidhaasnoot/eWaterCycle-WSL-WIP/Forcing')"
      ]
     },
     "execution_count": 3,
     "metadata": {},
     "output_type": "execute_result"
    }
   ],
   "source": [
    "path = Path.cwd()\n",
    "forcing_path = path / \"Forcing\"\n",
    "observations_path = path / \"Observations\"\n",
    "figure_path = path / \"Figures\"\n",
    "output_path = path / \"Output\"\n",
    "forcing_path"
   ]
  },
  {
   "cell_type": "markdown",
   "id": "4787c692-3f9c-402b-9b48-93daeeb47926",
   "metadata": {},
   "source": [
    "#### add parameter info"
   ]
  },
  {
   "cell_type": "code",
   "execution_count": 39,
   "id": "03aea008-87ce-4d09-8d01-f12dfe6bb116",
   "metadata": {},
   "outputs": [],
   "source": [
    "experiment_start_date = \"1997-08-01T00:00:00Z\"\n",
    "experiment_end_date = \"2005-09-01T00:00:00Z\"\n",
    "HRU_id = 3439000"
   ]
  },
  {
   "cell_type": "code",
   "execution_count": 40,
   "id": "41855c32-2650-403e-bcad-332eab6c1ec4",
   "metadata": {},
   "outputs": [],
   "source": [
    "from ewatercycle.forcing import sources"
   ]
  },
  {
   "cell_type": "code",
   "execution_count": 41,
   "id": "c4960e1a-b061-46ee-ba9d-bc882950222b",
   "metadata": {},
   "outputs": [
    {
     "data": {
      "text/html": [
       "<pre style=\"white-space:pre;overflow-x:auto;line-height:normal;font-family:Menlo,'DejaVu Sans Mono',consolas,'Courier New',monospace\"><span style=\"color: #000080; text-decoration-color: #000080\">ForcingSources</span><span style=\"color: #000080; text-decoration-color: #000080; font-weight: bold\">[</span>\n",
       "<span style=\"color: #008000; text-decoration-color: #008000\">    </span><span style=\"color: #008000; text-decoration-color: #008000\">\"DistributedMakkinkForcing\"</span><span style=\"color: #008000; text-decoration-color: #008000\">,</span>\n",
       "<span style=\"color: #008000; text-decoration-color: #008000\">    </span><span style=\"color: #008000; text-decoration-color: #008000\">\"DistributedUserForcing\"</span><span style=\"color: #008000; text-decoration-color: #008000\">,</span>\n",
       "<span style=\"color: #008000; text-decoration-color: #008000\">    </span><span style=\"color: #008000; text-decoration-color: #008000\">\"GenericDistributedForcing\"</span><span style=\"color: #008000; text-decoration-color: #008000\">,</span>\n",
       "<span style=\"color: #008000; text-decoration-color: #008000\">    </span><span style=\"color: #008000; text-decoration-color: #008000\">\"GenericLumpedForcing\"</span><span style=\"color: #008000; text-decoration-color: #008000\">,</span>\n",
       "<span style=\"color: #008000; text-decoration-color: #008000\">    </span><span style=\"color: #008000; text-decoration-color: #008000\">\"HBVForcing\"</span><span style=\"color: #008000; text-decoration-color: #008000\">,</span>\n",
       "<span style=\"color: #008000; text-decoration-color: #008000\">    </span><span style=\"color: #008000; text-decoration-color: #008000\">\"LumpedCaravanForcing\"</span><span style=\"color: #008000; text-decoration-color: #008000\">,</span>\n",
       "<span style=\"color: #008000; text-decoration-color: #008000\">    </span><span style=\"color: #008000; text-decoration-color: #008000\">\"LumpedMakkinkForcing\"</span><span style=\"color: #008000; text-decoration-color: #008000\">,</span>\n",
       "<span style=\"color: #008000; text-decoration-color: #008000\">    </span><span style=\"color: #008000; text-decoration-color: #008000\">\"LumpedUserForcing\"</span><span style=\"color: #008000; text-decoration-color: #008000\">,</span>\n",
       "<span style=\"color: #000080; text-decoration-color: #000080; font-weight: bold\">]</span>\n",
       "</pre>\n"
      ],
      "text/plain": [
       "\u001b[34mForcingSources\u001b[0m\u001b[1;34m[\u001b[0m\n",
       "\u001b[32m    \u001b[0m\u001b[32m\"DistributedMakkinkForcing\"\u001b[0m\u001b[32m,\u001b[0m\n",
       "\u001b[32m    \u001b[0m\u001b[32m\"DistributedUserForcing\"\u001b[0m\u001b[32m,\u001b[0m\n",
       "\u001b[32m    \u001b[0m\u001b[32m\"GenericDistributedForcing\"\u001b[0m\u001b[32m,\u001b[0m\n",
       "\u001b[32m    \u001b[0m\u001b[32m\"GenericLumpedForcing\"\u001b[0m\u001b[32m,\u001b[0m\n",
       "\u001b[32m    \u001b[0m\u001b[32m\"HBVForcing\"\u001b[0m\u001b[32m,\u001b[0m\n",
       "\u001b[32m    \u001b[0m\u001b[32m\"LumpedCaravanForcing\"\u001b[0m\u001b[32m,\u001b[0m\n",
       "\u001b[32m    \u001b[0m\u001b[32m\"LumpedMakkinkForcing\"\u001b[0m\u001b[32m,\u001b[0m\n",
       "\u001b[32m    \u001b[0m\u001b[32m\"LumpedUserForcing\"\u001b[0m\u001b[32m,\u001b[0m\n",
       "\u001b[1;34m]\u001b[0m\n"
      ]
     },
     "metadata": {},
     "output_type": "display_data"
    }
   ],
   "source": [
    "print(sources)"
   ]
  },
  {
   "cell_type": "code",
   "execution_count": 42,
   "id": "7f27dbd4-421d-4110-bac3-ecb832a97d97",
   "metadata": {},
   "outputs": [],
   "source": [
    "caravan_forcing = sources['LumpedCaravanForcing'].retrieve(start_time = experiment_start_date,\n",
    "                                                          end_time = experiment_end_date,\n",
    "                                                          directory = forcing_path / \"Camels\",\n",
    "                                                          basin_id = f\"camels_0{HRU_id}\",\n",
    "                                                          )"
   ]
  },
  {
   "cell_type": "code",
   "execution_count": 43,
   "id": "b38c72f0-db62-40ce-a240-efaa7d197619",
   "metadata": {
    "scrolled": true
   },
   "outputs": [
    {
     "data": {
      "text/html": [
       "<pre style=\"white-space:pre;overflow-x:auto;line-height:normal;font-family:Menlo,'DejaVu Sans Mono',consolas,'Courier New',monospace\"><span style=\"color: #800080; text-decoration-color: #800080; font-weight: bold\">LumpedCaravanForcing</span><span style=\"font-weight: bold\">(</span>\n",
       "    <span style=\"color: #808000; text-decoration-color: #808000\">start_time</span>=<span style=\"color: #008000; text-decoration-color: #008000\">'1997-08-01T00:00:00Z'</span>,\n",
       "    <span style=\"color: #808000; text-decoration-color: #808000\">end_time</span>=<span style=\"color: #008000; text-decoration-color: #008000\">'2005-09-01T00:00:00Z'</span>,\n",
       "    <span style=\"color: #808000; text-decoration-color: #808000\">directory</span>=<span style=\"color: #800080; text-decoration-color: #800080; font-weight: bold\">PosixPath</span><span style=\"font-weight: bold\">(</span><span style=\"color: #008000; text-decoration-color: #008000\">'/home/davidhaasnoot/eWaterCycle-WSL-WIP/Forcing/Camels'</span><span style=\"font-weight: bold\">)</span>,\n",
       "    <span style=\"color: #808000; text-decoration-color: #808000\">shape</span>=<span style=\"color: #800080; text-decoration-color: #800080; font-weight: bold\">PosixPath</span><span style=\"font-weight: bold\">(</span><span style=\"color: #008000; text-decoration-color: #008000\">'/home/davidhaasnoot/eWaterCycle-WSL-WIP/Forcing/Camels/shapefiles/camels_03439000.shp'</span><span style=\"font-weight: bold\">)</span>,\n",
       "    <span style=\"color: #808000; text-decoration-color: #808000\">filenames</span>=<span style=\"font-weight: bold\">{</span>\n",
       "        <span style=\"color: #008000; text-decoration-color: #008000\">'tasmin'</span>: <span style=\"color: #008000; text-decoration-color: #008000\">'camels_03439000_1997-08-01T00:00:00Z_2005-09-01T00:00:00Z_tasmin.nc'</span>,\n",
       "        <span style=\"color: #008000; text-decoration-color: #008000\">'pr'</span>: <span style=\"color: #008000; text-decoration-color: #008000\">'camels_03439000_1997-08-01T00:00:00Z_2005-09-01T00:00:00Z_pr.nc'</span>,\n",
       "        <span style=\"color: #008000; text-decoration-color: #008000\">'tasmax'</span>: <span style=\"color: #008000; text-decoration-color: #008000\">'camels_03439000_1997-08-01T00:00:00Z_2005-09-01T00:00:00Z_tasmax.nc'</span>,\n",
       "        <span style=\"color: #008000; text-decoration-color: #008000\">'Q'</span>: <span style=\"color: #008000; text-decoration-color: #008000\">'camels_03439000_1997-08-01T00:00:00Z_2005-09-01T00:00:00Z_Q.nc'</span>,\n",
       "        <span style=\"color: #008000; text-decoration-color: #008000\">'tas'</span>: <span style=\"color: #008000; text-decoration-color: #008000\">'camels_03439000_1997-08-01T00:00:00Z_2005-09-01T00:00:00Z_tas.nc'</span>,\n",
       "        <span style=\"color: #008000; text-decoration-color: #008000\">'evspsblpot'</span>: <span style=\"color: #008000; text-decoration-color: #008000\">'camels_03439000_1997-08-01T00:00:00Z_2005-09-01T00:00:00Z_evspsblpot.nc'</span>\n",
       "    <span style=\"font-weight: bold\">}</span>\n",
       "<span style=\"font-weight: bold\">)</span>\n",
       "</pre>\n"
      ],
      "text/plain": [
       "\u001b[1;35mLumpedCaravanForcing\u001b[0m\u001b[1m(\u001b[0m\n",
       "    \u001b[33mstart_time\u001b[0m=\u001b[32m'1997-08-01T00:00:00Z'\u001b[0m,\n",
       "    \u001b[33mend_time\u001b[0m=\u001b[32m'2005-09-01T00:00:00Z'\u001b[0m,\n",
       "    \u001b[33mdirectory\u001b[0m=\u001b[1;35mPosixPath\u001b[0m\u001b[1m(\u001b[0m\u001b[32m'/home/davidhaasnoot/eWaterCycle-WSL-WIP/Forcing/Camels'\u001b[0m\u001b[1m)\u001b[0m,\n",
       "    \u001b[33mshape\u001b[0m=\u001b[1;35mPosixPath\u001b[0m\u001b[1m(\u001b[0m\u001b[32m'/home/davidhaasnoot/eWaterCycle-WSL-WIP/Forcing/Camels/shapefiles/camels_03439000.shp'\u001b[0m\u001b[1m)\u001b[0m,\n",
       "    \u001b[33mfilenames\u001b[0m=\u001b[1m{\u001b[0m\n",
       "        \u001b[32m'tasmin'\u001b[0m: \u001b[32m'camels_03439000_1997-08-01T00:00:00Z_2005-09-01T00:00:00Z_tasmin.nc'\u001b[0m,\n",
       "        \u001b[32m'pr'\u001b[0m: \u001b[32m'camels_03439000_1997-08-01T00:00:00Z_2005-09-01T00:00:00Z_pr.nc'\u001b[0m,\n",
       "        \u001b[32m'tasmax'\u001b[0m: \u001b[32m'camels_03439000_1997-08-01T00:00:00Z_2005-09-01T00:00:00Z_tasmax.nc'\u001b[0m,\n",
       "        \u001b[32m'Q'\u001b[0m: \u001b[32m'camels_03439000_1997-08-01T00:00:00Z_2005-09-01T00:00:00Z_Q.nc'\u001b[0m,\n",
       "        \u001b[32m'tas'\u001b[0m: \u001b[32m'camels_03439000_1997-08-01T00:00:00Z_2005-09-01T00:00:00Z_tas.nc'\u001b[0m,\n",
       "        \u001b[32m'evspsblpot'\u001b[0m: \u001b[32m'camels_03439000_1997-08-01T00:00:00Z_2005-09-01T00:00:00Z_evspsblpot.nc'\u001b[0m\n",
       "    \u001b[1m}\u001b[0m\n",
       "\u001b[1m)\u001b[0m\n"
      ]
     },
     "metadata": {},
     "output_type": "display_data"
    }
   ],
   "source": [
    "print(caravan_forcing)"
   ]
  },
  {
   "cell_type": "code",
   "execution_count": 44,
   "id": "b311c594-98a7-4771-b18a-ce4ba651ccb4",
   "metadata": {},
   "outputs": [],
   "source": [
    "from ewatercycle.models import HBV"
   ]
  },
  {
   "cell_type": "code",
   "execution_count": 45,
   "id": "699ba20a-76c2-493e-b044-6753a681ec50",
   "metadata": {},
   "outputs": [],
   "source": [
    "caravan_model = HBV(forcing=caravan_forcing)"
   ]
  },
  {
   "cell_type": "code",
   "execution_count": 56,
   "id": "3ce8da0e-243b-41fb-bfc6-20f9216a9f3e",
   "metadata": {},
   "outputs": [],
   "source": [
    "#### Array of initial storage terms - we keep these constant for now \n",
    "##              Si,  Su, Sf, Ss, Sp\n",
    "s_0 = np.array([0,  100,  0,  5, 0])\n",
    "\n",
    "## Array of parameters min/max bounds as a reference\n",
    "##                      Imax,  Ce,  Sumax, beta,  Pmax,  T_lag,   Kf,   Ks, FM\n",
    "p_min_initial= np.array([0,   0.2,  40,    .5,   .001,   1,     .01,  .0001, 6])\n",
    "p_max_initial = np.array([8,    1,  800,   4,    .3,     10,    .1,   .01, 0.1])\n",
    "p_names = [\"$I_{max}$\",  \"$C_e$\",  \"$Su_{max}$\", \"β\",  \"$P_{max}$\",  \"$T_{lag}$\",   \"$K_f$\",   \"$K_s$\", \"FM\"]\n",
    "S_names = [\"Interception storage\", \"Unsaturated Rootzone Storage\", \"Fastflow storage\", \"Groundwater storage\", \"Snowpack storage\"]\n",
    "param_names = [\"Imax\",\"Ce\",  \"Sumax\", \"beta\",  \"Pmax\",  \"Tlag\",   \"Kf\",   \"Ks\", \"FM\"]\n",
    "\n",
    "# set initial as mean of max,min\n",
    "# par_0 = (p_min_initial + p_max_initial)/2\n",
    "par_0 = np.array([2,    0.8,  460,   1.5,    1.0,     4,    .4,   .04, 3])"
   ]
  },
  {
   "cell_type": "code",
   "execution_count": 62,
   "id": "e73b5456-02c3-49b6-8622-321e5b733097",
   "metadata": {},
   "outputs": [],
   "source": [
    "config_file, _ = caravan_model.setup(\n",
    "            parameters=','.join([str(p) for p in par_0]),\n",
    "            initial_storage=','.join([str(s) for s in s_0]),\n",
    "           )"
   ]
  },
  {
   "cell_type": "code",
   "execution_count": 63,
   "id": "86d29887-2095-4936-8b0d-d8eb67407432",
   "metadata": {},
   "outputs": [],
   "source": [
    "caravan_model.initialize(config_file)"
   ]
  },
  {
   "cell_type": "code",
   "execution_count": 64,
   "id": "06da4985-e120-470d-a510-f471f94ae773",
   "metadata": {},
   "outputs": [],
   "source": [
    "Q_m = []\n",
    "time = []\n",
    "while caravan_model.time < caravan_model.end_time:\n",
    "    caravan_model.update()\n",
    "    Q_m.append(caravan_model.get_value(\"Q\"))\n",
    "    time.append(caravan_model.time_as_datetime.date())"
   ]
  },
  {
   "cell_type": "code",
   "execution_count": 65,
   "id": "5054a15f-d94c-4595-83d8-c7b5877e9b05",
   "metadata": {},
   "outputs": [],
   "source": [
    "ds_caravan = caravan_forcing.to_xarray()"
   ]
  },
  {
   "cell_type": "code",
   "execution_count": 71,
   "id": "eacc1147-d80c-42d4-acc9-2d4abc8ca82d",
   "metadata": {},
   "outputs": [
    {
     "data": {
      "image/png": "[encoded data removed]",
      "text/plain": [
       "<Figure size 640x480 with 1 Axes>"
      ]
     },
     "metadata": {},
     "output_type": "display_data"
    }
   ],
   "source": [
    "fig, ax = plt.subplots()\n",
    "ds_caravan[\"Q\"].plot(ax=ax,label='Observed')\n",
    "ax.plot(time, Q_m,label=\"modeled\")\n",
    "ax.set_title(\"\")\n",
    "ax.legend();"
   ]
  },
  {
   "cell_type": "code",
   "execution_count": null,
   "id": "254d2fb2-d78a-4196-8548-4dd6c80b9384",
   "metadata": {},
   "outputs": [],
   "source": []
  }
 ],
 "metadata": {
  "kernelspec": {
   "display_name": "Python 3 (ipykernel)",
   "language": "python",
   "name": "python3"
  },
  "language_info": {
   "codemirror_mode": {
    "name": "ipython",
    "version": 3
   },
   "file_extension": ".py",
   "mimetype": "text/x-python",
   "name": "python",
   "nbconvert_exporter": "python",
   "pygments_lexer": "ipython3",
   "version": "3.10.14"
  }
 },
 "nbformat": 4,
 "nbformat_minor": 5
}
