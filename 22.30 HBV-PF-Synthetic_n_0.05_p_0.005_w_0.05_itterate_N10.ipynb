{
 "cells": [
  {
   "cell_type": "markdown",
   "id": "e9cd8d85-eb4a-45d6-925a-e3e770592043",
   "metadata": {},
   "source": [
    "### Import modules and verify they work? "
   ]
  },
  {
   "cell_type": "code",
   "execution_count": 1,
   "id": "ec7e710a-5aa4-40f9-a1cb-151e3cddbe04",
   "metadata": {},
   "outputs": [],
   "source": [
    "# general python\n",
    "import warnings\n",
    "warnings.filterwarnings(\"ignore\", category=UserWarning)\n",
    "import numpy as np\n",
    "import os\n",
    "from pathlib import Path\n",
    "import yaml\n",
    "import pandas as pd\n",
    "import matplotlib.pyplot as plt\n",
    "from datetime import datetime\n",
    "import scipy\n",
    "import xarray as xr\n",
    "from tqdm import tqdm\n",
    "import glob\n",
    "from devtools import pprint\n",
    "from tqdm import tqdm"
   ]
  },
  {
   "cell_type": "code",
   "execution_count": 2,
   "id": "4569a0f2-4bea-48cc-b5a4-ca5384e368c6",
   "metadata": {},
   "outputs": [],
   "source": [
    "# general eWC\n",
    "import ewatercycle\n",
    "import ewatercycle.forcing\n",
    "import ewatercycle.models"
   ]
  },
  {
   "cell_type": "code",
   "execution_count": 3,
   "id": "cac240ea-cd32-4ab7-9c76-17bd79e4a946",
   "metadata": {},
   "outputs": [],
   "source": [
    "from pydantic import BaseModel\n",
    "from typing import Any"
   ]
  },
  {
   "cell_type": "markdown",
   "id": "111bc65b-8299-43ba-95fd-e92df6b92707",
   "metadata": {},
   "source": [
    "#### set up paths"
   ]
  },
  {
   "cell_type": "code",
   "execution_count": 4,
   "id": "df66893d-b667-4fcc-a841-683f32ed2cc7",
   "metadata": {},
   "outputs": [
    {
     "data": {
      "text/plain": [
       "PosixPath('/home/davidhaasnoot/eWaterCycle-WSL-WIP/Forcing')"
      ]
     },
     "execution_count": 4,
     "metadata": {},
     "output_type": "execute_result"
    }
   ],
   "source": [
    "path = Path.cwd()\n",
    "forcing_path = path / \"Forcing\"\n",
    "observations_path = path / \"Observations\"\n",
    "figure_path = path / \"Figures\"\n",
    "output_path = path / \"Output\"\n",
    "forcing_path"
   ]
  },
  {
   "cell_type": "code",
   "execution_count": 5,
   "id": "03aea008-87ce-4d09-8d01-f12dfe6bb116",
   "metadata": {},
   "outputs": [],
   "source": [
    "experiment_start_date = \"1997-08-01T00:00:00Z\"\n",
    "experiment_end_date = \"1999-09-01T00:00:00Z\"\n",
    "HRU_id = 1620500\n",
    "alpha = 1.26"
   ]
  },
  {
   "cell_type": "code",
   "execution_count": 6,
   "id": "41855c32-2650-403e-bcad-332eab6c1ec4",
   "metadata": {},
   "outputs": [],
   "source": [
    "from ewatercycle.forcing import sources"
   ]
  },
  {
   "cell_type": "code",
   "execution_count": 7,
   "id": "7f27dbd4-421d-4110-bac3-ecb832a97d97",
   "metadata": {},
   "outputs": [],
   "source": [
    "camels_forcing = sources.HBVForcing(start_time = experiment_start_date,\n",
    "                          end_time = experiment_end_date,\n",
    "                          directory = forcing_path,\n",
    "                          camels_file = f'0{HRU_id}_lump_cida_forcing_leap.txt',\n",
    "                          alpha = alpha,\n",
    "                          )"
   ]
  },
  {
   "cell_type": "markdown",
   "id": "b944e1b8-e225-483d-b39e-74ed4dea37cf",
   "metadata": {},
   "source": [
    "#### import model"
   ]
  },
  {
   "cell_type": "code",
   "execution_count": 8,
   "id": "555a3c69-953c-403b-a259-125aa8370dd8",
   "metadata": {},
   "outputs": [],
   "source": [
    "# from ewatercycle.models import HBV"
   ]
  },
  {
   "cell_type": "code",
   "execution_count": 9,
   "id": "2834a77c-4789-4738-84e1-3f9ce90f72ba",
   "metadata": {},
   "outputs": [],
   "source": [
    "from ewatercycle_DA.local_models.HBV import HBVLocal"
   ]
  },
  {
   "cell_type": "code",
   "execution_count": 10,
   "id": "8254d001-7124-4f2a-8281-0b500e101984",
   "metadata": {},
   "outputs": [],
   "source": [
    "truth_model = HBVLocal(forcing=camels_forcing)"
   ]
  },
  {
   "cell_type": "code",
   "execution_count": 11,
   "id": "f0a58ddf-a9af-44da-b3ac-cd50ae7d022e",
   "metadata": {},
   "outputs": [],
   "source": [
    "truth_parameters = np.array([3.2,   0.9,  700,    1.2,   .16,   4,     .08,  .0075, 0.5])\n",
    "truth_initial_storage = np.array([20,  10,  50,  100, 10])"
   ]
  },
  {
   "cell_type": "code",
   "execution_count": 12,
   "id": "0d886ea1-52db-4a18-8a27-061e736130f1",
   "metadata": {},
   "outputs": [],
   "source": [
    "config_file, _ = truth_model.setup(\n",
    "            parameters=','.join([str(p) for p in truth_parameters]),\n",
    "            initial_storage=','.join([str(s) for s in truth_initial_storage]),\n",
    "           )"
   ]
  },
  {
   "cell_type": "code",
   "execution_count": 13,
   "id": "1962c467-34fa-4e1a-8ce8-2abe55e902fa",
   "metadata": {},
   "outputs": [],
   "source": [
    "truth_model.initialize(config_file)"
   ]
  },
  {
   "cell_type": "code",
   "execution_count": 14,
   "id": "d9e3803e-34b7-42b3-866e-d24d591794b9",
   "metadata": {},
   "outputs": [],
   "source": [
    "Q_m = []\n",
    "time = []\n",
    "while truth_model.time < truth_model.end_time:\n",
    "    truth_model.update()\n",
    "    Q_m.append(truth_model.get_value(\"Q\"))\n",
    "    time.append(truth_model.time_as_datetime.date())\n",
    "truth_model.finalize()"
   ]
  },
  {
   "cell_type": "code",
   "execution_count": 15,
   "id": "4277dad0-8438-4532-8e75-5b576b75ef6b",
   "metadata": {},
   "outputs": [],
   "source": [
    "truth = pd.DataFrame(Q_m, columns=[\"Q_m\"],index=time)"
   ]
  },
  {
   "cell_type": "code",
   "execution_count": 16,
   "id": "5b698880-90f3-4af5-b1f3-2138c27ec1c5",
   "metadata": {},
   "outputs": [],
   "source": [
    "rng = np.random.default_rng()  # Initiate a Random Number Generator\n",
    "def add_normal_noise(like_sigma) -> float:\n",
    "    \"\"\"Normal (zero-mean) noise to be added to a state\n",
    "\n",
    "    Args:\n",
    "        like_sigma (float): scale parameter - pseudo variance & thus 'like'-sigma\n",
    "\n",
    "    Returns:\n",
    "        sample from normal distribution\n",
    "    \"\"\"\n",
    "    return rng.normal(loc=0, scale=like_sigma)  # log normal so can't go to 0 ?"
   ]
  },
  {
   "cell_type": "code",
   "execution_count": 17,
   "id": "3d43a643-47f6-477a-99a7-e420cf265cc9",
   "metadata": {},
   "outputs": [],
   "source": [
    "truth['Q'] = truth.apply(lambda x: x.Q_m + add_normal_noise(0.05) , axis=1)\n",
    "truth.index = truth.apply(lambda x: pd.Timestamp(x.name),axis=1)\n",
    "truth.index.name = \"time\""
   ]
  },
  {
   "cell_type": "code",
   "execution_count": 18,
   "id": "40fb48ea-22cd-49d0-ad63-8a29d4e63ef5",
   "metadata": {},
   "outputs": [
    {
     "data": {
      "text/plain": [
       "<Axes: xlabel='time'>"
      ]
     },
     "execution_count": 18,
     "metadata": {},
     "output_type": "execute_result"
    },
    {
     "data": {
      "image/png": "[encoded data removed]",
      "text/plain": [
       "<Figure size 640x480 with 1 Axes>"
      ]
     },
     "metadata": {},
     "output_type": "display_data"
    }
   ],
   "source": [
    "truth.plot()"
   ]
  },
  {
   "cell_type": "code",
   "execution_count": 19,
   "id": "76fd9975-1e19-4b1e-b704-eaa7747ec631",
   "metadata": {},
   "outputs": [],
   "source": [
    "ds_obs = xr.Dataset(data_vars=truth[['Q']])"
   ]
  },
  {
   "cell_type": "code",
   "execution_count": 20,
   "id": "663de25f-92cd-4219-b90f-99feaee26a35",
   "metadata": {},
   "outputs": [],
   "source": [
    "current_time = str(datetime.now())[:-10].replace(\":\",\"_\")\n",
    "ds_obs_dir = observations_path / f'truth_model_HBV_{current_time}.nc'\n",
    "if not ds_obs_dir.is_file():\n",
    "    ds_obs.to_netcdf(ds_obs_dir)"
   ]
  },
  {
   "cell_type": "markdown",
   "id": "6dce1e11-7b68-4b30-a949-f0d8b5e3719c",
   "metadata": {},
   "source": [
    "#### import DA function:"
   ]
  },
  {
   "cell_type": "code",
   "execution_count": 21,
   "id": "b4a70b56-f8d3-4cb6-8c0f-435e561dc656",
   "metadata": {},
   "outputs": [],
   "source": [
    "from ewatercycle_DA import DA\n",
    "from ewatercycle_DA.local_models.HBV import HBVLocal"
   ]
  },
  {
   "cell_type": "code",
   "execution_count": 22,
   "id": "34ae49e6-bf21-445d-b72c-133c5fd4c907",
   "metadata": {},
   "outputs": [],
   "source": [
    "# ## Array of initial storage terms - we keep these constant for now \n",
    "# ##              Si,  Su, Sf, Ss\n",
    "s_0 = np.array([0,  100,  0,  5, 0])\n",
    "\n",
    "## Array of parameters min/max bounds as a reference\n",
    "##                      Imax,  Ce,  Sumax, beta,  Pmax,  T_lag,   Kf,   Ks, FM\n",
    "p_min_initial= np.array([0,   0.2,  40,    .5,   .001,   1,     .01,  .0001, 6])\n",
    "p_max_initial = np.array([8,    1,  800,   4,    .3,     10,    .1,   .01, 0.1])\n",
    "p_names = [\"$I_{max}$\",  \"$C_e$\",  \"$Su_{max}$\", \"β\",  \"$P_{max}$\",  \"$T_{lag}$\",   \"$K_f$\",   \"$K_s$\", \"FM\"]\n",
    "S_names = [\"Interception storage\", \"Unsaturated Rootzone Storage\", \"Fastflow storage\", \"Groundwater storage\", \"Snowpack storage\"]\n",
    "param_names = [\"Imax\",\"Ce\",  \"Sumax\", \"Beta\",  \"Pmax\",  \"Tlag\",   \"Kf\",   \"Ks\", \"FM\"]\n",
    "stor_names = [\"Si\", \"Su\", \"Sf\", \"Ss\", \"Sp\"]\n",
    "\n",
    "# # set initial as mean of max,min\n",
    "par_0 = (p_min_initial + p_max_initial)/2"
   ]
  },
  {
   "cell_type": "code",
   "execution_count": 23,
   "id": "fd408aac-1b0c-4bfc-8e7c-7fde2c9af6a1",
   "metadata": {},
   "outputs": [],
   "source": [
    "def H(Z):\n",
    "    if len(Z) == 15:\n",
    "        return Z[-1] \n",
    "    else: \n",
    "        raise SyntaxWarning(f\"Length of statevector should be 13 but is {len(Z)}\")"
   ]
  },
  {
   "cell_type": "code",
   "execution_count": 24,
   "id": "8cd3d02e-114a-43db-8063-60d4a1757a33",
   "metadata": {},
   "outputs": [],
   "source": [
    "def calc_NSE(Qo, Qm):\n",
    "    QoAv  = np.mean(Qo)\n",
    "    ErrUp = np.sum((Qm - Qo)**2)\n",
    "    ErrDo = np.sum((Qo - QoAv)**2)\n",
    "    return 1 - (ErrUp / ErrDo)"
   ]
  },
  {
   "cell_type": "code",
   "execution_count": 25,
   "id": "20735cdd-5a59-4dd5-8847-9f22661620d1",
   "metadata": {},
   "outputs": [],
   "source": [
    "units= {\"Imax\":\"mm\",\n",
    "        \"Ce\": \"-\",\n",
    "        \"Sumax\": \"mm\",\n",
    "        \"Beta\": \"-\",\n",
    "        \"Pmax\": \"mm\",\n",
    "        \"Tlag\": \"d\",\n",
    "        \"Kf\": \"-\",\n",
    "        \"Ks\": \"-\",\n",
    "        \"FM\":'mm/d/degC',\n",
    "        \"Si\": \"mm\",\n",
    "        \"Su\": \"mm\",\n",
    "        \"Sf\": \"mm\",\n",
    "        \"Ss\": \"mm\",\n",
    "        \"Sp\": \"mm\",\n",
    "        \"Ei_dt\": \"mm/d\",\n",
    "        \"Ea_dt\": \"mm/d\",\n",
    "        \"Qs_dt\": \"mm/d\",\n",
    "        \"Qf_dt\": \"mm/d\",\n",
    "        \"Q_tot_dt\": \"mm/d\",\n",
    "        \"Q\": \"mm/d\"}"
   ]
  },
  {
   "cell_type": "code",
   "execution_count": 26,
   "id": "82f7fe99-756e-4871-9139-ee996c81545c",
   "metadata": {},
   "outputs": [],
   "source": [
    "n_iters = 5"
   ]
  },
  {
   "cell_type": "code",
   "execution_count": null,
   "id": "da1ea51c-84c3-431d-aa1c-41b7a994718d",
   "metadata": {},
   "outputs": [
    {
     "name": "stderr",
     "output_type": "stream",
     "text": [
      " 91%|█████████████████████████████████████████████████████████████████████████▊       | 693/761 [00:59<00:05, 12.23it/s]"
     ]
    }
   ],
   "source": [
    "lst_ds = []\n",
    "lst_df = []\n",
    "for i in range(n_iters):\n",
    "    perturbation_sigma = 0.005\n",
    "    weight_sigma = 0.05\n",
    "\n",
    "    n_particles = 25\n",
    "    ensemble = DA.Ensemble(N=n_particles)\n",
    "    ensemble.setup()\n",
    "    \n",
    "    array_random_num = np.array([[np.random.random() for i in range(len(p_max_initial))] for i in range(n_particles)])\n",
    "    p_intial = p_min_initial + array_random_num * (p_max_initial-p_min_initial)\n",
    "    \n",
    "    # values wihch you \n",
    "    setup_kwargs_lst = []\n",
    "    for index in range(n_particles):\n",
    "        setup_kwargs_lst.append({'parameters':','.join([str(p) for p in p_intial[index]]), \n",
    "                                'initial_storage':','.join([str(s) for s in s_0]),\n",
    "                                 })\n",
    "    \n",
    "    ensemble.loaded_models.update({'HBVLocal': HBVLocal})\n",
    "    \n",
    "    # this initializes the models for all ensemble members. \n",
    "    ensemble.initialize(model_name=[\"HBVLocal\"]*n_particles,\n",
    "                        forcing=[camels_forcing]*n_particles,\n",
    "                        setup_kwargs=setup_kwargs_lst) \n",
    "    \n",
    "    lst_like_sigma = [perturbation_sigma] * 14 + [0]\n",
    "    hyper_parameters = {'like_sigma_weights' : weight_sigma,\n",
    "                        'like_sigma_state_vector' : lst_like_sigma,\n",
    "                       }\n",
    "    \n",
    "    ensemble.initialize_da_method(ensemble_method_name = \"PF\", \n",
    "                                  hyper_parameters=hyper_parameters,                           \n",
    "                                  state_vector_variables = \"all\", # the next three are keyword arguments but are needed. \n",
    "                                  observation_path = ds_obs_dir,\n",
    "                                  observed_variable_name = \"Q\",\n",
    "                                  measurement_operator = H, \n",
    "                               \n",
    "                                )\n",
    "    \n",
    "    ref_model = ensemble.ensemble_list[0].model\n",
    "    \n",
    "    n_timesteps = int((ref_model.end_time - ref_model.start_time) /  ref_model.time_step)\n",
    "    \n",
    "    time = []\n",
    "    assimilated_times = []\n",
    "    lst_state_vector = []\n",
    "    lst_Q_prior = []\n",
    "    lst_Q_obs = []\n",
    "    lst_Q = [] \n",
    "    for i in tqdm(range(n_timesteps)):    \n",
    "        time.append(pd.Timestamp(ref_model.time_as_datetime.date()))\n",
    "        lst_Q_prior.append(ensemble.get_value(\"Q\").flatten())\n",
    "        # update every 3 steps \n",
    "        if i % 3 == 0: \n",
    "            assimilate = True \n",
    "            assimilated_times.append(pd.Timestamp(ref_model.time_as_datetime.date()))\n",
    "        else:\n",
    "            assimilate = False\n",
    "        ensemble.update(assimilate=assimilate)\n",
    "         \n",
    "        lst_state_vector.append(ensemble.get_state_vector())\n",
    "        lst_Q.append(ensemble.get_value(\"Q\").flatten())\n",
    "        lst_Q_obs.append(ensemble.ensemble_method.obs)\n",
    "    \n",
    "    # end model - IMPORTANT! when working with dockers\n",
    "    ensemble.finalize()\n",
    "    \n",
    "    Q_m_arr = np.array(lst_Q).T\n",
    "    Q_m_arr_prior = np.array(lst_Q_prior).T\n",
    "    state_vector_arr = np.array(lst_state_vector)\n",
    "    \n",
    "    save, load = False, False \n",
    "    current_time = str(datetime.now())[:-10].replace(\":\",\"_\")\n",
    "    \n",
    "    if not load:\n",
    "        df_ensemble = pd.DataFrame(data=Q_m_arr[:,:len(time)].T,index=time,columns=[f'particle {n}' for n in range(n_particles)])\n",
    "        df_ensemble_prior = pd.DataFrame(data=Q_m_arr_prior[:,:len(time)].T,index=time,columns=[f'particle {n}' for n in range(n_particles)])\n",
    "    \n",
    "        data_vars = {}\n",
    "        for i, name in enumerate(param_names + stor_names+ [\"Q\"]):\n",
    "            storage_terms_i = xr.DataArray(state_vector_arr[:,:,i].T,\n",
    "                                           name=name,\n",
    "                                           dims=[\"EnsembleMember\",\"time\"],\n",
    "                                          coords=[np.arange(n_particles),df_ensemble.index],\n",
    "                                          attrs={\"title\": f\"HBV storage terms data over time for {n_particles} particles \", \n",
    "                                                   \"history\": f\"Storage term results from ewatercycle_HBV.model\",\n",
    "                                                \"description\":\"Moddeled values\",\n",
    "                                                     \"units\": \"mm\"})\n",
    "            data_vars[name] = storage_terms_i\n",
    "    \n",
    "        ds_combined = xr.Dataset(data_vars,\n",
    "                                 attrs={\"title\": f\"HBV storage terms data over time for {n_particles} particles \", \n",
    "                                        \"history\": f\"Storage term results from ewatercycle_HBV.model\",}\n",
    "                                  )\n",
    "    lst_ds.append(ds_combined)\n",
    "    lst_df.append(df_ensemble)"
   ]
  },
  {
   "cell_type": "code",
   "execution_count": null,
   "id": "ed4f7301-69c8-48cd-bdbe-a85815fde729",
   "metadata": {},
   "outputs": [],
   "source": [
    "fig, axs = plt.subplots(n,1,figsize=(12,12))\n",
    "for i, df_ensemble in enumerate(lst_df):\n",
    "    ax = axs[i]\n",
    "    mean_ensemble = df_ensemble.T.mean()\n",
    "    NSE_mean_ens = calc_NSE(ds_obs['Q'].values,mean_ensemble.loc[time])\n",
    "    \n",
    "    ds_obs['Q'].plot(ax=ax,lw=0,marker=\"*\",ms=2.0,zorder=0,label=\"Observations\",color='k')\n",
    "    ax.plot(mean_ensemble,color=\"C1\",lw=0.5,label=f\"NSe mean {NSE_mean_ens:.2f}\",zorder=-1)\n",
    "    ax.fill_between(df_ensemble.index,df_ensemble.T.min(),df_ensemble.T.max(),color=\"C0\", alpha=0.35,zorder=-10,label=\"bounds\")\n",
    "    ax.legend(bbox_to_anchor=(1.25,1))\n",
    "    ax.set_ylabel(\"Q [mm]\")\n",
    "    ax.set_title(f\"Run ensemble {i+1}/{n}: {n_particles} particles\");\n",
    "\n",
    "plt.tight_layout()"
   ]
  }
 ],
 "metadata": {
  "kernelspec": {
   "display_name": "Python 3 (ipykernel)",
   "language": "python",
   "name": "python3"
  },
  "language_info": {
   "codemirror_mode": {
    "name": "ipython",
    "version": 3
   },
   "file_extension": ".py",
   "mimetype": "text/x-python",
   "name": "python",
   "nbconvert_exporter": "python",
   "pygments_lexer": "ipython3",
   "version": "3.10.13"
  }
 },
 "nbformat": 4,
 "nbformat_minor": 5
}
