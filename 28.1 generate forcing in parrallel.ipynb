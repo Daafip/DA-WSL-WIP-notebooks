{
 "cells": [
  {
   "cell_type": "code",
   "execution_count": 1,
   "id": "67193873-d4a0-4ebb-a42e-057a3d77df66",
   "metadata": {},
   "outputs": [],
   "source": [
    "# general python\n",
    "import warnings\n",
    "warnings.filterwarnings(\"ignore\", category=UserWarning)\n",
    "import numpy as np\n",
    "import os\n",
    "from pathlib import Path\n",
    "import yaml\n",
    "import pandas as pd\n",
    "import matplotlib.pyplot as plt\n",
    "from datetime import datetime\n",
    "import scipy\n",
    "import xarray as xr\n",
    "from tqdm import tqdm\n",
    "import glob\n",
    "# from devtools import pprint\n",
    "from rich import print\n",
    "from tqdm import tqdm"
   ]
  },
  {
   "cell_type": "code",
   "execution_count": 2,
   "id": "f9b153b4-dba9-4676-85a4-224041c66f59",
   "metadata": {},
   "outputs": [],
   "source": [
    "# general eWC\n",
    "import ewatercycle\n",
    "import ewatercycle.forcing\n",
    "import ewatercycle.models"
   ]
  },
  {
   "cell_type": "code",
   "execution_count": 3,
   "id": "1b65a1d9-70a0-41ac-bb19-ad82523bf64e",
   "metadata": {
    "scrolled": true
   },
   "outputs": [],
   "source": [
    "# pip install --upgrade ewatercycle"
   ]
  },
  {
   "cell_type": "code",
   "execution_count": 4,
   "id": "916af79e-89bb-4d73-8aaf-829214d4494c",
   "metadata": {},
   "outputs": [
    {
     "data": {
      "text/plain": [
       "PosixPath('/home/dhaasnoot/DA/Forcing')"
      ]
     },
     "execution_count": 4,
     "metadata": {},
     "output_type": "execute_result"
    }
   ],
   "source": [
    "path = Path.cwd()\n",
    "forcing_path = path / \"Forcing\"\n",
    "observations_path = path / \"Observations\"\n",
    "figure_path = path / \"Figures\"\n",
    "output_path = path / \"Output\"\n",
    "forcing_path"
   ]
  },
  {
   "cell_type": "markdown",
   "id": "9acf43ec-9590-4629-b671-c461abed4e62",
   "metadata": {},
   "source": [
    "Simple example using HBV:"
   ]
  },
  {
   "cell_type": "code",
   "execution_count": 5,
   "id": "1e9811b5-d075-4ad9-95a4-2f9011f6bc5f",
   "metadata": {},
   "outputs": [],
   "source": [
    "from ewatercycle.forcing import sources"
   ]
  },
  {
   "cell_type": "code",
   "execution_count": 6,
   "id": "1e5b2e09-c943-4b52-9f0d-04d3ca4e8363",
   "metadata": {},
   "outputs": [],
   "source": [
    "# pip uninstall ewatercycle_DA -y"
   ]
  },
  {
   "cell_type": "code",
   "execution_count": 7,
   "id": "6fdce103-7a71-4b15-9707-aa576f70aed2",
   "metadata": {},
   "outputs": [],
   "source": [
    "# pip install ewatercycle_DA==0.0.5"
   ]
  },
  {
   "cell_type": "code",
   "execution_count": 8,
   "id": "a708f3a7-25ef-43d9-8f63-fdc809181388",
   "metadata": {},
   "outputs": [],
   "source": [
    "from ewatercycle_DA import DA"
   ]
  },
  {
   "cell_type": "code",
   "execution_count": 9,
   "id": "750e6be3-3659-4418-bc5f-2e55e442dfa1",
   "metadata": {},
   "outputs": [],
   "source": [
    "import ewatercycle_DA"
   ]
  },
  {
   "cell_type": "code",
   "execution_count": 10,
   "id": "be59fc1f-2591-46ba-9bc4-962b23767968",
   "metadata": {},
   "outputs": [
    {
     "data": {
      "text/plain": [
       "'0.0.5'"
      ]
     },
     "execution_count": 10,
     "metadata": {},
     "output_type": "execute_result"
    }
   ],
   "source": [
    "ewatercycle_DA.__version__"
   ]
  },
  {
   "cell_type": "code",
   "execution_count": 11,
   "id": "7818d91d-c27e-4d08-952f-6122a8c00625",
   "metadata": {},
   "outputs": [],
   "source": [
    "n_particles = 10"
   ]
  },
  {
   "cell_type": "code",
   "execution_count": 12,
   "id": "4a63e538-02af-404e-9cf9-49dabb556033",
   "metadata": {},
   "outputs": [],
   "source": [
    "ensemble = DA.Ensemble(N=n_particles)\n",
    "ensemble.setup()"
   ]
  },
  {
   "cell_type": "code",
   "execution_count": 13,
   "id": "8e98fb9b-85a6-4dc0-89fb-1713a06b721b",
   "metadata": {},
   "outputs": [],
   "source": [
    "experiment_start_date = \"1997-08-01T00:00:00Z\"\n",
    "experiment_end_date = \"1999-03-01T00:00:00Z\"\n",
    "HRU_id = 14138900"
   ]
  },
  {
   "cell_type": "code",
   "execution_count": 14,
   "id": "fac67c25-f382-4204-bb63-17c0962a05c7",
   "metadata": {},
   "outputs": [],
   "source": [
    "forcing_args = []\n",
    "for i in range(1,11):\n",
    "    forcing_args.append(dict(\n",
    "        start_time = experiment_start_date,\n",
    "        end_time = experiment_end_date,\n",
    "        directory = forcing_path,\n",
    "        camels_file = f'0{HRU_id}_lump_cida_forcing_leap.txt', \n",
    "        alpha = 1.23 + (i/100)\n",
    "    ))"
   ]
  },
  {
   "cell_type": "code",
   "execution_count": 15,
   "id": "0105fd92-2cb1-4124-9841-bd7438a0bebb",
   "metadata": {},
   "outputs": [
    {
     "name": "stdout",
     "output_type": "stream",
     "text": [
      "CPU times: user 0 ns, sys: 5.77 ms, total: 5.77 ms\n",
      "Wall time: 5.68 ms\n"
     ]
    }
   ],
   "source": [
    "%%time\n",
    "lst_forcing = ensemble.generate_forcing([ewatercycle.forcing.sources.HBVForcing]*10, forcing_args)"
   ]
  },
  {
   "cell_type": "code",
   "execution_count": 16,
   "id": "332675df-cf2e-49d5-a3b0-d73c5f134459",
   "metadata": {},
   "outputs": [
    {
     "data": {
      "text/plain": [
       "[HBVForcing(start_time='1997-08-01T00:00:00Z', end_time='1999-03-01T00:00:00Z', directory=PosixPath('/home/dhaasnoot/DA/Forcing'), shape=None, filenames={}, camels_file='014138900_lump_cida_forcing_leap.txt', pr='.nc', pev='.nc', alpha=1.24, test_data_bool=False),\n",
       " HBVForcing(start_time='1997-08-01T00:00:00Z', end_time='1999-03-01T00:00:00Z', directory=PosixPath('/home/dhaasnoot/DA/Forcing'), shape=None, filenames={}, camels_file='014138900_lump_cida_forcing_leap.txt', pr='.nc', pev='.nc', alpha=1.25, test_data_bool=False),\n",
       " HBVForcing(start_time='1997-08-01T00:00:00Z', end_time='1999-03-01T00:00:00Z', directory=PosixPath('/home/dhaasnoot/DA/Forcing'), shape=None, filenames={}, camels_file='014138900_lump_cida_forcing_leap.txt', pr='.nc', pev='.nc', alpha=1.26, test_data_bool=False),\n",
       " HBVForcing(start_time='1997-08-01T00:00:00Z', end_time='1999-03-01T00:00:00Z', directory=PosixPath('/home/dhaasnoot/DA/Forcing'), shape=None, filenames={}, camels_file='014138900_lump_cida_forcing_leap.txt', pr='.nc', pev='.nc', alpha=1.27, test_data_bool=False),\n",
       " HBVForcing(start_time='1997-08-01T00:00:00Z', end_time='1999-03-01T00:00:00Z', directory=PosixPath('/home/dhaasnoot/DA/Forcing'), shape=None, filenames={}, camels_file='014138900_lump_cida_forcing_leap.txt', pr='.nc', pev='.nc', alpha=1.28, test_data_bool=False),\n",
       " HBVForcing(start_time='1997-08-01T00:00:00Z', end_time='1999-03-01T00:00:00Z', directory=PosixPath('/home/dhaasnoot/DA/Forcing'), shape=None, filenames={}, camels_file='014138900_lump_cida_forcing_leap.txt', pr='.nc', pev='.nc', alpha=1.29, test_data_bool=False),\n",
       " HBVForcing(start_time='1997-08-01T00:00:00Z', end_time='1999-03-01T00:00:00Z', directory=PosixPath('/home/dhaasnoot/DA/Forcing'), shape=None, filenames={}, camels_file='014138900_lump_cida_forcing_leap.txt', pr='.nc', pev='.nc', alpha=1.3, test_data_bool=False),\n",
       " HBVForcing(start_time='1997-08-01T00:00:00Z', end_time='1999-03-01T00:00:00Z', directory=PosixPath('/home/dhaasnoot/DA/Forcing'), shape=None, filenames={}, camels_file='014138900_lump_cida_forcing_leap.txt', pr='.nc', pev='.nc', alpha=1.31, test_data_bool=False),\n",
       " HBVForcing(start_time='1997-08-01T00:00:00Z', end_time='1999-03-01T00:00:00Z', directory=PosixPath('/home/dhaasnoot/DA/Forcing'), shape=None, filenames={}, camels_file='014138900_lump_cida_forcing_leap.txt', pr='.nc', pev='.nc', alpha=1.32, test_data_bool=False),\n",
       " HBVForcing(start_time='1997-08-01T00:00:00Z', end_time='1999-03-01T00:00:00Z', directory=PosixPath('/home/dhaasnoot/DA/Forcing'), shape=None, filenames={}, camels_file='014138900_lump_cida_forcing_leap.txt', pr='.nc', pev='.nc', alpha=1.33, test_data_bool=False)]"
      ]
     },
     "execution_count": 16,
     "metadata": {},
     "output_type": "execute_result"
    }
   ],
   "source": [
    "lst_forcing"
   ]
  },
  {
   "cell_type": "code",
   "execution_count": 17,
   "id": "523d696a-0886-429a-a2fb-efcb02e08966",
   "metadata": {},
   "outputs": [
    {
     "name": "stdout",
     "output_type": "stream",
     "text": [
      "CPU times: user 0 ns, sys: 755 µs, total: 755 µs\n",
      "Wall time: 636 µs\n"
     ]
    },
    {
     "data": {
      "text/plain": [
       "HBVForcing(start_time='1997-08-01T00:00:00Z', end_time='1999-03-01T00:00:00Z', directory=PosixPath('/home/dhaasnoot/DA/Forcing'), shape=None, filenames={}, camels_file='014138900_lump_cida_forcing_leap.txt', pr='.nc', pev='.nc', alpha=1.24, test_data_bool=False)"
      ]
     },
     "execution_count": 17,
     "metadata": {},
     "output_type": "execute_result"
    }
   ],
   "source": [
    "%%time\n",
    "ewatercycle.forcing.sources.HBVForcing(**forcing_args[0])"
   ]
  },
  {
   "cell_type": "markdown",
   "id": "4ddc9558-d381-4c8b-a194-b7d0504a84f9",
   "metadata": {},
   "source": [
    "## Using ERA5 data"
   ]
  },
  {
   "cell_type": "code",
   "execution_count": 18,
   "id": "6aa2e6c3-beec-4737-935f-d9643fd5ebb4",
   "metadata": {},
   "outputs": [],
   "source": [
    "#shapefile that describes the basin we want to study.\n",
    "path = Path.cwd()\n",
    "forcing_path = path / \"Forcing\"\n",
    "shapeFile = forcing_path/ \"Rhine_shp\" / \"Rhine.shp\"\n",
    "\n",
    "#location to saved forcing results from previous notebook\n",
    "forcingLocation = forcing_path / \"RhineForcing2000-2002\"\n",
    "\n",
    "#GRDC station ID for the observation station\n",
    "grdc_station_id = \"6335020\"  # GRDC station ID\n",
    "basin_name = \"Rhine\"\n",
    "observation_path = path / \"Observations\"\n",
    "\n",
    "#period of interest. Make sure that GRDC data is available for this period and that.\n",
    "experiment_start_date=\"2000-01-01T00:00:00Z\""
   ]
  },
  {
   "cell_type": "code",
   "execution_count": 19,
   "id": "9fb99b75-a2a8-4875-8bf1-5329f3a8b39d",
   "metadata": {},
   "outputs": [
    {
     "data": {
      "text/plain": [
       "ewatercycle._forcings.makkink.LumpedMakkinkForcing"
      ]
     },
     "execution_count": 19,
     "metadata": {},
     "output_type": "execute_result"
    }
   ],
   "source": [
    "ewatercycle.forcing.sources[\"LumpedMakkinkForcing\"]"
   ]
  },
  {
   "cell_type": "code",
   "execution_count": 20,
   "id": "03270905-223d-49a0-a4de-bb6cf90f9aa8",
   "metadata": {},
   "outputs": [],
   "source": [
    "n_particles = 6"
   ]
  },
  {
   "cell_type": "code",
   "execution_count": 21,
   "id": "a3900b2d-6205-494d-bd24-7ffb59abaea6",
   "metadata": {},
   "outputs": [],
   "source": [
    "import psutil"
   ]
  },
  {
   "cell_type": "code",
   "execution_count": 22,
   "id": "4690dc0d-88b0-4160-a170-a904aab4810b",
   "metadata": {},
   "outputs": [],
   "source": [
    "# doesn't like the default config so use threadpool, see https://docs.dask.org/en/stable/scheduler-overview.html"
   ]
  },
  {
   "cell_type": "code",
   "execution_count": 23,
   "id": "fb5d616c-85bc-4360-980c-9ef9e256442e",
   "metadata": {},
   "outputs": [],
   "source": [
    "from concurrent.futures import ThreadPoolExecutor\n",
    "# dask_config: dict = {\"scheduler\": \"single-threaded\"}\n",
    "dask_config: dict = {\"multiprocessing.context\": \"forkserver\"}"
   ]
  },
  {
   "cell_type": "code",
   "execution_count": 24,
   "id": "21eefb24-6d76-4346-9cf0-006c461de86e",
   "metadata": {},
   "outputs": [
    {
     "data": {
      "text/plain": [
       "{'multiprocessing.context': 'forkserver'}"
      ]
     },
     "execution_count": 24,
     "metadata": {},
     "output_type": "execute_result"
    }
   ],
   "source": [
    "dask_config"
   ]
  },
  {
   "cell_type": "code",
   "execution_count": 25,
   "id": "8d34c610-4cf7-45e2-bfe6-9cd9238ff1ed",
   "metadata": {},
   "outputs": [],
   "source": [
    "ensemble = DA.Ensemble(N=n_particles,dask_config=dask_config)\n",
    "ensemble.setup()"
   ]
  },
  {
   "cell_type": "markdown",
   "id": "4d08bbc4-d625-4425-b781-053948aa119f",
   "metadata": {},
   "source": [
    "Slightly vary the generate config slightly: <br>\n",
    "(highly hypothetical yes)"
   ]
  },
  {
   "cell_type": "code",
   "execution_count": 26,
   "id": "ef3033b2-0b7f-4825-88d0-11a3639095c2",
   "metadata": {},
   "outputs": [],
   "source": [
    "forcing_args = []\n",
    "for i in range(1,n_particles+1):\n",
    "    forcing_args.append(dict(\n",
    "        dataset=\"ERA5\",\n",
    "        start_time = experiment_start_date,\n",
    "        end_time = f\"2000-0{i}-01T00:00:00Z\",\n",
    "        shape = shapeFile.absolute()\n",
    "    ))"
   ]
  },
  {
   "cell_type": "markdown",
   "id": "eb0abd95-ddcd-43d8-ba2e-8ee056682cf5",
   "metadata": {},
   "source": [
    "Wall time: 35.6 s"
   ]
  },
  {
   "cell_type": "code",
   "execution_count": 27,
   "id": "af1cb333-37bb-463a-95a3-a8a9d897db3f",
   "metadata": {},
   "outputs": [
    {
     "data": {
      "text/plain": [
       "LumpedMakkinkForcing(start_time='2000-01-01T00:00:00Z', end_time='2000-01-01T00:00:00Z', directory=PosixPath('/home/dhaasnoot/DA/esmvaltool_output/ewcrepqqtg52p7_20240422_160603/work/diagnostic/script'), shape=PosixPath('/home/dhaasnoot/DA/Forcing/Rhine_shp/Rhine.shp'), filenames={'pr': 'OBS6_ERA5_reanaly_1_day_pr_2000-2000.nc', 'tas': 'OBS6_ERA5_reanaly_1_day_tas_2000-2000.nc', 'rsds': 'OBS6_ERA5_reanaly_1_day_rsds_2000-2000.nc', 'evspsblpot': 'Derived_Makkink_evspsblpot.nc'})"
      ]
     },
     "execution_count": 27,
     "metadata": {},
     "output_type": "execute_result"
    }
   ],
   "source": [
    "# %%time\n",
    "ewatercycle.forcing.sources[\"LumpedMakkinkForcing\"].generate(**forcing_args[0])"
   ]
  },
  {
   "cell_type": "markdown",
   "id": "735b7039-4a4d-42da-a167-7acf75fdf58a",
   "metadata": {},
   "source": [
    "single threaded: Wall time: 2min 37s <br> \n",
    "multiprocessing: Wall time: 1min 48s"
   ]
  },
  {
   "cell_type": "code",
   "execution_count": 37,
   "id": "6e2a4798-ccb0-47a3-ab49-e9232088c1d0",
   "metadata": {},
   "outputs": [
    {
     "data": {
      "text/plain": [
       "2"
      ]
     },
     "execution_count": 37,
     "metadata": {},
     "output_type": "execute_result"
    }
   ],
   "source": [
    "psutil.cpu_count()"
   ]
  },
  {
   "cell_type": "code",
   "execution_count": 28,
   "id": "9eb62db2-f78e-41ba-976f-200cd3cb3366",
   "metadata": {},
   "outputs": [
    {
     "name": "stdout",
     "output_type": "stream",
     "text": [
      "CPU times: user 895 ms, sys: 207 ms, total: 1.1 s\n",
      "Wall time: 1min 48s\n"
     ]
    }
   ],
   "source": [
    "%%time\n",
    "lst_forcing = ensemble.generate_forcing(ewatercycle.forcing.sources[\"LumpedMakkinkForcing\"].generate, forcing_args)"
   ]
  },
  {
   "cell_type": "code",
   "execution_count": 29,
   "id": "9eae5477-e433-4234-a2ef-53c5ee943a85",
   "metadata": {},
   "outputs": [
    {
     "data": {
      "text/plain": [
       "[LumpedMakkinkForcing(start_time='2000-01-01T00:00:00Z', end_time='2000-01-01T00:00:00Z', directory=PosixPath('/home/dhaasnoot/DA/esmvaltool_output/ewcrep58eqrzvm_20240422_160631/work/diagnostic/script'), shape=PosixPath('/home/dhaasnoot/DA/Forcing/Rhine_shp/Rhine.shp'), filenames={'pr': 'OBS6_ERA5_reanaly_1_day_pr_2000-2000.nc', 'tas': 'OBS6_ERA5_reanaly_1_day_tas_2000-2000.nc', 'rsds': 'OBS6_ERA5_reanaly_1_day_rsds_2000-2000.nc', 'evspsblpot': 'Derived_Makkink_evspsblpot.nc'}),\n",
       " LumpedMakkinkForcing(start_time='2000-01-01T00:00:00Z', end_time='2000-02-01T00:00:00Z', directory=PosixPath('/home/dhaasnoot/DA/esmvaltool_output/ewcrep40ssohis_20240422_160705/work/diagnostic/script'), shape=PosixPath('/home/dhaasnoot/DA/Forcing/Rhine_shp/Rhine.shp'), filenames={'pr': 'OBS6_ERA5_reanaly_1_day_pr_2000-2000.nc', 'tas': 'OBS6_ERA5_reanaly_1_day_tas_2000-2000.nc', 'rsds': 'OBS6_ERA5_reanaly_1_day_rsds_2000-2000.nc', 'evspsblpot': 'Derived_Makkink_evspsblpot.nc'}),\n",
       " LumpedMakkinkForcing(start_time='2000-01-01T00:00:00Z', end_time='2000-03-01T00:00:00Z', directory=PosixPath('/home/dhaasnoot/DA/esmvaltool_output/ewcrepfrj1yz4a_20240422_160705/work/diagnostic/script'), shape=PosixPath('/home/dhaasnoot/DA/Forcing/Rhine_shp/Rhine.shp'), filenames={'pr': 'OBS6_ERA5_reanaly_1_day_pr_2000-2000.nc', 'tas': 'OBS6_ERA5_reanaly_1_day_tas_2000-2000.nc', 'rsds': 'OBS6_ERA5_reanaly_1_day_rsds_2000-2000.nc', 'evspsblpot': 'Derived_Makkink_evspsblpot.nc'}),\n",
       " LumpedMakkinkForcing(start_time='2000-01-01T00:00:00Z', end_time='2000-04-01T00:00:00Z', directory=PosixPath('/home/dhaasnoot/DA/esmvaltool_output/ewcrepljzduai__20240422_160742/work/diagnostic/script'), shape=PosixPath('/home/dhaasnoot/DA/Forcing/Rhine_shp/Rhine.shp'), filenames={'pr': 'OBS6_ERA5_reanaly_1_day_pr_2000-2000.nc', 'tas': 'OBS6_ERA5_reanaly_1_day_tas_2000-2000.nc', 'rsds': 'OBS6_ERA5_reanaly_1_day_rsds_2000-2000.nc', 'evspsblpot': 'Derived_Makkink_evspsblpot.nc'}),\n",
       " LumpedMakkinkForcing(start_time='2000-01-01T00:00:00Z', end_time='2000-05-01T00:00:00Z', directory=PosixPath('/home/dhaasnoot/DA/esmvaltool_output/ewcrephdjay9ld_20240422_160742/work/diagnostic/script'), shape=PosixPath('/home/dhaasnoot/DA/Forcing/Rhine_shp/Rhine.shp'), filenames={'pr': 'OBS6_ERA5_reanaly_1_day_pr_2000-2000.nc', 'tas': 'OBS6_ERA5_reanaly_1_day_tas_2000-2000.nc', 'rsds': 'OBS6_ERA5_reanaly_1_day_rsds_2000-2000.nc', 'evspsblpot': 'Derived_Makkink_evspsblpot.nc'}),\n",
       " LumpedMakkinkForcing(start_time='2000-01-01T00:00:00Z', end_time='2000-06-01T00:00:00Z', directory=PosixPath('/home/dhaasnoot/DA/esmvaltool_output/ewcrepqg8q8fh1_20240422_160631/work/diagnostic/script'), shape=PosixPath('/home/dhaasnoot/DA/Forcing/Rhine_shp/Rhine.shp'), filenames={'pr': 'OBS6_ERA5_reanaly_1_day_pr_2000-2000.nc', 'tas': 'OBS6_ERA5_reanaly_1_day_tas_2000-2000.nc', 'rsds': 'OBS6_ERA5_reanaly_1_day_rsds_2000-2000.nc', 'evspsblpot': 'Derived_Makkink_evspsblpot.nc'})]"
      ]
     },
     "execution_count": 29,
     "metadata": {},
     "output_type": "execute_result"
    }
   ],
   "source": [
    "lst_forcing"
   ]
  },
  {
   "cell_type": "code",
   "execution_count": null,
   "id": "96b6e524-d686-4560-b456-7f6a4ba0ba30",
   "metadata": {},
   "outputs": [],
   "source": []
  }
 ],
 "metadata": {
  "kernelspec": {
   "display_name": "Python 3 (ipykernel)",
   "language": "python",
   "name": "python3"
  },
  "language_info": {
   "codemirror_mode": {
    "name": "ipython",
    "version": 3
   },
   "file_extension": ".py",
   "mimetype": "text/x-python",
   "name": "python",
   "nbconvert_exporter": "python",
   "pygments_lexer": "ipython3",
   "version": "3.10.13"
  }
 },
 "nbformat": 4,
 "nbformat_minor": 5
}
