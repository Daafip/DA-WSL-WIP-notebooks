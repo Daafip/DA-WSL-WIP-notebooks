{
 "cells": [
  {
   "cell_type": "code",
   "execution_count": 1,
   "id": "67193873-d4a0-4ebb-a42e-057a3d77df66",
   "metadata": {},
   "outputs": [],
   "source": [
    "# general python\n",
    "import warnings\n",
    "warnings.filterwarnings(\"ignore\", category=UserWarning)\n",
    "import numpy as np\n",
    "import os\n",
    "from pathlib import Path\n",
    "import yaml\n",
    "import pandas as pd\n",
    "import matplotlib.pyplot as plt\n",
    "from datetime import datetime\n",
    "import scipy\n",
    "import xarray as xr\n",
    "from tqdm import tqdm\n",
    "import glob\n",
    "# from devtools import pprint\n",
    "from rich import print\n",
    "from tqdm import tqdm"
   ]
  },
  {
   "cell_type": "code",
   "execution_count": 2,
   "id": "f9b153b4-dba9-4676-85a4-224041c66f59",
   "metadata": {},
   "outputs": [],
   "source": [
    "# general eWC\n",
    "import ewatercycle\n",
    "import ewatercycle.forcing\n",
    "import ewatercycle.models"
   ]
  },
  {
   "cell_type": "code",
   "execution_count": 3,
   "id": "916af79e-89bb-4d73-8aaf-829214d4494c",
   "metadata": {},
   "outputs": [
    {
     "data": {
      "text/plain": [
       "PosixPath('/home/davidhaasnoot/eWaterCycle-WSL-WIP/Forcing')"
      ]
     },
     "execution_count": 3,
     "metadata": {},
     "output_type": "execute_result"
    }
   ],
   "source": [
    "path = Path.cwd()\n",
    "forcing_path = path / \"Forcing\"\n",
    "observations_path = path / \"Observations\"\n",
    "figure_path = path / \"Figures\"\n",
    "output_path = path / \"Output\"\n",
    "forcing_path"
   ]
  },
  {
   "cell_type": "markdown",
   "id": "9acf43ec-9590-4629-b671-c461abed4e62",
   "metadata": {},
   "source": [
    "Simple example using HBV:"
   ]
  },
  {
   "cell_type": "code",
   "execution_count": 4,
   "id": "1e9811b5-d075-4ad9-95a4-2f9011f6bc5f",
   "metadata": {},
   "outputs": [],
   "source": [
    "from ewatercycle.forcing import sources"
   ]
  },
  {
   "cell_type": "code",
   "execution_count": 5,
   "id": "9efe7d30-8a5a-4e12-a719-37c3e5963bcc",
   "metadata": {},
   "outputs": [],
   "source": [
    "import importlib.util\n",
    "\n",
    "def module_from_file(module_name, file_path):\n",
    "    spec = importlib.util.spec_from_file_location(module_name, file_path)\n",
    "    module = importlib.util.module_from_spec(spec)\n",
    "    spec.loader.exec_module(module)\n",
    "    return module"
   ]
  },
  {
   "cell_type": "code",
   "execution_count": 6,
   "id": "9e98e215-43c8-419e-8cef-9c47ff9eb847",
   "metadata": {},
   "outputs": [],
   "source": [
    "DA = module_from_file(\"DA\",r'../eWaterCycle-DA/src/ewatercycle_DA/DA.py')"
   ]
  },
  {
   "cell_type": "code",
   "execution_count": 7,
   "id": "7818d91d-c27e-4d08-952f-6122a8c00625",
   "metadata": {},
   "outputs": [],
   "source": [
    "n_particles = 10"
   ]
  },
  {
   "cell_type": "code",
   "execution_count": 8,
   "id": "4a63e538-02af-404e-9cf9-49dabb556033",
   "metadata": {},
   "outputs": [],
   "source": [
    "ensemble = DA.Ensemble(N=n_particles)\n",
    "ensemble.setup()"
   ]
  },
  {
   "cell_type": "code",
   "execution_count": 9,
   "id": "8e98fb9b-85a6-4dc0-89fb-1713a06b721b",
   "metadata": {},
   "outputs": [],
   "source": [
    "experiment_start_date = \"1997-08-01T00:00:00Z\"\n",
    "experiment_end_date = \"1999-03-01T00:00:00Z\"\n",
    "HRU_id = 14138900"
   ]
  },
  {
   "cell_type": "code",
   "execution_count": 10,
   "id": "fac67c25-f382-4204-bb63-17c0962a05c7",
   "metadata": {},
   "outputs": [],
   "source": [
    "forcing_args = []\n",
    "for i in range(1,11):\n",
    "    forcing_args.append(dict(\n",
    "        start_time = experiment_start_date,\n",
    "        end_time = experiment_end_date,\n",
    "        directory = forcing_path,\n",
    "        camels_file = f'0{HRU_id}_lump_cida_forcing_leap.txt', \n",
    "        alpha = 1.23 + (i/100)\n",
    "    ))"
   ]
  },
  {
   "cell_type": "code",
   "execution_count": 11,
   "id": "0105fd92-2cb1-4124-9841-bd7438a0bebb",
   "metadata": {},
   "outputs": [],
   "source": [
    "lst_forcing = ensemble.generate_forcing([ewatercycle.forcing.sources.HBVForcing]*10, forcing_args)"
   ]
  },
  {
   "cell_type": "code",
   "execution_count": 12,
   "id": "332675df-cf2e-49d5-a3b0-d73c5f134459",
   "metadata": {},
   "outputs": [
    {
     "data": {
      "text/plain": [
       "[HBVForcing(start_time='1997-08-01T00:00:00Z', end_time='1999-03-01T00:00:00Z', directory=PosixPath('/home/davidhaasnoot/eWaterCycle-WSL-WIP/Forcing'), shape=None, filenames={}, camels_file='014138900_lump_cida_forcing_leap.txt', pr='.nc', evspsblpot='.nc', tas='.nc', alpha=1.24, test_data_bool=False),\n",
       " HBVForcing(start_time='1997-08-01T00:00:00Z', end_time='1999-03-01T00:00:00Z', directory=PosixPath('/home/davidhaasnoot/eWaterCycle-WSL-WIP/Forcing'), shape=None, filenames={}, camels_file='014138900_lump_cida_forcing_leap.txt', pr='.nc', evspsblpot='.nc', tas='.nc', alpha=1.25, test_data_bool=False),\n",
       " HBVForcing(start_time='1997-08-01T00:00:00Z', end_time='1999-03-01T00:00:00Z', directory=PosixPath('/home/davidhaasnoot/eWaterCycle-WSL-WIP/Forcing'), shape=None, filenames={}, camels_file='014138900_lump_cida_forcing_leap.txt', pr='.nc', evspsblpot='.nc', tas='.nc', alpha=1.26, test_data_bool=False),\n",
       " HBVForcing(start_time='1997-08-01T00:00:00Z', end_time='1999-03-01T00:00:00Z', directory=PosixPath('/home/davidhaasnoot/eWaterCycle-WSL-WIP/Forcing'), shape=None, filenames={}, camels_file='014138900_lump_cida_forcing_leap.txt', pr='.nc', evspsblpot='.nc', tas='.nc', alpha=1.27, test_data_bool=False),\n",
       " HBVForcing(start_time='1997-08-01T00:00:00Z', end_time='1999-03-01T00:00:00Z', directory=PosixPath('/home/davidhaasnoot/eWaterCycle-WSL-WIP/Forcing'), shape=None, filenames={}, camels_file='014138900_lump_cida_forcing_leap.txt', pr='.nc', evspsblpot='.nc', tas='.nc', alpha=1.28, test_data_bool=False),\n",
       " HBVForcing(start_time='1997-08-01T00:00:00Z', end_time='1999-03-01T00:00:00Z', directory=PosixPath('/home/davidhaasnoot/eWaterCycle-WSL-WIP/Forcing'), shape=None, filenames={}, camels_file='014138900_lump_cida_forcing_leap.txt', pr='.nc', evspsblpot='.nc', tas='.nc', alpha=1.29, test_data_bool=False),\n",
       " HBVForcing(start_time='1997-08-01T00:00:00Z', end_time='1999-03-01T00:00:00Z', directory=PosixPath('/home/davidhaasnoot/eWaterCycle-WSL-WIP/Forcing'), shape=None, filenames={}, camels_file='014138900_lump_cida_forcing_leap.txt', pr='.nc', evspsblpot='.nc', tas='.nc', alpha=1.3, test_data_bool=False),\n",
       " HBVForcing(start_time='1997-08-01T00:00:00Z', end_time='1999-03-01T00:00:00Z', directory=PosixPath('/home/davidhaasnoot/eWaterCycle-WSL-WIP/Forcing'), shape=None, filenames={}, camels_file='014138900_lump_cida_forcing_leap.txt', pr='.nc', evspsblpot='.nc', tas='.nc', alpha=1.31, test_data_bool=False),\n",
       " HBVForcing(start_time='1997-08-01T00:00:00Z', end_time='1999-03-01T00:00:00Z', directory=PosixPath('/home/davidhaasnoot/eWaterCycle-WSL-WIP/Forcing'), shape=None, filenames={}, camels_file='014138900_lump_cida_forcing_leap.txt', pr='.nc', evspsblpot='.nc', tas='.nc', alpha=1.32, test_data_bool=False),\n",
       " HBVForcing(start_time='1997-08-01T00:00:00Z', end_time='1999-03-01T00:00:00Z', directory=PosixPath('/home/davidhaasnoot/eWaterCycle-WSL-WIP/Forcing'), shape=None, filenames={}, camels_file='014138900_lump_cida_forcing_leap.txt', pr='.nc', evspsblpot='.nc', tas='.nc', alpha=1.33, test_data_bool=False)]"
      ]
     },
     "execution_count": 12,
     "metadata": {},
     "output_type": "execute_result"
    }
   ],
   "source": [
    "lst_forcing"
   ]
  },
  {
   "cell_type": "markdown",
   "id": "4ddc9558-d381-4c8b-a194-b7d0504a84f9",
   "metadata": {},
   "source": [
    "## Using ERA5 data"
   ]
  },
  {
   "cell_type": "code",
   "execution_count": 13,
   "id": "6aa2e6c3-beec-4737-935f-d9643fd5ebb4",
   "metadata": {},
   "outputs": [],
   "source": [
    "#shapefile that describes the basin we want to study.\n",
    "path = Path.cwd()\n",
    "forcing_path = path / \"Forcing\"\n",
    "shapeFile = forcing_path/ \"Rhine_shp\" / \"Rhine.shp\"\n",
    "\n",
    "#location to saved forcing results from previous notebook\n",
    "forcingLocation = forcing_path / \"RhineForcing2000-2002\"\n",
    "\n",
    "#GRDC station ID for the observation station\n",
    "grdc_station_id = \"6335020\"  # GRDC station ID\n",
    "basin_name = \"Rhine\"\n",
    "observation_path = path / \"Observations\"\n",
    "\n",
    "#period of interest. Make sure that GRDC data is available for this period and that.\n",
    "experiment_start_time=\"2000-01-01T00:00:00Z\""
   ]
  },
  {
   "cell_type": "code",
   "execution_count": 14,
   "id": "9fb99b75-a2a8-4875-8bf1-5329f3a8b39d",
   "metadata": {},
   "outputs": [
    {
     "data": {
      "text/plain": [
       "ewatercycle._forcings.makkink.LumpedMakkinkForcing"
      ]
     },
     "execution_count": 14,
     "metadata": {},
     "output_type": "execute_result"
    }
   ],
   "source": [
    "ewatercycle.forcing.sources[\"LumpedMakkinkForcing\"]"
   ]
  },
  {
   "cell_type": "code",
   "execution_count": 15,
   "id": "03270905-223d-49a0-a4de-bb6cf90f9aa8",
   "metadata": {},
   "outputs": [],
   "source": [
    "n_particles = 6"
   ]
  },
  {
   "cell_type": "code",
   "execution_count": 16,
   "id": "8d34c610-4cf7-45e2-bfe6-9cd9238ff1ed",
   "metadata": {},
   "outputs": [],
   "source": [
    "ensemble = DA.Ensemble(N=n_particles)\n",
    "ensemble.setup()"
   ]
  },
  {
   "cell_type": "code",
   "execution_count": 17,
   "id": "ef3033b2-0b7f-4825-88d0-11a3639095c2",
   "metadata": {},
   "outputs": [],
   "source": [
    "forcing_args = []\n",
    "for i in range(1,n_particles+1):\n",
    "    forcing_args.append(dict(\n",
    "        dataset=\"ERA5\",\n",
    "        start_time = experiment_start_date,\n",
    "        end_time = f\"2000-0{i}-01T00:00:00Z\",\n",
    "        shape = shapeFile.absolute()\n",
    "    ))"
   ]
  },
  {
   "cell_type": "code",
   "execution_count": 18,
   "id": "af1cb333-37bb-463a-95a3-a8a9d897db3f",
   "metadata": {},
   "outputs": [
    {
     "name": "stderr",
     "output_type": "stream",
     "text": [
      "ERROR:esmvalcore._recipe.check:No input files found for Dataset:\n",
      "{'diagnostic': 'diagnostic',\n",
      " 'variable_group': 'pr',\n",
      " 'dataset': 'ERA5',\n",
      " 'project': 'OBS6',\n",
      " 'mip': 'day',\n",
      " 'short_name': 'pr',\n",
      " 'alias': 'ERA5',\n",
      " 'frequency': 'day',\n",
      " 'long_name': 'Precipitation',\n",
      " 'modeling_realm': ['atmos'],\n",
      " 'original_short_name': 'pr',\n",
      " 'preprocessor': 'pr',\n",
      " 'recipe_dataset_index': 0,\n",
      " 'standard_name': 'precipitation_flux',\n",
      " 'tier': 3,\n",
      " 'timerange': '1997/2000',\n",
      " 'type': 'reanaly',\n",
      " 'units': 'kg m-2 s-1',\n",
      " 'version': 1}\n",
      "session: 'ewcrep0sjohs3__20240422_144817'\n",
      "ERROR:esmvalcore._recipe.check:Looked for files matching: /home/davidhaasnoot/dcache/climate-data/obs/Tier3/ERA5/OBS6_ERA5_reanaly_1_day_pr[_.]*nc\n",
      "ERROR:esmvalcore._recipe.check:Set 'log_level' to 'debug' to get more information\n",
      "ERROR:esmvalcore._recipe.check:No input files found for Dataset:\n",
      "{'diagnostic': 'diagnostic',\n",
      " 'variable_group': 'tas',\n",
      " 'dataset': 'ERA5',\n",
      " 'project': 'OBS6',\n",
      " 'mip': 'day',\n",
      " 'short_name': 'tas',\n",
      " 'alias': 'ERA5',\n",
      " 'frequency': 'day',\n",
      " 'long_name': 'Near-Surface Air Temperature',\n",
      " 'modeling_realm': ['atmos'],\n",
      " 'original_short_name': 'tas',\n",
      " 'preprocessor': 'tas',\n",
      " 'recipe_dataset_index': 0,\n",
      " 'standard_name': 'air_temperature',\n",
      " 'tier': 3,\n",
      " 'timerange': '1997/2000',\n",
      " 'type': 'reanaly',\n",
      " 'units': 'K',\n",
      " 'version': 1}\n",
      "session: 'ewcrep0sjohs3__20240422_144817'\n",
      "ERROR:esmvalcore._recipe.check:Looked for files matching: /home/davidhaasnoot/dcache/climate-data/obs/Tier3/ERA5/OBS6_ERA5_reanaly_1_day_tas[_.]*nc\n",
      "ERROR:esmvalcore._recipe.check:Set 'log_level' to 'debug' to get more information\n",
      "ERROR:esmvalcore._recipe.check:No input files found for Dataset:\n",
      "{'diagnostic': 'diagnostic',\n",
      " 'variable_group': 'rsds',\n",
      " 'dataset': 'ERA5',\n",
      " 'project': 'OBS6',\n",
      " 'mip': 'day',\n",
      " 'short_name': 'rsds',\n",
      " 'alias': 'ERA5',\n",
      " 'frequency': 'day',\n",
      " 'long_name': 'Surface Downwelling Shortwave Radiation',\n",
      " 'modeling_realm': ['atmos'],\n",
      " 'original_short_name': 'rsds',\n",
      " 'preprocessor': 'rsds',\n",
      " 'recipe_dataset_index': 0,\n",
      " 'standard_name': 'surface_downwelling_shortwave_flux_in_air',\n",
      " 'tier': 3,\n",
      " 'timerange': '1997/2000',\n",
      " 'type': 'reanaly',\n",
      " 'units': 'W m-2',\n",
      " 'version': 1}\n",
      "session: 'ewcrep0sjohs3__20240422_144817'\n",
      "ERROR:esmvalcore._recipe.check:Looked for files matching: /home/davidhaasnoot/dcache/climate-data/obs/Tier3/ERA5/OBS6_ERA5_reanaly_1_day_rsds[_.]*nc\n",
      "ERROR:esmvalcore._recipe.check:Set 'log_level' to 'debug' to get more information\n",
      "ERROR:esmvalcore._recipe.recipe:Could not create all tasks\n",
      "ERROR:esmvalcore._recipe.recipe:Missing data for preprocessor diagnostic/pr:\n",
      "- Missing data for Dataset: pr, day, OBS6, ERA5, 1\n",
      "ERROR:esmvalcore._recipe.recipe:Missing data for preprocessor diagnostic/tas:\n",
      "- Missing data for Dataset: tas, day, OBS6, ERA5, 1\n",
      "ERROR:esmvalcore._recipe.recipe:Missing data for preprocessor diagnostic/rsds:\n",
      "- Missing data for Dataset: rsds, day, OBS6, ERA5, 1\n"
     ]
    },
    {
     "ename": "RecipeError",
     "evalue": "Could not create all tasks",
     "output_type": "error",
     "traceback": [
      "\u001b[0;31m---------------------------------------------------------------------------\u001b[0m",
      "\u001b[0;31mRecipeError\u001b[0m                               Traceback (most recent call last)",
      "Cell \u001b[0;32mIn[18], line 1\u001b[0m\n\u001b[0;32m----> 1\u001b[0m \u001b[43mewatercycle\u001b[49m\u001b[38;5;241;43m.\u001b[39;49m\u001b[43mforcing\u001b[49m\u001b[38;5;241;43m.\u001b[39;49m\u001b[43msources\u001b[49m\u001b[43m[\u001b[49m\u001b[38;5;124;43m\"\u001b[39;49m\u001b[38;5;124;43mLumpedMakkinkForcing\u001b[39;49m\u001b[38;5;124;43m\"\u001b[39;49m\u001b[43m]\u001b[49m\u001b[38;5;241;43m.\u001b[39;49m\u001b[43mgenerate\u001b[49m\u001b[43m(\u001b[49m\u001b[38;5;241;43m*\u001b[39;49m\u001b[38;5;241;43m*\u001b[39;49m\u001b[43mforcing_args\u001b[49m\u001b[43m[\u001b[49m\u001b[38;5;241;43m0\u001b[39;49m\u001b[43m]\u001b[49m\u001b[43m)\u001b[49m\n",
      "File \u001b[0;32m~/miniconda3/envs/ewatercycle/lib/python3.10/site-packages/ewatercycle/_forcings/makkink.py:51\u001b[0m, in \u001b[0;36mMakkink.generate\u001b[0;34m(cls, dataset, start_time, end_time, shape, directory, **model_specific_options)\u001b[0m\n\u001b[1;32m     41\u001b[0m \u001b[38;5;129m@classmethod\u001b[39m\n\u001b[1;32m     42\u001b[0m \u001b[38;5;28;01mdef\u001b[39;00m \u001b[38;5;21mgenerate\u001b[39m(  \u001b[38;5;66;03m# type: ignore[override]\u001b[39;00m\n\u001b[1;32m     43\u001b[0m     \u001b[38;5;28mcls\u001b[39m: \u001b[38;5;28mtype\u001b[39m[\u001b[38;5;124m\"\u001b[39m\u001b[38;5;124mMakkink\u001b[39m\u001b[38;5;124m\"\u001b[39m],\n\u001b[0;32m   (...)\u001b[0m\n\u001b[1;32m     49\u001b[0m     \u001b[38;5;241m*\u001b[39m\u001b[38;5;241m*\u001b[39mmodel_specific_options,\n\u001b[1;32m     50\u001b[0m ) \u001b[38;5;241m-\u001b[39m\u001b[38;5;241m>\u001b[39m \u001b[38;5;124m\"\u001b[39m\u001b[38;5;124mMakkink\u001b[39m\u001b[38;5;124m\"\u001b[39m:\n\u001b[0;32m---> 51\u001b[0m     \u001b[38;5;28;01mreturn\u001b[39;00m \u001b[38;5;28;43msuper\u001b[39;49m\u001b[43m(\u001b[49m\u001b[43m)\u001b[49m\u001b[38;5;241;43m.\u001b[39;49m\u001b[43mgenerate\u001b[49m\u001b[43m(\u001b[49m\n\u001b[1;32m     52\u001b[0m \u001b[43m        \u001b[49m\u001b[43mdataset\u001b[49m\u001b[43m,\u001b[49m\n\u001b[1;32m     53\u001b[0m \u001b[43m        \u001b[49m\u001b[43mstart_time\u001b[49m\u001b[43m,\u001b[49m\n\u001b[1;32m     54\u001b[0m \u001b[43m        \u001b[49m\u001b[43mend_time\u001b[49m\u001b[43m,\u001b[49m\n\u001b[1;32m     55\u001b[0m \u001b[43m        \u001b[49m\u001b[43mshape\u001b[49m\u001b[43m,\u001b[49m\n\u001b[1;32m     56\u001b[0m \u001b[43m        \u001b[49m\u001b[43mdirectory\u001b[49m\u001b[43m,\u001b[49m\n\u001b[1;32m     57\u001b[0m \u001b[43m        \u001b[49m\u001b[43mvariables\u001b[49m\u001b[38;5;241;43m=\u001b[39;49m\u001b[43m(\u001b[49m\u001b[38;5;124;43m\"\u001b[39;49m\u001b[38;5;124;43mpr\u001b[39;49m\u001b[38;5;124;43m\"\u001b[39;49m\u001b[43m,\u001b[49m\u001b[43m \u001b[49m\u001b[38;5;124;43m\"\u001b[39;49m\u001b[38;5;124;43mtas\u001b[39;49m\u001b[38;5;124;43m\"\u001b[39;49m\u001b[43m,\u001b[49m\u001b[43m \u001b[49m\u001b[38;5;124;43m\"\u001b[39;49m\u001b[38;5;124;43mrsds\u001b[39;49m\u001b[38;5;124;43m\"\u001b[39;49m\u001b[43m)\u001b[49m\u001b[43m,\u001b[49m\n\u001b[1;32m     58\u001b[0m \u001b[43m        \u001b[49m\u001b[43mpostprocessor\u001b[49m\u001b[38;5;241;43m=\u001b[39;49m\u001b[43mderive_e_pot\u001b[49m\u001b[43m,\u001b[49m\n\u001b[1;32m     59\u001b[0m \u001b[43m        \u001b[49m\u001b[38;5;241;43m*\u001b[39;49m\u001b[38;5;241;43m*\u001b[39;49m\u001b[43mmodel_specific_options\u001b[49m\u001b[43m,\u001b[49m\n\u001b[1;32m     60\u001b[0m \u001b[43m    \u001b[49m\u001b[43m)\u001b[49m\n",
      "File \u001b[0;32m~/miniconda3/envs/ewatercycle/lib/python3.10/site-packages/ewatercycle/base/forcing.py:149\u001b[0m, in \u001b[0;36mDefaultForcing.generate\u001b[0;34m(cls, dataset, start_time, end_time, shape, directory, variables, postprocessor, **model_specific_options)\u001b[0m\n\u001b[1;32m    117\u001b[0m \u001b[38;5;250m\u001b[39m\u001b[38;5;124;03m\"\"\"Generate forcings for a model.\u001b[39;00m\n\u001b[1;32m    118\u001b[0m \n\u001b[1;32m    119\u001b[0m \u001b[38;5;124;03mThe forcing is generated with help of\u001b[39;00m\n\u001b[0;32m   (...)\u001b[0m\n\u001b[1;32m    138\u001b[0m \u001b[38;5;124;03m        the names & filenames of the variables it derived.\u001b[39;00m\n\u001b[1;32m    139\u001b[0m \u001b[38;5;124;03m\"\"\"\u001b[39;00m\n\u001b[1;32m    140\u001b[0m recipe \u001b[38;5;241m=\u001b[39m \u001b[38;5;28mcls\u001b[39m\u001b[38;5;241m.\u001b[39m_build_recipe(\n\u001b[1;32m    141\u001b[0m     dataset\u001b[38;5;241m=\u001b[39mdataset,\n\u001b[1;32m    142\u001b[0m     start_time\u001b[38;5;241m=\u001b[39mget_time(start_time),\n\u001b[0;32m   (...)\u001b[0m\n\u001b[1;32m    146\u001b[0m     \u001b[38;5;241m*\u001b[39m\u001b[38;5;241m*\u001b[39mmodel_specific_options,\n\u001b[1;32m    147\u001b[0m )\n\u001b[0;32m--> 149\u001b[0m recipe_output \u001b[38;5;241m=\u001b[39m \u001b[38;5;28;43mcls\u001b[39;49m\u001b[38;5;241;43m.\u001b[39;49m\u001b[43m_run_recipe\u001b[49m\u001b[43m(\u001b[49m\n\u001b[1;32m    150\u001b[0m \u001b[43m    \u001b[49m\u001b[43mrecipe\u001b[49m\u001b[43m,\u001b[49m\u001b[43m \u001b[49m\u001b[43mdirectory\u001b[49m\u001b[38;5;241;43m=\u001b[39;49m\u001b[43mPath\u001b[49m\u001b[43m(\u001b[49m\u001b[43mdirectory\u001b[49m\u001b[43m)\u001b[49m\u001b[43m \u001b[49m\u001b[38;5;28;43;01mif\u001b[39;49;00m\u001b[43m \u001b[49m\u001b[43mdirectory\u001b[49m\u001b[43m \u001b[49m\u001b[38;5;28;43;01melse\u001b[39;49;00m\u001b[43m \u001b[49m\u001b[38;5;28;43;01mNone\u001b[39;49;00m\n\u001b[1;32m    151\u001b[0m \u001b[43m\u001b[49m\u001b[43m)\u001b[49m\n\u001b[1;32m    153\u001b[0m derived_variables: \u001b[38;5;28mtuple\u001b[39m[\u001b[38;5;28mstr\u001b[39m, \u001b[38;5;241m.\u001b[39m\u001b[38;5;241m.\u001b[39m\u001b[38;5;241m.\u001b[39m] \u001b[38;5;241m=\u001b[39m ()\n\u001b[1;32m    154\u001b[0m \u001b[38;5;28;01mif\u001b[39;00m postprocessor \u001b[38;5;129;01mis\u001b[39;00m \u001b[38;5;129;01mnot\u001b[39;00m \u001b[38;5;28;01mNone\u001b[39;00m:\n",
      "File \u001b[0;32m~/miniconda3/envs/ewatercycle/lib/python3.10/site-packages/ewatercycle/base/forcing.py:203\u001b[0m, in \u001b[0;36mDefaultForcing._run_recipe\u001b[0;34m(cls, recipe, directory)\u001b[0m\n\u001b[1;32m    197\u001b[0m \u001b[38;5;129m@classmethod\u001b[39m\n\u001b[1;32m    198\u001b[0m \u001b[38;5;28;01mdef\u001b[39;00m \u001b[38;5;21m_run_recipe\u001b[39m(\n\u001b[1;32m    199\u001b[0m     \u001b[38;5;28mcls\u001b[39m,\n\u001b[1;32m    200\u001b[0m     recipe: Recipe,\n\u001b[1;32m    201\u001b[0m     directory: Optional[Path] \u001b[38;5;241m=\u001b[39m \u001b[38;5;28;01mNone\u001b[39;00m,\n\u001b[1;32m    202\u001b[0m ) \u001b[38;5;241m-\u001b[39m\u001b[38;5;241m>\u001b[39m \u001b[38;5;28mdict\u001b[39m[\u001b[38;5;28mstr\u001b[39m, \u001b[38;5;28mstr\u001b[39m]:\n\u001b[0;32m--> 203\u001b[0m     \u001b[38;5;28;01mreturn\u001b[39;00m \u001b[43mrun_recipe\u001b[49m\u001b[43m(\u001b[49m\u001b[43mrecipe\u001b[49m\u001b[43m,\u001b[49m\u001b[43m \u001b[49m\u001b[43mdirectory\u001b[49m\u001b[43m)\u001b[49m\n",
      "File \u001b[0;32m~/miniconda3/envs/ewatercycle/lib/python3.10/site-packages/ewatercycle/esmvaltool/run.py:103\u001b[0m, in \u001b[0;36mrun_recipe\u001b[0;34m(recipe, output_dir)\u001b[0m\n\u001b[1;32m     94\u001b[0m warnings\u001b[38;5;241m.\u001b[39mfilterwarnings(  \u001b[38;5;66;03m# Not relevant for end users.\u001b[39;00m\n\u001b[1;32m     95\u001b[0m     action\u001b[38;5;241m=\u001b[39m\u001b[38;5;124m\"\u001b[39m\u001b[38;5;124mignore\u001b[39m\u001b[38;5;124m\"\u001b[39m,\n\u001b[1;32m     96\u001b[0m     message\u001b[38;5;241m=\u001b[39m\u001b[38;5;124m\"\u001b[39m\u001b[38;5;124mThank you for trying out the new ESMValCore API\u001b[39m\u001b[38;5;124m\"\u001b[39m,\n\u001b[1;32m     97\u001b[0m )\n\u001b[1;32m     98\u001b[0m warnings\u001b[38;5;241m.\u001b[39mfilterwarnings(  \u001b[38;5;66;03m# Hide Iris warning (upstream issue)\u001b[39;00m\n\u001b[1;32m     99\u001b[0m     action\u001b[38;5;241m=\u001b[39m\u001b[38;5;124m\"\u001b[39m\u001b[38;5;124mignore\u001b[39m\u001b[38;5;124m\"\u001b[39m,\n\u001b[1;32m    100\u001b[0m     message\u001b[38;5;241m=\u001b[39m\u001b[38;5;124m\"\u001b[39m\u001b[38;5;124mSaving to netcdf with legacy-style attribute\u001b[39m\u001b[38;5;124m\"\u001b[39m,\n\u001b[1;32m    101\u001b[0m )\n\u001b[0;32m--> 103\u001b[0m output \u001b[38;5;241m=\u001b[39m \u001b[43m_save_and_run_recipe\u001b[49m\u001b[43m(\u001b[49m\u001b[43mrecipe\u001b[49m\u001b[43m,\u001b[49m\u001b[43m \u001b[49m\u001b[43moutput_dir\u001b[49m\u001b[43m)\u001b[49m\n\u001b[1;32m    104\u001b[0m \u001b[38;5;28;01mreturn\u001b[39;00m _parse_recipe_output(output)\n",
      "File \u001b[0;32m~/miniconda3/envs/ewatercycle/lib/python3.10/site-packages/ewatercycle/esmvaltool/run.py:131\u001b[0m, in \u001b[0;36m_save_and_run_recipe\u001b[0;34m(recipe, output_dir)\u001b[0m\n\u001b[1;32m    129\u001b[0m     esmlvaltool_recipe \u001b[38;5;241m=\u001b[39m ESMValToolRecipe(recipe_path)\n\u001b[1;32m    130\u001b[0m     session \u001b[38;5;241m=\u001b[39m _session(output_dir)\n\u001b[0;32m--> 131\u001b[0m     output \u001b[38;5;241m=\u001b[39m \u001b[43mesmlvaltool_recipe\u001b[49m\u001b[38;5;241;43m.\u001b[39;49m\u001b[43mrun\u001b[49m\u001b[43m(\u001b[49m\u001b[43msession\u001b[49m\u001b[38;5;241;43m=\u001b[39;49m\u001b[43msession\u001b[49m\u001b[43m)\u001b[49m\n\u001b[1;32m    132\u001b[0m \u001b[38;5;28;01mfinally\u001b[39;00m:\n\u001b[1;32m    133\u001b[0m     recipe_path\u001b[38;5;241m.\u001b[39munlink()\n",
      "File \u001b[0;32m~/miniconda3/envs/ewatercycle/lib/python3.10/site-packages/esmvalcore/experimental/recipe.py:137\u001b[0m, in \u001b[0;36mRecipe.run\u001b[0;34m(self, task, session)\u001b[0m\n\u001b[1;32m    135\u001b[0m \u001b[38;5;28;01mwith\u001b[39;00m log_to_dir(session\u001b[38;5;241m.\u001b[39mrun_dir):\n\u001b[1;32m    136\u001b[0m     _dask\u001b[38;5;241m.\u001b[39mcheck_distributed_config()\n\u001b[0;32m--> 137\u001b[0m     \u001b[38;5;28mself\u001b[39m\u001b[38;5;241m.\u001b[39m_engine \u001b[38;5;241m=\u001b[39m \u001b[38;5;28;43mself\u001b[39;49m\u001b[38;5;241;43m.\u001b[39;49m\u001b[43m_load\u001b[49m\u001b[43m(\u001b[49m\u001b[43msession\u001b[49m\u001b[38;5;241;43m=\u001b[39;49m\u001b[43msession\u001b[49m\u001b[43m)\u001b[49m\n\u001b[1;32m    138\u001b[0m     \u001b[38;5;28mself\u001b[39m\u001b[38;5;241m.\u001b[39m_engine\u001b[38;5;241m.\u001b[39mrun()\n\u001b[1;32m    140\u001b[0m shutil\u001b[38;5;241m.\u001b[39mcopy2(\u001b[38;5;28mself\u001b[39m\u001b[38;5;241m.\u001b[39mpath, session\u001b[38;5;241m.\u001b[39mrun_dir)\n",
      "File \u001b[0;32m~/miniconda3/envs/ewatercycle/lib/python3.10/site-packages/esmvalcore/experimental/recipe.py:97\u001b[0m, in \u001b[0;36mRecipe._load\u001b[0;34m(self, session)\u001b[0m\n\u001b[1;32m     78\u001b[0m \u001b[38;5;250m\u001b[39m\u001b[38;5;124;03m\"\"\"Load the recipe.\u001b[39;00m\n\u001b[1;32m     79\u001b[0m \n\u001b[1;32m     80\u001b[0m \u001b[38;5;124;03mThis method loads the recipe into the internal ESMValCore Recipe\u001b[39;00m\n\u001b[0;32m   (...)\u001b[0m\n\u001b[1;32m     93\u001b[0m \u001b[38;5;124;03m    Return an instance of the Recipe\u001b[39;00m\n\u001b[1;32m     94\u001b[0m \u001b[38;5;124;03m\"\"\"\u001b[39;00m\n\u001b[1;32m     95\u001b[0m logger\u001b[38;5;241m.\u001b[39minfo(pprint\u001b[38;5;241m.\u001b[39mpformat(session))\n\u001b[0;32m---> 97\u001b[0m \u001b[38;5;28;01mreturn\u001b[39;00m \u001b[43mRecipeEngine\u001b[49m\u001b[43m(\u001b[49m\u001b[43mraw_recipe\u001b[49m\u001b[38;5;241;43m=\u001b[39;49m\u001b[38;5;28;43mself\u001b[39;49m\u001b[38;5;241;43m.\u001b[39;49m\u001b[43mdata\u001b[49m\u001b[43m,\u001b[49m\n\u001b[1;32m     98\u001b[0m \u001b[43m                    \u001b[49m\u001b[43msession\u001b[49m\u001b[38;5;241;43m=\u001b[39;49m\u001b[43msession\u001b[49m\u001b[43m,\u001b[49m\n\u001b[1;32m     99\u001b[0m \u001b[43m                    \u001b[49m\u001b[43mrecipe_file\u001b[49m\u001b[38;5;241;43m=\u001b[39;49m\u001b[38;5;28;43mself\u001b[39;49m\u001b[38;5;241;43m.\u001b[39;49m\u001b[43mpath\u001b[49m\u001b[43m)\u001b[49m\n",
      "File \u001b[0;32m~/miniconda3/envs/ewatercycle/lib/python3.10/site-packages/esmvalcore/_recipe/recipe.py:720\u001b[0m, in \u001b[0;36mRecipe.__init__\u001b[0;34m(self, raw_recipe, session, recipe_file)\u001b[0m\n\u001b[1;32m    717\u001b[0m \u001b[38;5;28mself\u001b[39m\u001b[38;5;241m.\u001b[39mentity \u001b[38;5;241m=\u001b[39m \u001b[38;5;28mself\u001b[39m\u001b[38;5;241m.\u001b[39m_initialize_provenance(\n\u001b[1;32m    718\u001b[0m     raw_recipe\u001b[38;5;241m.\u001b[39mget(\u001b[38;5;124m'\u001b[39m\u001b[38;5;124mdocumentation\u001b[39m\u001b[38;5;124m'\u001b[39m, {}))\n\u001b[1;32m    719\u001b[0m \u001b[38;5;28;01mtry\u001b[39;00m:\n\u001b[0;32m--> 720\u001b[0m     \u001b[38;5;28mself\u001b[39m\u001b[38;5;241m.\u001b[39mtasks \u001b[38;5;241m=\u001b[39m \u001b[38;5;28;43mself\u001b[39;49m\u001b[38;5;241;43m.\u001b[39;49m\u001b[43minitialize_tasks\u001b[49m\u001b[43m(\u001b[49m\u001b[43m)\u001b[49m\n\u001b[1;32m    721\u001b[0m \u001b[38;5;28;01mexcept\u001b[39;00m RecipeError \u001b[38;5;28;01mas\u001b[39;00m exc:\n\u001b[1;32m    722\u001b[0m     \u001b[38;5;28mself\u001b[39m\u001b[38;5;241m.\u001b[39m_log_recipe_errors(exc)\n",
      "File \u001b[0;32m~/miniconda3/envs/ewatercycle/lib/python3.10/site-packages/esmvalcore/_recipe/recipe.py:1046\u001b[0m, in \u001b[0;36mRecipe.initialize_tasks\u001b[0;34m(self)\u001b[0m\n\u001b[1;32m   1044\u001b[0m \u001b[38;5;28;01mdef\u001b[39;00m \u001b[38;5;21minitialize_tasks\u001b[39m(\u001b[38;5;28mself\u001b[39m):\n\u001b[1;32m   1045\u001b[0m \u001b[38;5;250m    \u001b[39m\u001b[38;5;124;03m\"\"\"Define tasks in recipe.\"\"\"\u001b[39;00m\n\u001b[0;32m-> 1046\u001b[0m     tasks \u001b[38;5;241m=\u001b[39m \u001b[38;5;28;43mself\u001b[39;49m\u001b[38;5;241;43m.\u001b[39;49m\u001b[43m_create_tasks\u001b[49m\u001b[43m(\u001b[49m\u001b[43m)\u001b[49m\n\u001b[1;32m   1047\u001b[0m     tasks \u001b[38;5;241m=\u001b[39m tasks\u001b[38;5;241m.\u001b[39mflatten()\n\u001b[1;32m   1048\u001b[0m     logger\u001b[38;5;241m.\u001b[39minfo(\u001b[38;5;124m\"\u001b[39m\u001b[38;5;124mThese tasks will be executed: \u001b[39m\u001b[38;5;132;01m%s\u001b[39;00m\u001b[38;5;124m\"\u001b[39m,\n\u001b[1;32m   1049\u001b[0m                 \u001b[38;5;124m'\u001b[39m\u001b[38;5;124m, \u001b[39m\u001b[38;5;124m'\u001b[39m\u001b[38;5;241m.\u001b[39mjoin(t\u001b[38;5;241m.\u001b[39mname \u001b[38;5;28;01mfor\u001b[39;00m t \u001b[38;5;129;01min\u001b[39;00m tasks))\n",
      "File \u001b[0;32m~/miniconda3/envs/ewatercycle/lib/python3.10/site-packages/esmvalcore/_recipe/recipe.py:1034\u001b[0m, in \u001b[0;36mRecipe._create_tasks\u001b[0;34m(self)\u001b[0m\n\u001b[1;32m   1032\u001b[0m     recipe_error \u001b[38;5;241m=\u001b[39m RecipeError(\u001b[38;5;124m'\u001b[39m\u001b[38;5;124mCould not create all tasks\u001b[39m\u001b[38;5;124m'\u001b[39m)\n\u001b[1;32m   1033\u001b[0m     recipe_error\u001b[38;5;241m.\u001b[39mfailed_tasks\u001b[38;5;241m.\u001b[39mextend(failed_tasks)\n\u001b[0;32m-> 1034\u001b[0m     \u001b[38;5;28;01mraise\u001b[39;00m recipe_error\n\u001b[1;32m   1036\u001b[0m check\u001b[38;5;241m.\u001b[39mtasks_valid(tasks)\n\u001b[1;32m   1038\u001b[0m \u001b[38;5;66;03m# Resolve diagnostic ancestors\u001b[39;00m\n",
      "\u001b[0;31mRecipeError\u001b[0m: Could not create all tasks"
     ]
    }
   ],
   "source": [
    "ewatercycle.forcing.sources[\"LumpedMakkinkForcing\"].generate(**forcing_args[0])"
   ]
  },
  {
   "cell_type": "code",
   "execution_count": null,
   "id": "9eb62db2-f78e-41ba-976f-200cd3cb3366",
   "metadata": {},
   "outputs": [],
   "source": [
    "lst_forcing = ensemble.generate_forcing(ewatercycle.forcing.sources[\"LumpedMakkinkForcing\"].generate, forcing_args)"
   ]
  }
 ],
 "metadata": {
  "kernelspec": {
   "display_name": "Python 3 (ipykernel)",
   "language": "python",
   "name": "python3"
  },
  "language_info": {
   "codemirror_mode": {
    "name": "ipython",
    "version": 3
   },
   "file_extension": ".py",
   "mimetype": "text/x-python",
   "name": "python",
   "nbconvert_exporter": "python",
   "pygments_lexer": "ipython3",
   "version": "3.10.13"
  }
 },
 "nbformat": 4,
 "nbformat_minor": 5
}
