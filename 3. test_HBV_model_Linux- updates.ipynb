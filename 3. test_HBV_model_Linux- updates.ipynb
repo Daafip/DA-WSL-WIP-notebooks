{
 "cells": [
  {
   "cell_type": "markdown",
   "id": "e9cd8d85-eb4a-45d6-925a-e3e770592043",
   "metadata": {},
   "source": [
    "### Import modules and verify they work? "
   ]
  },
  {
   "cell_type": "code",
   "execution_count": 1,
   "id": "ec7e710a-5aa4-40f9-a1cb-151e3cddbe04",
   "metadata": {},
   "outputs": [],
   "source": [
    "# general python\n",
    "import warnings\n",
    "warnings.filterwarnings(\"ignore\", category=UserWarning)\n",
    "import numpy as np\n",
    "import os\n",
    "from pathlib import Path\n",
    "import yaml\n",
    "import pandas as pd\n",
    "import matplotlib.pyplot as plt"
   ]
  },
  {
   "cell_type": "code",
   "execution_count": 2,
   "id": "4569a0f2-4bea-48cc-b5a4-ca5384e368c6",
   "metadata": {},
   "outputs": [],
   "source": [
    "# general eWC\n",
    "import ewatercycle\n",
    "import ewatercycle.models"
   ]
  },
  {
   "cell_type": "code",
   "execution_count": 3,
   "id": "98a3463b-eedd-4f59-a542-6afd58cf6eb4",
   "metadata": {
    "scrolled": true
   },
   "outputs": [],
   "source": [
    "# pip install ewatercycle-HBV==1.1.0"
   ]
  },
  {
   "cell_type": "code",
   "execution_count": 4,
   "id": "5d74399c-ca5a-4313-983a-12e34faf140b",
   "metadata": {},
   "outputs": [],
   "source": [
    "# pip install HBV==1.1.0"
   ]
  },
  {
   "cell_type": "code",
   "execution_count": 5,
   "id": "ea9c713f-e179-4dc7-ba20-843b83de4518",
   "metadata": {},
   "outputs": [],
   "source": [
    "# for local mode\n",
    "from typing import Type\n",
    "from ewatercycle.base.model import LocalModel\n",
    "from ewatercycle_HBV.model import HBVMethods # Use custom forcing instead\n",
    "from HBV import HBV as HBV_bmi\n",
    "from bmipy import Bmi\n",
    "\n",
    "class LocalModelHBV(LocalModel, HBVMethods):\n",
    "    \"\"\"The HBV eWaterCycle model, with the local BMI.\"\"\"\n",
    "    bmi_class: Type[Bmi] = HBV_bmi"
   ]
  },
  {
   "cell_type": "code",
   "execution_count": 6,
   "id": "6585261f-a0e0-4bfc-bfce-e26acea0e3b0",
   "metadata": {},
   "outputs": [
    {
     "data": {
      "text/plain": [
       "__main__.LocalModelHBV"
      ]
     },
     "execution_count": 6,
     "metadata": {},
     "output_type": "execute_result"
    }
   ],
   "source": [
    "LocalModelHBV"
   ]
  },
  {
   "cell_type": "markdown",
   "id": "111bc65b-8299-43ba-95fd-e92df6b92707",
   "metadata": {},
   "source": [
    "#### set up paths"
   ]
  },
  {
   "cell_type": "code",
   "execution_count": 7,
   "id": "df66893d-b667-4fcc-a841-683f32ed2cc7",
   "metadata": {},
   "outputs": [
    {
     "data": {
      "text/plain": [
       "PosixPath('/home/davidhaasnoot/eWaterCycle-WSL-WIP/Forcing')"
      ]
     },
     "execution_count": 7,
     "metadata": {},
     "output_type": "execute_result"
    }
   ],
   "source": [
    "path = Path.cwd()\n",
    "forcing_path = path / \"Forcing\"\n",
    "forcing_path"
   ]
  },
  {
   "cell_type": "markdown",
   "id": "4787c692-3f9c-402b-9b48-93daeeb47926",
   "metadata": {},
   "source": [
    "#### add parameter info"
   ]
  },
  {
   "cell_type": "code",
   "execution_count": 8,
   "id": "33fbba0f-dbc0-4812-9125-79e0df831e7b",
   "metadata": {},
   "outputs": [],
   "source": [
    "## Array of initial storage terms - we keep these constant for now \n",
    "##              Si,  Su, Sf, Ss\n",
    "s_0 = np.array([0,  100,  0,  5])\n",
    "\n",
    "## Array of parameters min/max bounds as a reference\n",
    "##                      Imax,  Ce,  Sumax, beta,  Pmax,  T_lag,   Kf,   Ks\n",
    "p_min_initial= np.array([0,   0.2,  40,    .5,   .001,   1,     .01,  .0001])\n",
    "p_max_initial = np.array([8,    1,  800,   4,    .3,     10,    .1,   .01])\n",
    "p_names = [\"$I_{max}$\",  \"$C_e$\",  \"$Su_{max}$\", \"β\",  \"$P_{max}$\",  \"$T_{lag}$\",   \"$K_f$\",   \"$K_s$\"]\n",
    "S_names = [\"Interception storage\", \"Unsaturated Rootzone Storage\", \"Fastflow storage\", \"Groundwater storage\"]\n",
    "param_names = [\"Imax\",\"Ce\",  \"Sumax\", \"beta\",  \"Pmax\",  \"Tlag\",   \"Kf\",   \"Ks\"]\n",
    "\n",
    "# set initial as mean of max,min\n",
    "par_0 = (p_min_initial + p_max_initial)/2"
   ]
  },
  {
   "cell_type": "code",
   "execution_count": 9,
   "id": "03aea008-87ce-4d09-8d01-f12dfe6bb116",
   "metadata": {},
   "outputs": [],
   "source": [
    "experiment_start_date = \"1997-08-01T00:00:00Z\"\n",
    "experiment_end_date = \"2000-08-31T00:00:00Z\""
   ]
  },
  {
   "cell_type": "code",
   "execution_count": 10,
   "id": "41855c32-2650-403e-bcad-332eab6c1ec4",
   "metadata": {},
   "outputs": [],
   "source": [
    "from ewatercycle_HBV.forcing import HBVForcing"
   ]
  },
  {
   "cell_type": "code",
   "execution_count": 11,
   "id": "6249ec9f-8ff2-4181-ac6f-cac309d8cf72",
   "metadata": {},
   "outputs": [],
   "source": [
    "test_forcing = HBVForcing(start_time = experiment_start_date,\n",
    "                          end_time = experiment_end_date,\n",
    "                          directory = forcing_path,\n",
    "                          forcing_file = \"test_forcing.txt\",\n",
    "                          )"
   ]
  },
  {
   "cell_type": "code",
   "execution_count": 12,
   "id": "f5962203-87d3-45dc-acf8-1354522e5fe1",
   "metadata": {},
   "outputs": [],
   "source": [
    "ds = test_forcing.to_xarray()"
   ]
  },
  {
   "cell_type": "markdown",
   "id": "7ab1b4e5-c1bf-48d1-a46a-19a7aeb8867c",
   "metadata": {},
   "source": [
    "#### Can also run locally when developing - v0.1.1. here\n",
    "```py\n",
    "from ewatercycle.container import ContainerImage\n",
    "LeakyBucket(forcing=forcing, bmi_image=ContainerImage(\"local_image:latest\"))\n",
    "```"
   ]
  },
  {
   "cell_type": "code",
   "execution_count": 13,
   "id": "9aad16e2-272a-4fe3-a048-0801cbfa4a52",
   "metadata": {
    "editable": true,
    "slideshow": {
     "slide_type": ""
    },
    "tags": []
   },
   "outputs": [],
   "source": [
    "from ewatercycle.container import ContainerImage\n",
    "local_model = LocalModelHBV(forcing=test_forcing)"
   ]
  },
  {
   "cell_type": "markdown",
   "id": "b6f86ebb-37ed-4db7-b011-971b8eafbbb0",
   "metadata": {},
   "source": [
    "need to  add a local container to run"
   ]
  },
  {
   "cell_type": "code",
   "execution_count": 14,
   "id": "a6c23e65-f652-444b-9782-238b8ad957a7",
   "metadata": {},
   "outputs": [],
   "source": [
    "config_file, _ = local_model.setup(\n",
    "            parameters=','.join([str(p) for p in par_0]),\n",
    "            initial_storage=','.join([str(s) for s in s_0]),\n",
    "           )"
   ]
  },
  {
   "cell_type": "code",
   "execution_count": 15,
   "id": "33bec934-bd45-4274-9204-3c762564434c",
   "metadata": {},
   "outputs": [],
   "source": [
    "local_model.initialize(config_file)"
   ]
  },
  {
   "cell_type": "code",
   "execution_count": 16,
   "id": "5c67e834-9232-41a3-9e19-216c742e83da",
   "metadata": {},
   "outputs": [],
   "source": [
    "Q_m = []\n",
    "time = []\n",
    "while local_model.time < local_model.end_time:\n",
    "    local_model.update()\n",
    "    Q_m.append(local_model.get_value(\"Q_m\"))\n",
    "    time.append(local_model.time_as_datetime.date())"
   ]
  },
  {
   "cell_type": "code",
   "execution_count": 17,
   "id": "d6d843b5-08d7-44da-b2ff-098b71091a9c",
   "metadata": {},
   "outputs": [
    {
     "data": {
      "text/plain": [
       "[<matplotlib.lines.Line2D at 0x7fcc31fdaa70>]"
      ]
     },
     "execution_count": 17,
     "metadata": {},
     "output_type": "execute_result"
    },
    {
     "data": {
      "image/png": "[encoded data removed]",
      "text/plain": [
       "<Figure size 640x480 with 1 Axes>"
      ]
     },
     "metadata": {},
     "output_type": "display_data"
    }
   ],
   "source": [
    "plt.plot(time[:-10], Q_m[:-10])"
   ]
  },
  {
   "cell_type": "code",
   "execution_count": 18,
   "id": "56ce06cb-80f2-4817-b87b-a9d2aaab97a6",
   "metadata": {},
   "outputs": [],
   "source": [
    "local_model = LocalModelHBV(forcing=test_forcing)\n",
    "config_file, _ = local_model.setup(\n",
    "            parameters=','.join([str(p) for p in par_0]),\n",
    "            initial_storage=','.join([str(s) for s in s_0]),\n",
    "           )\n",
    "local_model.initialize(config_file)"
   ]
  },
  {
   "cell_type": "code",
   "execution_count": 19,
   "id": "338079db-8874-4d0b-bd3c-64511139093c",
   "metadata": {},
   "outputs": [],
   "source": [
    "local_model.update()"
   ]
  },
  {
   "cell_type": "code",
   "execution_count": 20,
   "id": "f67e9bc1-7bac-4936-a474-7fbdda7143de",
   "metadata": {},
   "outputs": [
    {
     "data": {
      "text/plain": [
       "array([0.00288673])"
      ]
     },
     "execution_count": 20,
     "metadata": {},
     "output_type": "execute_result"
    }
   ],
   "source": [
    "local_model.get_value(\"Q_m\")"
   ]
  },
  {
   "cell_type": "code",
   "execution_count": 21,
   "id": "e429054c-3771-4a48-83f2-dead0e81918b",
   "metadata": {},
   "outputs": [],
   "source": [
    "local_model.update()"
   ]
  },
  {
   "cell_type": "code",
   "execution_count": 22,
   "id": "a90460f5-dca2-4d45-b1e3-1c65e6e33de0",
   "metadata": {},
   "outputs": [
    {
     "data": {
      "text/plain": [
       "array([0.01155502])"
      ]
     },
     "execution_count": 22,
     "metadata": {},
     "output_type": "execute_result"
    }
   ],
   "source": [
    "local_model.get_value(\"Q_m\")"
   ]
  },
  {
   "cell_type": "code",
   "execution_count": 23,
   "id": "c0c8d444-9214-4591-9331-f12dec843264",
   "metadata": {},
   "outputs": [
    {
     "data": {
      "text/plain": [
       "5.0"
      ]
     },
     "execution_count": 23,
     "metadata": {},
     "output_type": "execute_result"
    }
   ],
   "source": [
    "local_model.get_value(\"Tlag\")[0]"
   ]
  },
  {
   "cell_type": "code",
   "execution_count": 24,
   "id": "2441ae1f-f3c5-4554-a7dc-be0231e8c1cd",
   "metadata": {},
   "outputs": [
    {
     "name": "stdout",
     "output_type": "stream",
     "text": [
      "0\n",
      "1\n",
      "2\n",
      "3\n",
      "4\n"
     ]
    }
   ],
   "source": [
    "for i in range(int(local_model.get_value(\"Tlag\")[0])):\n",
    "    print(i)"
   ]
  },
  {
   "cell_type": "code",
   "execution_count": 25,
   "id": "f9bd038c-9183-4da6-b2a4-06791172534f",
   "metadata": {},
   "outputs": [
    {
     "data": {
      "text/plain": [
       "array([0.02167478, 0.02168695, 0.01157124, 0.00289484, 0.        ])"
      ]
     },
     "execution_count": 25,
     "metadata": {},
     "output_type": "execute_result"
    }
   ],
   "source": [
    "old_memory_vector = np.array([local_model.get_value(f\"memory_vector{i}\") for i in range(int(local_model.get_value(\"Tlag\")[0]))]).flatten()\n",
    "old_memory_vector"
   ]
  },
  {
   "cell_type": "code",
   "execution_count": 26,
   "id": "636e77d0-650e-41b5-b11d-798eabe0435b",
   "metadata": {},
   "outputs": [],
   "source": [
    "old_T_lag = 5"
   ]
  },
  {
   "cell_type": "code",
   "execution_count": 27,
   "id": "33cd7d04-cc95-4bf3-8156-4624f36bfbc3",
   "metadata": {},
   "outputs": [],
   "source": [
    "# local_model.set_value(\"Tlag\",np.array([10]))"
   ]
  },
  {
   "cell_type": "code",
   "execution_count": 28,
   "id": "d9b5f3c5-bb4d-4349-8616-a3f21e193db1",
   "metadata": {},
   "outputs": [
    {
     "data": {
      "text/plain": [
       "array([0.02168695])"
      ]
     },
     "execution_count": 28,
     "metadata": {},
     "output_type": "execute_result"
    }
   ],
   "source": [
    "local_model.get_value(\"memory_vector1\")"
   ]
  },
  {
   "cell_type": "code",
   "execution_count": 29,
   "id": "e1bafbe5-ca1a-46a1-9c7b-ec698e902a62",
   "metadata": {},
   "outputs": [],
   "source": [
    "new_T_lag = 6"
   ]
  },
  {
   "cell_type": "code",
   "execution_count": 30,
   "id": "f3fe683b-770f-469b-9133-8444d2e68f6e",
   "metadata": {},
   "outputs": [],
   "source": [
    "# np.zeros(new_T_lag)+ old_memory_vector "
   ]
  },
  {
   "cell_type": "code",
   "execution_count": 31,
   "id": "0185af1e-089d-4199-be04-10eb0ca6344d",
   "metadata": {},
   "outputs": [],
   "source": [
    "local_model.update()"
   ]
  },
  {
   "cell_type": "code",
   "execution_count": 32,
   "id": "ba02be72-cfef-497f-9623-c12b206ce6ec",
   "metadata": {},
   "outputs": [
    {
     "data": {
      "text/plain": [
       "array([0.03081666, 0.0252658 , 0.01202455, 0.00304324, 0.        ])"
      ]
     },
     "execution_count": 32,
     "metadata": {},
     "output_type": "execute_result"
    }
   ],
   "source": [
    "old_memory_vector = np.array([local_model.get_value(f\"memory_vector{i}\") for i in range(int(local_model.get_value(\"Tlag\")[0]))]).flatten()\n",
    "old_memory_vector"
   ]
  },
  {
   "cell_type": "code",
   "execution_count": 33,
   "id": "c64df938-e734-483a-8267-23d9e0b42946",
   "metadata": {},
   "outputs": [
    {
     "data": {
      "text/plain": [
       "array([0., 0., 0., 0., 0., 0.])"
      ]
     },
     "execution_count": 33,
     "metadata": {},
     "output_type": "execute_result"
    }
   ],
   "source": [
    "new_memory_vector = np.zeros(new_T_lag)\n",
    "new_memory_vector"
   ]
  },
  {
   "cell_type": "code",
   "execution_count": 34,
   "id": "17dd14bd-19a0-4c59-a54e-593ff43be27b",
   "metadata": {},
   "outputs": [],
   "source": [
    "new_memory_vector[:old_T_lag] = old_memory_vector"
   ]
  },
  {
   "cell_type": "code",
   "execution_count": 35,
   "id": "7b3b9b13-c99e-48ec-ba21-370bae71d77c",
   "metadata": {},
   "outputs": [
    {
     "data": {
      "text/plain": [
       "array([0.03081666, 0.0252658 , 0.01202455, 0.00304324, 0.        ,\n",
       "       0.        ])"
      ]
     },
     "execution_count": 35,
     "metadata": {},
     "output_type": "execute_result"
    }
   ],
   "source": [
    "new_memory_vector"
   ]
  },
  {
   "cell_type": "code",
   "execution_count": 36,
   "id": "3cff92b8-3687-466e-96f7-18f1d0329790",
   "metadata": {},
   "outputs": [],
   "source": [
    "local_model.update()"
   ]
  },
  {
   "cell_type": "code",
   "execution_count": 37,
   "id": "c4b6b489-96aa-4564-b3a8-b81c4c43a4c3",
   "metadata": {},
   "outputs": [
    {
     "data": {
      "text/plain": [
       "array([0.03424415, 0.02549207, 0.01202158, 0.00299278, 0.        ])"
      ]
     },
     "execution_count": 37,
     "metadata": {},
     "output_type": "execute_result"
    }
   ],
   "source": [
    "old_memory_vector = np.array([local_model.get_value(f\"memory_vector{i}\") for i in range(int(local_model.get_value(\"Tlag\")[0]))]).flatten()\n",
    "old_memory_vector"
   ]
  },
  {
   "cell_type": "code",
   "execution_count": 38,
   "id": "0f7ef610-8dce-4b98-825f-07987571da9c",
   "metadata": {},
   "outputs": [],
   "source": [
    "new_T_lag = 3"
   ]
  },
  {
   "cell_type": "code",
   "execution_count": 39,
   "id": "a15ed18f-9e83-461c-91ce-1b8804fc6e87",
   "metadata": {},
   "outputs": [
    {
     "data": {
      "text/plain": [
       "array([0., 0., 0.])"
      ]
     },
     "execution_count": 39,
     "metadata": {},
     "output_type": "execute_result"
    }
   ],
   "source": [
    "new_memory_vector = np.zeros(new_T_lag)\n",
    "new_memory_vector"
   ]
  },
  {
   "cell_type": "code",
   "execution_count": 40,
   "id": "32120e70-9e17-44db-9b50-f00b5d0cb2eb",
   "metadata": {},
   "outputs": [],
   "source": [
    "if old_T_lag < new_T_lag:\n",
    "    new_memory_vector[:old_T_lag] = old_memory_vector\n",
    "elif old_T_lag > new_T_lag:\n",
    "    new_memory_vector = old_memory_vector[:new_T_lag]\n",
    "    new_memory_vector[-1] += sum(old_memory_vector[new_T_lag:])\n",
    "    "
   ]
  },
  {
   "cell_type": "code",
   "execution_count": 41,
   "id": "035fefb8-0103-47a9-b7a2-9ff6d2962178",
   "metadata": {},
   "outputs": [
    {
     "data": {
      "text/plain": [
       "array([0.03424415, 0.02549207, 0.01501437])"
      ]
     },
     "execution_count": 41,
     "metadata": {},
     "output_type": "execute_result"
    }
   ],
   "source": [
    "new_memory_vector"
   ]
  },
  {
   "cell_type": "code",
   "execution_count": 42,
   "id": "d215a857-9ba1-4a21-b4f5-1ea4d1f3f360",
   "metadata": {},
   "outputs": [],
   "source": [
    "local_model.update()"
   ]
  },
  {
   "cell_type": "code",
   "execution_count": 43,
   "id": "8911e692-ddba-4131-a306-06cf82655cd0",
   "metadata": {},
   "outputs": [
    {
     "data": {
      "text/plain": [
       "array([0.03432716, 0.02527422, 0.01182787, 0.00294503, 0.        ])"
      ]
     },
     "execution_count": 43,
     "metadata": {},
     "output_type": "execute_result"
    }
   ],
   "source": [
    "old_memory_vector = np.array([local_model.get_value(f\"memory_vector{i}\") for i in range(int(local_model.get_value(\"Tlag\")[0]))]).flatten()\n",
    "old_memory_vector"
   ]
  },
  {
   "cell_type": "code",
   "execution_count": 44,
   "id": "c0c3e945-6547-4f06-89e7-3de5af169161",
   "metadata": {},
   "outputs": [],
   "source": [
    "local_model.set_value(\"Tlag\",np.array([4]))"
   ]
  },
  {
   "cell_type": "code",
   "execution_count": 45,
   "id": "d7ea225a-0b9e-4d54-9d17-fde228807a3d",
   "metadata": {},
   "outputs": [
    {
     "data": {
      "text/plain": [
       "array([0.03432716, 0.02527422, 0.01182787, 0.00294503])"
      ]
     },
     "execution_count": 45,
     "metadata": {},
     "output_type": "execute_result"
    }
   ],
   "source": [
    "old_memory_vector = np.array([local_model.get_value(f\"memory_vector{i}\") for i in range(int(local_model.get_value(\"Tlag\")[0]))]).flatten()\n",
    "old_memory_vector"
   ]
  },
  {
   "cell_type": "code",
   "execution_count": 46,
   "id": "f45b51d0-60ef-4d02-80c0-cf579eaeb20b",
   "metadata": {},
   "outputs": [],
   "source": [
    "local_model.set_value(\"Tlag\",np.array([5]))"
   ]
  },
  {
   "cell_type": "code",
   "execution_count": 47,
   "id": "23c900cd-e581-4350-ade7-049337202c43",
   "metadata": {},
   "outputs": [
    {
     "data": {
      "text/plain": [
       "array([0.03432716, 0.02527422, 0.01182787, 0.00294503, 0.        ])"
      ]
     },
     "execution_count": 47,
     "metadata": {},
     "output_type": "execute_result"
    }
   ],
   "source": [
    "old_memory_vector = np.array([local_model.get_value(f\"memory_vector{i}\") for i in range(int(local_model.get_value(\"Tlag\")[0]))]).flatten()\n",
    "old_memory_vector"
   ]
  },
  {
   "cell_type": "code",
   "execution_count": null,
   "id": "137ced46-7893-4215-a87e-7e5f531fdef5",
   "metadata": {},
   "outputs": [],
   "source": []
  }
 ],
 "metadata": {
  "kernelspec": {
   "display_name": "Python 3 (ipykernel)",
   "language": "python",
   "name": "python3"
  },
  "language_info": {
   "codemirror_mode": {
    "name": "ipython",
    "version": 3
   },
   "file_extension": ".py",
   "mimetype": "text/x-python",
   "name": "python",
   "nbconvert_exporter": "python",
   "pygments_lexer": "ipython3",
   "version": "3.10.13"
  }
 },
 "nbformat": 4,
 "nbformat_minor": 5
}
