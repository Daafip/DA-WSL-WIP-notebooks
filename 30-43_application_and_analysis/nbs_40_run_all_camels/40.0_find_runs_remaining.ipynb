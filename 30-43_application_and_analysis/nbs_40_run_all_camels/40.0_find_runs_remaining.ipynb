{
 "cells": [
  {
   "cell_type": "code",
   "execution_count": 97,
   "id": "3ba70f6f-4d2b-4010-814c-85dc538c040d",
   "metadata": {},
   "outputs": [],
   "source": [
    "from pathlib import Path\n",
    "import pandas as pd\n",
    "import numpy as np\n",
    "import xarray as xr"
   ]
  },
  {
   "cell_type": "code",
   "execution_count": 69,
   "id": "779cf0f6-5a0b-433e-b8ce-1c9b02383be1",
   "metadata": {},
   "outputs": [],
   "source": [
    "forcing_path = Path.cwd() /\"Forcing\"\n",
    "forcing = [int(path.name[0:8]) for path in\n",
    "               forcing_path.glob(\"*_lump_cida_forcing_leap.txt\")]\n",
    "# forcing = [path.name[0:8] for path in\n",
    "#                forcing_path.glob(\"*_lump_cida_forcing_leap.txt\")]\n"
   ]
  },
  {
   "cell_type": "code",
   "execution_count": 70,
   "id": "7f0a94c3-d17d-4781-aef8-6691d7b6d0af",
   "metadata": {},
   "outputs": [
    {
     "data": {
      "text/plain": [
       "675"
      ]
     },
     "execution_count": 70,
     "metadata": {},
     "output_type": "execute_result"
    }
   ],
   "source": [
    "len(forcing)"
   ]
  },
  {
   "cell_type": "code",
   "execution_count": 71,
   "id": "91b6eb25-551e-4a04-a321-1419dda37975",
   "metadata": {},
   "outputs": [],
   "source": [
    "observation_path = Path.cwd() /\"Observations\"\n",
    "observations = [int(path.name[0:8]) for path in\n",
    "               observation_path.glob(\"*_streamflow_qc.txt\")]\n",
    "# observations = [path.name[0:8] for path in\n",
    "#                observation_path.glob(\"*_streamflow_qc.txt\")]"
   ]
  },
  {
   "cell_type": "code",
   "execution_count": 72,
   "id": "e577556e-f885-4114-8146-b14ac93f5d71",
   "metadata": {},
   "outputs": [
    {
     "data": {
      "text/plain": [
       "{2081113, 3448942}"
      ]
     },
     "execution_count": 72,
     "metadata": {},
     "output_type": "execute_result"
    }
   ],
   "source": [
    "set(forcing).difference(set(observations))"
   ]
  },
  {
   "cell_type": "code",
   "execution_count": 73,
   "id": "5020b420-6f07-4f85-b7a4-596603ae751b",
   "metadata": {},
   "outputs": [],
   "source": [
    "output_path = Path.cwd() /\"Output\"\n",
    "output = [int(path.name[0:8]) for path in\n",
    "               output_path.glob(\"*.nc\")]\n",
    "ouput = sorted(output)"
   ]
  },
  {
   "cell_type": "code",
   "execution_count": 74,
   "id": "51573bc5-1979-4145-b3a2-bd1dc61c8721",
   "metadata": {},
   "outputs": [
    {
     "data": {
      "text/plain": [
       "(1013500, 1022500, 14400000, 14362250)"
      ]
     },
     "execution_count": 74,
     "metadata": {},
     "output_type": "execute_result"
    }
   ],
   "source": [
    "ouput[0],ouput[1],ouput[-1],ouput[-2]"
   ]
  },
  {
   "cell_type": "code",
   "execution_count": 75,
   "id": "43e0be84-f192-4276-b2fe-d6401dc1bd21",
   "metadata": {},
   "outputs": [],
   "source": [
    "prev = \"0\"\n",
    "for uid in output:\n",
    "    if int(uid) == int(prev):\n",
    "        print(uid)\n",
    "    prev = uid\n",
    "\n",
    "seen = set()\n",
    "uniq = []\n",
    "for uid in output:\n",
    "    if uid not in seen:\n",
    "        uniq.append(uid)\n",
    "        seen.add(uid)\n",
    "    else:\n",
    "        print(uid)"
   ]
  },
  {
   "cell_type": "code",
   "execution_count": 76,
   "id": "635f0aea-58d1-4210-ace8-76f7ce270799",
   "metadata": {},
   "outputs": [
    {
     "data": {
      "text/plain": [
       "675"
      ]
     },
     "execution_count": 76,
     "metadata": {},
     "output_type": "execute_result"
    }
   ],
   "source": [
    "len(forcing) "
   ]
  },
  {
   "cell_type": "code",
   "execution_count": 77,
   "id": "50f0c62d-89d6-4e3c-a887-d8ef010ec499",
   "metadata": {},
   "outputs": [
    {
     "data": {
      "text/plain": [
       "670"
      ]
     },
     "execution_count": 77,
     "metadata": {},
     "output_type": "execute_result"
    }
   ],
   "source": [
    "len(output)"
   ]
  },
  {
   "cell_type": "code",
   "execution_count": 78,
   "id": "b29450a0-e745-4b95-a50b-7e45ac20602c",
   "metadata": {},
   "outputs": [
    {
     "data": {
      "text/plain": [
       "670"
      ]
     },
     "execution_count": 78,
     "metadata": {},
     "output_type": "execute_result"
    }
   ],
   "source": [
    "len(set(output))"
   ]
  },
  {
   "cell_type": "code",
   "execution_count": 79,
   "id": "aba42526-6ae4-4190-9a12-5628a99fefaa",
   "metadata": {},
   "outputs": [],
   "source": [
    "known_missing = {2081113, 3448942, 9535100, 3281100}"
   ]
  },
  {
   "cell_type": "markdown",
   "id": "2440cdf8-53c5-41bd-a98a-434c3e9da0d2",
   "metadata": {},
   "source": [
    "missing streamflow file : 2081113, 3448942\n",
    "\n",
    "9535100 - only 1981"
   ]
  },
  {
   "cell_type": "markdown",
   "id": "e7fd156d-088c-4e60-808a-2c8aae697753",
   "metadata": {},
   "source": [
    "3281100 missing data"
   ]
  },
  {
   "cell_type": "code",
   "execution_count": 80,
   "id": "cfd0776b-462d-4bc2-8c44-68f2f5e03c7f",
   "metadata": {},
   "outputs": [
    {
     "data": {
      "text/plain": [
       "{8178880}"
      ]
     },
     "execution_count": 80,
     "metadata": {},
     "output_type": "execute_result"
    }
   ],
   "source": [
    "set(forcing).difference(output).difference(known_missing)"
   ]
  },
  {
   "cell_type": "code",
   "execution_count": 109,
   "id": "9e832964-8995-4537-aae5-91327f6e24ee",
   "metadata": {},
   "outputs": [],
   "source": [
    "file = list((output_path).glob('01350140*.nc'))[0]"
   ]
  },
  {
   "cell_type": "code",
   "execution_count": 110,
   "id": "7b58ab38-0c6f-4354-9d0c-48b3d3a50c90",
   "metadata": {},
   "outputs": [],
   "source": [
    "ds_q = xr.open_dataset(file)"
   ]
  },
  {
   "cell_type": "code",
   "execution_count": 115,
   "id": "e689e660-5e38-4953-97d3-6bbc78b0a98e",
   "metadata": {},
   "outputs": [],
   "source": [
    "time = ds_q.time.values"
   ]
  },
  {
   "cell_type": "code",
   "execution_count": 104,
   "id": "50b52b64-5e24-4d9b-a27c-b7083db21966",
   "metadata": {},
   "outputs": [
    {
     "data": {
      "text/plain": [
       "2190"
      ]
     },
     "execution_count": 104,
     "metadata": {},
     "output_type": "execute_result"
    }
   ],
   "source": [
    "ds_q = xr.open_dataset(observation_path / '01350140_streamflow_qc.nc')\n",
    "len(ds_q['time'][(ds_q['time'] > np.datetime64('1997-01-01')) & (ds_q['time'] < np.datetime64('2003-01-01'))])\n"
   ]
  },
  {
   "cell_type": "code",
   "execution_count": 113,
   "id": "af62efd6-660b-4244-b8d0-e635640fc3cb",
   "metadata": {},
   "outputs": [],
   "source": [
    "ds_q = xr.open_dataset(observation_path / '08178880_streamflow_qc.nc')"
   ]
  },
  {
   "cell_type": "code",
   "execution_count": 116,
   "id": "4b522f15-76e3-45ec-8fee-056771a076b0",
   "metadata": {},
   "outputs": [
    {
     "data": {
      "text/html": [
       "<div><svg style=\"position: absolute; width: 0; height: 0; overflow: hidden\">\n",
       "<defs>\n",
       "<symbol id=\"icon-database\" viewBox=\"0 0 32 32\">\n",
       "<path d=\"M16 0c-8.837 0-16 2.239-16 5v4c0 2.761 7.163 5 16 5s16-2.239 16-5v-4c0-2.761-7.163-5-16-5z\"></path>\n",
       "<path d=\"M16 17c-8.837 0-16-2.239-16-5v6c0 2.761 7.163 5 16 5s16-2.239 16-5v-6c0 2.761-7.163 5-16 5z\"></path>\n",
       "<path d=\"M16 26c-8.837 0-16-2.239-16-5v6c0 2.761 7.163 5 16 5s16-2.239 16-5v-6c0 2.761-7.163 5-16 5z\"></path>\n",
       "</symbol>\n",
       "<symbol id=\"icon-file-text2\" viewBox=\"0 0 32 32\">\n",
       "<path d=\"M28.681 7.159c-0.694-0.947-1.662-2.053-2.724-3.116s-2.169-2.030-3.116-2.724c-1.612-1.182-2.393-1.319-2.841-1.319h-15.5c-1.378 0-2.5 1.121-2.5 2.5v27c0 1.378 1.122 2.5 2.5 2.5h23c1.378 0 2.5-1.122 2.5-2.5v-19.5c0-0.448-0.137-1.23-1.319-2.841zM24.543 5.457c0.959 0.959 1.712 1.825 2.268 2.543h-4.811v-4.811c0.718 0.556 1.584 1.309 2.543 2.268zM28 29.5c0 0.271-0.229 0.5-0.5 0.5h-23c-0.271 0-0.5-0.229-0.5-0.5v-27c0-0.271 0.229-0.5 0.5-0.5 0 0 15.499-0 15.5 0v7c0 0.552 0.448 1 1 1h7v19.5z\"></path>\n",
       "<path d=\"M23 26h-14c-0.552 0-1-0.448-1-1s0.448-1 1-1h14c0.552 0 1 0.448 1 1s-0.448 1-1 1z\"></path>\n",
       "<path d=\"M23 22h-14c-0.552 0-1-0.448-1-1s0.448-1 1-1h14c0.552 0 1 0.448 1 1s-0.448 1-1 1z\"></path>\n",
       "<path d=\"M23 18h-14c-0.552 0-1-0.448-1-1s0.448-1 1-1h14c0.552 0 1 0.448 1 1s-0.448 1-1 1z\"></path>\n",
       "</symbol>\n",
       "</defs>\n",
       "</svg>\n",
       "<style>/* CSS stylesheet for displaying xarray objects in jupyterlab.\n",
       " *\n",
       " */\n",
       "\n",
       ":root {\n",
       "  --xr-font-color0: var(--jp-content-font-color0, rgba(0, 0, 0, 1));\n",
       "  --xr-font-color2: var(--jp-content-font-color2, rgba(0, 0, 0, 0.54));\n",
       "  --xr-font-color3: var(--jp-content-font-color3, rgba(0, 0, 0, 0.38));\n",
       "  --xr-border-color: var(--jp-border-color2, #e0e0e0);\n",
       "  --xr-disabled-color: var(--jp-layout-color3, #bdbdbd);\n",
       "  --xr-background-color: var(--jp-layout-color0, white);\n",
       "  --xr-background-color-row-even: var(--jp-layout-color1, white);\n",
       "  --xr-background-color-row-odd: var(--jp-layout-color2, #eeeeee);\n",
       "}\n",
       "\n",
       "html[theme=dark],\n",
       "body[data-theme=dark],\n",
       "body.vscode-dark {\n",
       "  --xr-font-color0: rgba(255, 255, 255, 1);\n",
       "  --xr-font-color2: rgba(255, 255, 255, 0.54);\n",
       "  --xr-font-color3: rgba(255, 255, 255, 0.38);\n",
       "  --xr-border-color: #1F1F1F;\n",
       "  --xr-disabled-color: #515151;\n",
       "  --xr-background-color: #111111;\n",
       "  --xr-background-color-row-even: #111111;\n",
       "  --xr-background-color-row-odd: #313131;\n",
       "}\n",
       "\n",
       ".xr-wrap {\n",
       "  display: block !important;\n",
       "  min-width: 300px;\n",
       "  max-width: 700px;\n",
       "}\n",
       "\n",
       ".xr-text-repr-fallback {\n",
       "  /* fallback to plain text repr when CSS is not injected (untrusted notebook) */\n",
       "  display: none;\n",
       "}\n",
       "\n",
       ".xr-header {\n",
       "  padding-top: 6px;\n",
       "  padding-bottom: 6px;\n",
       "  margin-bottom: 4px;\n",
       "  border-bottom: solid 1px var(--xr-border-color);\n",
       "}\n",
       "\n",
       ".xr-header > div,\n",
       ".xr-header > ul {\n",
       "  display: inline;\n",
       "  margin-top: 0;\n",
       "  margin-bottom: 0;\n",
       "}\n",
       "\n",
       ".xr-obj-type,\n",
       ".xr-array-name {\n",
       "  margin-left: 2px;\n",
       "  margin-right: 10px;\n",
       "}\n",
       "\n",
       ".xr-obj-type {\n",
       "  color: var(--xr-font-color2);\n",
       "}\n",
       "\n",
       ".xr-sections {\n",
       "  padding-left: 0 !important;\n",
       "  display: grid;\n",
       "  grid-template-columns: 150px auto auto 1fr 20px 20px;\n",
       "}\n",
       "\n",
       ".xr-section-item {\n",
       "  display: contents;\n",
       "}\n",
       "\n",
       ".xr-section-item input {\n",
       "  display: none;\n",
       "}\n",
       "\n",
       ".xr-section-item input + label {\n",
       "  color: var(--xr-disabled-color);\n",
       "}\n",
       "\n",
       ".xr-section-item input:enabled + label {\n",
       "  cursor: pointer;\n",
       "  color: var(--xr-font-color2);\n",
       "}\n",
       "\n",
       ".xr-section-item input:enabled + label:hover {\n",
       "  color: var(--xr-font-color0);\n",
       "}\n",
       "\n",
       ".xr-section-summary {\n",
       "  grid-column: 1;\n",
       "  color: var(--xr-font-color2);\n",
       "  font-weight: 500;\n",
       "}\n",
       "\n",
       ".xr-section-summary > span {\n",
       "  display: inline-block;\n",
       "  padding-left: 0.5em;\n",
       "}\n",
       "\n",
       ".xr-section-summary-in:disabled + label {\n",
       "  color: var(--xr-font-color2);\n",
       "}\n",
       "\n",
       ".xr-section-summary-in + label:before {\n",
       "  display: inline-block;\n",
       "  content: '►';\n",
       "  font-size: 11px;\n",
       "  width: 15px;\n",
       "  text-align: center;\n",
       "}\n",
       "\n",
       ".xr-section-summary-in:disabled + label:before {\n",
       "  color: var(--xr-disabled-color);\n",
       "}\n",
       "\n",
       ".xr-section-summary-in:checked + label:before {\n",
       "  content: '▼';\n",
       "}\n",
       "\n",
       ".xr-section-summary-in:checked + label > span {\n",
       "  display: none;\n",
       "}\n",
       "\n",
       ".xr-section-summary,\n",
       ".xr-section-inline-details {\n",
       "  padding-top: 4px;\n",
       "  padding-bottom: 4px;\n",
       "}\n",
       "\n",
       ".xr-section-inline-details {\n",
       "  grid-column: 2 / -1;\n",
       "}\n",
       "\n",
       ".xr-section-details {\n",
       "  display: none;\n",
       "  grid-column: 1 / -1;\n",
       "  margin-bottom: 5px;\n",
       "}\n",
       "\n",
       ".xr-section-summary-in:checked ~ .xr-section-details {\n",
       "  display: contents;\n",
       "}\n",
       "\n",
       ".xr-array-wrap {\n",
       "  grid-column: 1 / -1;\n",
       "  display: grid;\n",
       "  grid-template-columns: 20px auto;\n",
       "}\n",
       "\n",
       ".xr-array-wrap > label {\n",
       "  grid-column: 1;\n",
       "  vertical-align: top;\n",
       "}\n",
       "\n",
       ".xr-preview {\n",
       "  color: var(--xr-font-color3);\n",
       "}\n",
       "\n",
       ".xr-array-preview,\n",
       ".xr-array-data {\n",
       "  padding: 0 5px !important;\n",
       "  grid-column: 2;\n",
       "}\n",
       "\n",
       ".xr-array-data,\n",
       ".xr-array-in:checked ~ .xr-array-preview {\n",
       "  display: none;\n",
       "}\n",
       "\n",
       ".xr-array-in:checked ~ .xr-array-data,\n",
       ".xr-array-preview {\n",
       "  display: inline-block;\n",
       "}\n",
       "\n",
       ".xr-dim-list {\n",
       "  display: inline-block !important;\n",
       "  list-style: none;\n",
       "  padding: 0 !important;\n",
       "  margin: 0;\n",
       "}\n",
       "\n",
       ".xr-dim-list li {\n",
       "  display: inline-block;\n",
       "  padding: 0;\n",
       "  margin: 0;\n",
       "}\n",
       "\n",
       ".xr-dim-list:before {\n",
       "  content: '(';\n",
       "}\n",
       "\n",
       ".xr-dim-list:after {\n",
       "  content: ')';\n",
       "}\n",
       "\n",
       ".xr-dim-list li:not(:last-child):after {\n",
       "  content: ',';\n",
       "  padding-right: 5px;\n",
       "}\n",
       "\n",
       ".xr-has-index {\n",
       "  font-weight: bold;\n",
       "}\n",
       "\n",
       ".xr-var-list,\n",
       ".xr-var-item {\n",
       "  display: contents;\n",
       "}\n",
       "\n",
       ".xr-var-item > div,\n",
       ".xr-var-item label,\n",
       ".xr-var-item > .xr-var-name span {\n",
       "  background-color: var(--xr-background-color-row-even);\n",
       "  margin-bottom: 0;\n",
       "}\n",
       "\n",
       ".xr-var-item > .xr-var-name:hover span {\n",
       "  padding-right: 5px;\n",
       "}\n",
       "\n",
       ".xr-var-list > li:nth-child(odd) > div,\n",
       ".xr-var-list > li:nth-child(odd) > label,\n",
       ".xr-var-list > li:nth-child(odd) > .xr-var-name span {\n",
       "  background-color: var(--xr-background-color-row-odd);\n",
       "}\n",
       "\n",
       ".xr-var-name {\n",
       "  grid-column: 1;\n",
       "}\n",
       "\n",
       ".xr-var-dims {\n",
       "  grid-column: 2;\n",
       "}\n",
       "\n",
       ".xr-var-dtype {\n",
       "  grid-column: 3;\n",
       "  text-align: right;\n",
       "  color: var(--xr-font-color2);\n",
       "}\n",
       "\n",
       ".xr-var-preview {\n",
       "  grid-column: 4;\n",
       "}\n",
       "\n",
       ".xr-index-preview {\n",
       "  grid-column: 2 / 5;\n",
       "  color: var(--xr-font-color2);\n",
       "}\n",
       "\n",
       ".xr-var-name,\n",
       ".xr-var-dims,\n",
       ".xr-var-dtype,\n",
       ".xr-preview,\n",
       ".xr-attrs dt {\n",
       "  white-space: nowrap;\n",
       "  overflow: hidden;\n",
       "  text-overflow: ellipsis;\n",
       "  padding-right: 10px;\n",
       "}\n",
       "\n",
       ".xr-var-name:hover,\n",
       ".xr-var-dims:hover,\n",
       ".xr-var-dtype:hover,\n",
       ".xr-attrs dt:hover {\n",
       "  overflow: visible;\n",
       "  width: auto;\n",
       "  z-index: 1;\n",
       "}\n",
       "\n",
       ".xr-var-attrs,\n",
       ".xr-var-data,\n",
       ".xr-index-data {\n",
       "  display: none;\n",
       "  background-color: var(--xr-background-color) !important;\n",
       "  padding-bottom: 5px !important;\n",
       "}\n",
       "\n",
       ".xr-var-attrs-in:checked ~ .xr-var-attrs,\n",
       ".xr-var-data-in:checked ~ .xr-var-data,\n",
       ".xr-index-data-in:checked ~ .xr-index-data {\n",
       "  display: block;\n",
       "}\n",
       "\n",
       ".xr-var-data > table {\n",
       "  float: right;\n",
       "}\n",
       "\n",
       ".xr-var-name span,\n",
       ".xr-var-data,\n",
       ".xr-index-name div,\n",
       ".xr-index-data,\n",
       ".xr-attrs {\n",
       "  padding-left: 25px !important;\n",
       "}\n",
       "\n",
       ".xr-attrs,\n",
       ".xr-var-attrs,\n",
       ".xr-var-data,\n",
       ".xr-index-data {\n",
       "  grid-column: 1 / -1;\n",
       "}\n",
       "\n",
       "dl.xr-attrs {\n",
       "  padding: 0;\n",
       "  margin: 0;\n",
       "  display: grid;\n",
       "  grid-template-columns: 125px auto;\n",
       "}\n",
       "\n",
       ".xr-attrs dt,\n",
       ".xr-attrs dd {\n",
       "  padding: 0;\n",
       "  margin: 0;\n",
       "  float: left;\n",
       "  padding-right: 10px;\n",
       "  width: auto;\n",
       "}\n",
       "\n",
       ".xr-attrs dt {\n",
       "  font-weight: normal;\n",
       "  grid-column: 1;\n",
       "}\n",
       "\n",
       ".xr-attrs dt:hover span {\n",
       "  display: inline-block;\n",
       "  background: var(--xr-background-color);\n",
       "  padding-right: 10px;\n",
       "}\n",
       "\n",
       ".xr-attrs dd {\n",
       "  grid-column: 2;\n",
       "  white-space: pre-wrap;\n",
       "  word-break: break-all;\n",
       "}\n",
       "\n",
       ".xr-icon-database,\n",
       ".xr-icon-file-text2,\n",
       ".xr-no-icon {\n",
       "  display: inline-block;\n",
       "  vertical-align: middle;\n",
       "  width: 1em;\n",
       "  height: 1.5em !important;\n",
       "  stroke-width: 0;\n",
       "  stroke: currentColor;\n",
       "  fill: currentColor;\n",
       "}\n",
       "</style><pre class='xr-text-repr-fallback'>&lt;xarray.DataArray &#x27;time&#x27; (time: 11779)&gt; Size: 94kB\n",
       "array([&#x27;1982-10-01T00:00:00.000000000&#x27;, &#x27;1982-10-02T00:00:00.000000000&#x27;,\n",
       "       &#x27;1982-10-03T00:00:00.000000000&#x27;, ..., &#x27;2014-12-29T00:00:00.000000000&#x27;,\n",
       "       &#x27;2014-12-30T00:00:00.000000000&#x27;, &#x27;2014-12-31T00:00:00.000000000&#x27;],\n",
       "      dtype=&#x27;datetime64[ns]&#x27;)\n",
       "Coordinates:\n",
       "  * time     (time) datetime64[ns] 94kB 1982-10-01 1982-10-02 ... 2014-12-31</pre><div class='xr-wrap' style='display:none'><div class='xr-header'><div class='xr-obj-type'>xarray.DataArray</div><div class='xr-array-name'>'time'</div><ul class='xr-dim-list'><li><span class='xr-has-index'>time</span>: 11779</li></ul></div><ul class='xr-sections'><li class='xr-section-item'><div class='xr-array-wrap'><input id='section-8e26a902-0127-43ec-86bc-884e3256a929' class='xr-array-in' type='checkbox' checked><label for='section-8e26a902-0127-43ec-86bc-884e3256a929' title='Show/hide data repr'><svg class='icon xr-icon-database'><use xlink:href='#icon-database'></use></svg></label><div class='xr-array-preview xr-preview'><span>1982-10-01 1982-10-02 1982-10-03 ... 2014-12-29 2014-12-30 2014-12-31</span></div><div class='xr-array-data'><pre>array([&#x27;1982-10-01T00:00:00.000000000&#x27;, &#x27;1982-10-02T00:00:00.000000000&#x27;,\n",
       "       &#x27;1982-10-03T00:00:00.000000000&#x27;, ..., &#x27;2014-12-29T00:00:00.000000000&#x27;,\n",
       "       &#x27;2014-12-30T00:00:00.000000000&#x27;, &#x27;2014-12-31T00:00:00.000000000&#x27;],\n",
       "      dtype=&#x27;datetime64[ns]&#x27;)</pre></div></div></li><li class='xr-section-item'><input id='section-466ebf16-7a27-4b1d-92a3-904a4c04732c' class='xr-section-summary-in' type='checkbox'  checked><label for='section-466ebf16-7a27-4b1d-92a3-904a4c04732c' class='xr-section-summary' >Coordinates: <span>(1)</span></label><div class='xr-section-inline-details'></div><div class='xr-section-details'><ul class='xr-var-list'><li class='xr-var-item'><div class='xr-var-name'><span class='xr-has-index'>time</span></div><div class='xr-var-dims'>(time)</div><div class='xr-var-dtype'>datetime64[ns]</div><div class='xr-var-preview xr-preview'>1982-10-01 ... 2014-12-31</div><input id='attrs-0f55f22a-f557-445a-a7ef-a2fdb5111e60' class='xr-var-attrs-in' type='checkbox' disabled><label for='attrs-0f55f22a-f557-445a-a7ef-a2fdb5111e60' title='Show/Hide attributes'><svg class='icon xr-icon-file-text2'><use xlink:href='#icon-file-text2'></use></svg></label><input id='data-350298ce-1fed-44d4-9984-92ab1ebb1f69' class='xr-var-data-in' type='checkbox'><label for='data-350298ce-1fed-44d4-9984-92ab1ebb1f69' title='Show/Hide data repr'><svg class='icon xr-icon-database'><use xlink:href='#icon-database'></use></svg></label><div class='xr-var-attrs'><dl class='xr-attrs'></dl></div><div class='xr-var-data'><pre>array([&#x27;1982-10-01T00:00:00.000000000&#x27;, &#x27;1982-10-02T00:00:00.000000000&#x27;,\n",
       "       &#x27;1982-10-03T00:00:00.000000000&#x27;, ..., &#x27;2014-12-29T00:00:00.000000000&#x27;,\n",
       "       &#x27;2014-12-30T00:00:00.000000000&#x27;, &#x27;2014-12-31T00:00:00.000000000&#x27;],\n",
       "      dtype=&#x27;datetime64[ns]&#x27;)</pre></div></li></ul></div></li><li class='xr-section-item'><input id='section-bc5df1c3-020b-42e0-9fd0-6f10691c49bf' class='xr-section-summary-in' type='checkbox'  ><label for='section-bc5df1c3-020b-42e0-9fd0-6f10691c49bf' class='xr-section-summary' >Indexes: <span>(1)</span></label><div class='xr-section-inline-details'></div><div class='xr-section-details'><ul class='xr-var-list'><li class='xr-var-item'><div class='xr-index-name'><div>time</div></div><div class='xr-index-preview'>PandasIndex</div><div></div><input id='index-61b2c047-87a4-471a-8c0f-c72ed84b242c' class='xr-index-data-in' type='checkbox'/><label for='index-61b2c047-87a4-471a-8c0f-c72ed84b242c' title='Show/Hide index repr'><svg class='icon xr-icon-database'><use xlink:href='#icon-database'></use></svg></label><div class='xr-index-data'><pre>PandasIndex(DatetimeIndex([&#x27;1982-10-01&#x27;, &#x27;1982-10-02&#x27;, &#x27;1982-10-03&#x27;, &#x27;1982-10-04&#x27;,\n",
       "               &#x27;1982-10-05&#x27;, &#x27;1982-10-06&#x27;, &#x27;1982-10-07&#x27;, &#x27;1982-10-08&#x27;,\n",
       "               &#x27;1982-10-09&#x27;, &#x27;1982-10-10&#x27;,\n",
       "               ...\n",
       "               &#x27;2014-12-22&#x27;, &#x27;2014-12-23&#x27;, &#x27;2014-12-24&#x27;, &#x27;2014-12-25&#x27;,\n",
       "               &#x27;2014-12-26&#x27;, &#x27;2014-12-27&#x27;, &#x27;2014-12-28&#x27;, &#x27;2014-12-29&#x27;,\n",
       "               &#x27;2014-12-30&#x27;, &#x27;2014-12-31&#x27;],\n",
       "              dtype=&#x27;datetime64[ns]&#x27;, name=&#x27;time&#x27;, length=11779, freq=None))</pre></div></li></ul></div></li><li class='xr-section-item'><input id='section-dc556e0c-068d-4c34-83b8-0e5aa3e6015b' class='xr-section-summary-in' type='checkbox' disabled ><label for='section-dc556e0c-068d-4c34-83b8-0e5aa3e6015b' class='xr-section-summary'  title='Expand/collapse section'>Attributes: <span>(0)</span></label><div class='xr-section-inline-details'></div><div class='xr-section-details'><dl class='xr-attrs'></dl></div></li></ul></div></div>"
      ],
      "text/plain": [
       "<xarray.DataArray 'time' (time: 11779)> Size: 94kB\n",
       "array(['1982-10-01T00:00:00.000000000', '1982-10-02T00:00:00.000000000',\n",
       "       '1982-10-03T00:00:00.000000000', ..., '2014-12-29T00:00:00.000000000',\n",
       "       '2014-12-30T00:00:00.000000000', '2014-12-31T00:00:00.000000000'],\n",
       "      dtype='datetime64[ns]')\n",
       "Coordinates:\n",
       "  * time     (time) datetime64[ns] 94kB 1982-10-01 1982-10-02 ... 2014-12-31"
      ]
     },
     "execution_count": 116,
     "metadata": {},
     "output_type": "execute_result"
    }
   ],
   "source": [
    "ds_q.time.sel(time=time)"
   ]
  },
  {
   "cell_type": "code",
   "execution_count": 106,
   "id": "46f9c3e5-ec5e-48ef-ae98-42480a6ae731",
   "metadata": {},
   "outputs": [
    {
     "data": {
      "text/plain": [
       "2189"
      ]
     },
     "execution_count": 106,
     "metadata": {},
     "output_type": "execute_result"
    }
   ],
   "source": [
    "len(ds_q['time'][(ds_q['time'] > np.datetime64('1997-01-01')) & (ds_q['time'] < np.datetime64('2003-01-01'))])"
   ]
  },
  {
   "cell_type": "code",
   "execution_count": null,
   "id": "65801b4c-039d-4ddb-bae1-70a34cc86fc5",
   "metadata": {},
   "outputs": [],
   "source": []
  },
  {
   "cell_type": "code",
   "execution_count": 92,
   "id": "601b78e6-2ee5-418f-b377-524f0c1f2746",
   "metadata": {},
   "outputs": [
    {
     "data": {
      "text/plain": [
       "[<matplotlib.lines.Line2D at 0x71e4c7381660>]"
      ]
     },
     "execution_count": 92,
     "metadata": {},
     "output_type": "execute_result"
    },
    {
     "data": {
      "image/png": "[encoded data removed]",
      "text/plain": [
       "<Figure size 640x480 with 1 Axes>"
      ]
     },
     "metadata": {},
     "output_type": "display_data"
    }
   ],
   "source": [
    "ds_q['Q'].plot(lw=0,marker='.')"
   ]
  },
  {
   "cell_type": "markdown",
   "id": "6c4a23fd-cd40-444c-a5f0-bb09a42a5bb0",
   "metadata": {},
   "source": [
    "```bash\n",
    "starting spinup of 03448942 w2s0.001at 2024-05-28 11_23\n",
    "init \n",
    "could not convert string to float: '1980 01 03 12\\t34905.54\\t0.00\\t335.25\\t0.00\\t6.88\\t-4.92\\t426.13'\n",
    "cleanup \n",
    "'NoneType' object has no attribute 'sel'\n",
    "```"
   ]
  },
  {
   "cell_type": "markdown",
   "id": "463a49cf-78d6-4c82-ade8-017dc35a4e04",
   "metadata": {},
   "source": [
    "```bash\n",
    "03281100\n",
    "\"not all values found in index 'time'\"\n",
    "cleanup \n",
    "```\n",
    "```bash\n",
    "starting spinup of 02081113 w2s0.001at 2024-05-28 11_50\n",
    "init \n",
    "could not convert string to float: '1980 01 03 12\\t34560.00\\t0.00\\t263.65\\t0.00\\t8.59\\t-3.37\\t477.79'\n",
    "cleanup \n",
    "'NoneType' object has no attribute 'sel'\n",
    "```\n",
    "\n",
    "```bash\n",
    "starting spinup of 09535100 w2s0.001at 2024-05-28 11_52\n",
    "init \n",
    "load obs \n",
    "init da \n",
    "init_da assimilate \n",
    "100%|█████████████████████████████████████████| 761/761 [05:28<00:00,  2.32it/s]\n",
    "output \n",
    "\"not all values found in index 'time'\"\n",
    "cleanup \n",
    "'NoneType' object has no attribute 'sel'\n",
    "```"
   ]
  },
  {
   "cell_type": "code",
   "execution_count": null,
   "id": "100bec1f-58af-4e69-9268-8b2b6a41b1da",
   "metadata": {},
   "outputs": [],
   "source": []
  },
  {
   "cell_type": "code",
   "execution_count": null,
   "id": "d322d0d7-eeb4-480d-92f6-48f81c40f133",
   "metadata": {},
   "outputs": [],
   "source": []
  }
 ],
 "metadata": {
  "kernelspec": {
   "display_name": "Python 3 (ipykernel)",
   "language": "python",
   "name": "python3"
  },
  "language_info": {
   "codemirror_mode": {
    "name": "ipython",
    "version": 3
   },
   "file_extension": ".py",
   "mimetype": "text/x-python",
   "name": "python",
   "nbconvert_exporter": "python",
   "pygments_lexer": "ipython3",
   "version": "3.10.14"
  }
 },
 "nbformat": 4,
 "nbformat_minor": 5
}
