{
 "cells": [
  {
   "cell_type": "markdown",
   "id": "e9cd8d85-eb4a-45d6-925a-e3e770592043",
   "metadata": {},
   "source": [
    "### Import modules and verify they work? "
   ]
  },
  {
   "cell_type": "code",
   "execution_count": 1,
   "id": "ec7e710a-5aa4-40f9-a1cb-151e3cddbe04",
   "metadata": {},
   "outputs": [],
   "source": [
    "# general python\n",
    "import warnings\n",
    "warnings.filterwarnings(\"ignore\", category=UserWarning)\n",
    "import numpy as np\n",
    "import os\n",
    "from pathlib import Path\n",
    "import yaml\n",
    "import pandas as pd\n",
    "import matplotlib.pyplot as plt\n",
    "from datetime import datetime\n",
    "import scipy\n",
    "import xarray as xr\n",
    "from tqdm import tqdm\n",
    "import glob\n",
    "from devtools import pprint"
   ]
  },
  {
   "cell_type": "code",
   "execution_count": 2,
   "id": "4569a0f2-4bea-48cc-b5a4-ca5384e368c6",
   "metadata": {},
   "outputs": [],
   "source": [
    "# general eWC\n",
    "import ewatercycle\n",
    "import ewatercycle.forcing\n",
    "import ewatercycle.models"
   ]
  },
  {
   "cell_type": "code",
   "execution_count": 3,
   "id": "8dae7459-8585-40f7-b4e7-392d5ac80843",
   "metadata": {},
   "outputs": [],
   "source": [
    "# from ewatercycle.forcing import HBVforcing"
   ]
  },
  {
   "cell_type": "markdown",
   "id": "d1454a07-6f82-4728-87cc-f799951db83d",
   "metadata": {},
   "source": [
    "Download plugin model"
   ]
  },
  {
   "cell_type": "code",
   "execution_count": 4,
   "id": "98a3463b-eedd-4f59-a542-6afd58cf6eb4",
   "metadata": {
    "scrolled": true
   },
   "outputs": [],
   "source": [
    "# pip install ewatercycle-HBV==1.3.8"
   ]
  },
  {
   "cell_type": "code",
   "execution_count": 5,
   "id": "9700e11c-c767-47ed-870a-d08afbf52651",
   "metadata": {},
   "outputs": [],
   "source": [
    "# pip uninstall ewatercycle-HBV -y"
   ]
  },
  {
   "cell_type": "code",
   "execution_count": 6,
   "id": "dd415d7a-38b9-4124-ba09-05d21ca859ab",
   "metadata": {},
   "outputs": [],
   "source": [
    "# pip install --upgrade git+https://github.com/Daafip/ewatercycle-hbv.git@dev"
   ]
  },
  {
   "cell_type": "markdown",
   "id": "111bc65b-8299-43ba-95fd-e92df6b92707",
   "metadata": {},
   "source": [
    "#### set up paths"
   ]
  },
  {
   "cell_type": "code",
   "execution_count": 7,
   "id": "df66893d-b667-4fcc-a841-683f32ed2cc7",
   "metadata": {},
   "outputs": [
    {
     "data": {
      "text/plain": [
       "PosixPath('/home/davidhaasnoot/eWaterCycle-WSL-WIP/Forcing')"
      ]
     },
     "execution_count": 7,
     "metadata": {},
     "output_type": "execute_result"
    }
   ],
   "source": [
    "path = Path.cwd()\n",
    "forcing_path = path / \"Forcing\"\n",
    "observations_path = path / \"Observations\"\n",
    "figure_path = path / \"Figures\"\n",
    "output_path = path / \"Output\"\n",
    "forcing_path"
   ]
  },
  {
   "cell_type": "markdown",
   "id": "4787c692-3f9c-402b-9b48-93daeeb47926",
   "metadata": {},
   "source": [
    "#### add parameter info"
   ]
  },
  {
   "cell_type": "code",
   "execution_count": 8,
   "id": "33fbba0f-dbc0-4812-9125-79e0df831e7b",
   "metadata": {},
   "outputs": [],
   "source": [
    "## Array of initial storage terms - we keep these constant for now \n",
    "##              Si,  Su, Sf, Ss\n",
    "s_0 = np.array([0,  100,  0,  5])\n",
    "\n",
    "## Array of parameters min/max bounds as a reference\n",
    "##                      Imax,  Ce,  Sumax, beta,  Pmax,  T_lag,   Kf,   Ks\n",
    "p_min_initial= np.array([0,   0.2,  40,    .5,   .001,   1,     .01,  .0001])\n",
    "p_max_initial = np.array([8,    1,  800,   4,    .3,     10,    .1,   .01])\n",
    "p_names = [\"$I_{max}$\",  \"$C_e$\",  \"$Su_{max}$\", \"β\",  \"$P_{max}$\",  \"$T_{lag}$\",   \"$K_f$\",   \"$K_s$\"]\n",
    "S_names = [\"Interception storage\", \"Unsaturated Rootzone Storage\", \"Fastflow storage\", \"Groundwater storage\"]\n",
    "param_names = [\"Imax\",\"Ce\",  \"Sumax\", \"Beta\",  \"Pmax\",  \"Tlag\",   \"Kf\",   \"Ks\"]\n",
    "stor_names = [\"Si\", \"Su\", \"Sf\", \"Ss\"]\n",
    "\n",
    "# set initial as mean of max,min\n",
    "par_0 = (p_min_initial + p_max_initial)/2"
   ]
  },
  {
   "cell_type": "code",
   "execution_count": 9,
   "id": "03aea008-87ce-4d09-8d01-f12dfe6bb116",
   "metadata": {},
   "outputs": [],
   "source": [
    "experiment_start_date = \"1997-10-01T00:00:00Z\"\n",
    "experiment_end_date = \"1998-11-01T00:00:00Z\"\n",
    "HRU_id = 1620500\n",
    "alpha = 1.26"
   ]
  },
  {
   "cell_type": "code",
   "execution_count": 10,
   "id": "41855c32-2650-403e-bcad-332eab6c1ec4",
   "metadata": {},
   "outputs": [],
   "source": [
    "from ewatercycle_HBV.forcing import HBVForcing"
   ]
  },
  {
   "cell_type": "code",
   "execution_count": 11,
   "id": "6249ec9f-8ff2-4181-ac6f-cac309d8cf72",
   "metadata": {},
   "outputs": [],
   "source": [
    "camels_forcing = HBVForcing(start_time = experiment_start_date,\n",
    "                          end_time = experiment_end_date,\n",
    "                          directory = forcing_path,\n",
    "                          camels_file = f'0{HRU_id}_lump_cida_forcing_leap.txt',\n",
    "                          alpha = alpha\n",
    "                          )"
   ]
  },
  {
   "cell_type": "markdown",
   "id": "b944e1b8-e225-483d-b39e-74ed4dea37cf",
   "metadata": {},
   "source": [
    "#### import model"
   ]
  },
  {
   "cell_type": "code",
   "execution_count": 12,
   "id": "555a3c69-953c-403b-a259-125aa8370dd8",
   "metadata": {},
   "outputs": [],
   "source": [
    "from ewatercycle.models import HBV"
   ]
  },
  {
   "cell_type": "markdown",
   "id": "6dce1e11-7b68-4b30-a949-f0d8b5e3719c",
   "metadata": {},
   "source": [
    "#### import DA function:"
   ]
  },
  {
   "cell_type": "code",
   "execution_count": 13,
   "id": "f4d26ea7-f699-427b-b3a4-9d78d566e711",
   "metadata": {},
   "outputs": [],
   "source": [
    "import importlib.util\n",
    "\n",
    "def module_from_file(module_name, file_path):\n",
    "    spec = importlib.util.spec_from_file_location(module_name, file_path)\n",
    "    module = importlib.util.module_from_spec(spec)\n",
    "    spec.loader.exec_module(module)\n",
    "    return module"
   ]
  },
  {
   "cell_type": "code",
   "execution_count": 14,
   "id": "a3224ab2-e29f-422d-b4ed-3368d95e364a",
   "metadata": {},
   "outputs": [],
   "source": [
    "DA = module_from_file(\"DA\",r'../eWaterCycle-DA/src/eWaterCycle_DA/DA.py')"
   ]
  },
  {
   "cell_type": "code",
   "execution_count": 15,
   "id": "107e551f-371f-4938-959a-a697e54b11f8",
   "metadata": {},
   "outputs": [],
   "source": [
    "n_particles = 3"
   ]
  },
  {
   "cell_type": "code",
   "execution_count": 16,
   "id": "507275ac-4746-419f-b796-a110bc06de62",
   "metadata": {},
   "outputs": [],
   "source": [
    "ensemble = DA.Ensemble(N=n_particles)\n",
    "ensemble.setup()"
   ]
  },
  {
   "cell_type": "code",
   "execution_count": 17,
   "id": "bfb4beef-c35d-43a2-a229-12361910011e",
   "metadata": {
    "scrolled": true
   },
   "outputs": [
    {
     "name": "stdout",
     "output_type": "stream",
     "text": [
      "Ensemble(\n",
      "    N=3,\n",
      "    location='local',\n",
      "    ensemble_list=[\n",
      "        EnsembleMember(\n",
      "            model_name=None,\n",
      "            forcing=None,\n",
      "            setup_kwargs=None,\n",
      "            state_vector_variables='all',\n",
      "            model=None,\n",
      "            config=None,\n",
      "            state_vector=None,\n",
      "            variable_names=None,\n",
      "        ),\n",
      "        EnsembleMember(\n",
      "            model_name=None,\n",
      "            forcing=None,\n",
      "            setup_kwargs=None,\n",
      "            state_vector_variables='all',\n",
      "            model=None,\n",
      "            config=None,\n",
      "            state_vector=None,\n",
      "            variable_names=None,\n",
      "        ),\n",
      "        EnsembleMember(\n",
      "            model_name=None,\n",
      "            forcing=None,\n",
      "            setup_kwargs=None,\n",
      "            state_vector_variables='all',\n",
      "            model=None,\n",
      "            config=None,\n",
      "            state_vector=None,\n",
      "            variable_names=None,\n",
      "        ),\n",
      "    ],\n",
      "    ensemble_method=None,\n",
      "    observed_variable_name=None,\n",
      "    observations=None,\n",
      ")\n"
     ]
    }
   ],
   "source": [
    "pprint(ensemble)"
   ]
  },
  {
   "cell_type": "code",
   "execution_count": 18,
   "id": "da1ea51c-84c3-431d-aa1c-41b7a994718d",
   "metadata": {},
   "outputs": [],
   "source": [
    "array_random_num = np.array([[np.random.random() for i in range(len(p_max_initial))] for i in range(n_particles)])\n",
    "p_intial = p_min_initial + array_random_num * (p_max_initial-p_min_initial)"
   ]
  },
  {
   "cell_type": "code",
   "execution_count": 19,
   "id": "af32a60e-4c0d-4c86-a473-76a3358bc374",
   "metadata": {},
   "outputs": [],
   "source": [
    "# values wihch you \n",
    "setup_kwargs_lst = []\n",
    "for index in range(n_particles):\n",
    "    setup_kwargs_lst.append({'parameters':','.join([str(p) for p in p_intial[index]]), \n",
    "                            'initial_storage':','.join([str(s) for s in s_0]),\n",
    "                             })"
   ]
  },
  {
   "cell_type": "code",
   "execution_count": 21,
   "id": "ca0b485b-43fa-4645-b7d4-34031404a39d",
   "metadata": {},
   "outputs": [],
   "source": [
    "ensemble.initialize(model_name=[\"HBV\"]*n_particles,\n",
    "                    forcing=[camels_forcing]*n_particles,\n",
    "                    setup_kwargs=setup_kwargs_lst,\n",
    "                    state_vector_variables=['all']*n_particles)"
   ]
  },
  {
   "cell_type": "code",
   "execution_count": 22,
   "id": "96ef97d9-815c-4fa1-ab86-697067a70612",
   "metadata": {
    "scrolled": true
   },
   "outputs": [
    {
     "name": "stdout",
     "output_type": "stream",
     "text": [
      "Ensemble(\n",
      "    N=3,\n",
      "    location='local',\n",
      "    ensemble_list=[\n",
      "        EnsembleMember(\n",
      "            model_name='HBV',\n",
      "            forcing=HBVForcing(\n",
      "                start_time='1997-10-01T00:00:00Z',\n",
      "                end_time='1998-11-01T00:00:00Z',\n",
      "                directory=PosixPath('/home/davidhaasnoot/eWaterCycle-WSL-WIP/Forcing'),\n",
      "                shape=None,\n",
      "                camels_file='01620500_lump_cida_forcing_leap.txt',\n",
      "                pr='HBV_forcing_CAMELS_2024-03-11 16_50.nc',\n",
      "                pev='HBV_forcing_CAMELS_2024-03-11 16_50.nc',\n",
      "                alpha=1.26,\n",
      "                test_data_bool=False,\n",
      "            ),\n",
      "            setup_kwargs={\n",
      "                'parameters': (\n",
      "                    '5.265337494227318,0.28430885374382325,272.6711079376788,3.3581312490363424,0.04901875164056043,2.'\n",
      "                    '741264864447883,0.05225500028030863,0.009549356015507654'\n",
      "                ),\n",
      "                'initial_storage': '0,100,0,5',\n",
      "            },\n",
      "            state_vector_variables='all',\n",
      "            model=HBV(\n",
      "                parameter_set=None,\n",
      "                forcing=HBVForcing(\n",
      "                    start_time='1997-10-01T00:00:00Z',\n",
      "                    end_time='1998-11-01T00:00:00Z',\n",
      "                    directory=PosixPath('/home/davidhaasnoot/eWaterCycle-WSL-WIP/Forcing'),\n",
      "                    shape=None,\n",
      "                    camels_file='01620500_lump_cida_forcing_leap.txt',\n",
      "                    pr='HBV_forcing_CAMELS_2024-03-11 16_50.nc',\n",
      "                    pev='HBV_forcing_CAMELS_2024-03-11 16_50.nc',\n",
      "                    alpha=1.26,\n",
      "                    test_data_bool=False,\n",
      "                ),\n",
      "            ),\n",
      "            config='/home/davidhaasnoot/eWaterCycle-WSL-WIP/hbv_20240311_155021/HBV_config.json',\n",
      "            state_vector=None,\n",
      "            variable_names=[\n",
      "                'Imax',\n",
      "                'Ce',\n",
      "                'Sumax',\n",
      "                'Beta',\n",
      "                'Pmax',\n",
      "                'Tlag',\n",
      "                'Kf',\n",
      "                'Ks',\n",
      "                'Si',\n",
      "                'Su',\n",
      "                'Sf',\n",
      "                'Ss',\n",
      "            ],\n",
      "        ),\n",
      "        EnsembleMember(\n",
      "            model_name='HBV',\n",
      "            forcing=HBVForcing(\n",
      "                start_time='1997-10-01T00:00:00Z',\n",
      "                end_time='1998-11-01T00:00:00Z',\n",
      "                directory=PosixPath('/home/davidhaasnoot/eWaterCycle-WSL-WIP/Forcing'),\n",
      "                shape=None,\n",
      "                camels_file='01620500_lump_cida_forcing_leap.txt',\n",
      "                pr='HBV_forcing_CAMELS_2024-03-11 16_50.nc',\n",
      "                pev='HBV_forcing_CAMELS_2024-03-11 16_50.nc',\n",
      "                alpha=1.26,\n",
      "                test_data_bool=False,\n",
      "            ),\n",
      "            setup_kwargs={\n",
      "                'parameters': (\n",
      "                    '0.8894888631666964,0.9509958176126301,163.28054950525072,1.3122558917592666,0.243323312681215,7.5'\n",
      "                    '22682248214877,0.024566955097573215,0.009951592421588395'\n",
      "                ),\n",
      "                'initial_storage': '0,100,0,5',\n",
      "            },\n",
      "            state_vector_variables='all',\n",
      "            model=HBV(\n",
      "                parameter_set=None,\n",
      "                forcing=HBVForcing(\n",
      "                    start_time='1997-10-01T00:00:00Z',\n",
      "                    end_time='1998-11-01T00:00:00Z',\n",
      "                    directory=PosixPath('/home/davidhaasnoot/eWaterCycle-WSL-WIP/Forcing'),\n",
      "                    shape=None,\n",
      "                    camels_file='01620500_lump_cida_forcing_leap.txt',\n",
      "                    pr='HBV_forcing_CAMELS_2024-03-11 16_50.nc',\n",
      "                    pev='HBV_forcing_CAMELS_2024-03-11 16_50.nc',\n",
      "                    alpha=1.26,\n",
      "                    test_data_bool=False,\n",
      "                ),\n",
      "            ),\n",
      "            config='/home/davidhaasnoot/eWaterCycle-WSL-WIP/hbv_20240311_155022/HBV_config.json',\n",
      "            state_vector=None,\n",
      "            variable_names=[\n",
      "                'Imax',\n",
      "                'Ce',\n",
      "                'Sumax',\n",
      "                'Beta',\n",
      "                'Pmax',\n",
      "                'Tlag',\n",
      "                'Kf',\n",
      "                'Ks',\n",
      "                'Si',\n",
      "                'Su',\n",
      "                'Sf',\n",
      "                'Ss',\n",
      "            ],\n",
      "        ),\n",
      "        EnsembleMember(\n",
      "            model_name='HBV',\n",
      "            forcing=HBVForcing(\n",
      "                start_time='1997-10-01T00:00:00Z',\n",
      "                end_time='1998-11-01T00:00:00Z',\n",
      "                directory=PosixPath('/home/davidhaasnoot/eWaterCycle-WSL-WIP/Forcing'),\n",
      "                shape=None,\n",
      "                camels_file='01620500_lump_cida_forcing_leap.txt',\n",
      "                pr='HBV_forcing_CAMELS_2024-03-11 16_50.nc',\n",
      "                pev='HBV_forcing_CAMELS_2024-03-11 16_50.nc',\n",
      "                alpha=1.26,\n",
      "                test_data_bool=False,\n",
      "            ),\n",
      "            setup_kwargs={\n",
      "                'parameters': (\n",
      "                    '0.8434655857235942,0.7080393505976479,46.311057179697116,1.2156216849463752,0.11364761278356124,9'\n",
      "                    '.099601812968007,0.01317754572501107,0.006985889807410887'\n",
      "                ),\n",
      "                'initial_storage': '0,100,0,5',\n",
      "            },\n",
      "            state_vector_variables='all',\n",
      "            model=HBV(\n",
      "                parameter_set=None,\n",
      "                forcing=HBVForcing(\n",
      "                    start_time='1997-10-01T00:00:00Z',\n",
      "                    end_time='1998-11-01T00:00:00Z',\n",
      "                    directory=PosixPath('/home/davidhaasnoot/eWaterCycle-WSL-WIP/Forcing'),\n",
      "                    shape=None,\n",
      "                    camels_file='01620500_lump_cida_forcing_leap.txt',\n",
      "                    pr='HBV_forcing_CAMELS_2024-03-11 16_50.nc',\n",
      "                    pev='HBV_forcing_CAMELS_2024-03-11 16_50.nc',\n",
      "                    alpha=1.26,\n",
      "                    test_data_bool=False,\n",
      "                ),\n",
      "            ),\n",
      "            config='/home/davidhaasnoot/eWaterCycle-WSL-WIP/hbv_20240311_155024/HBV_config.json',\n",
      "            state_vector=None,\n",
      "            variable_names=[\n",
      "                'Imax',\n",
      "                'Ce',\n",
      "                'Sumax',\n",
      "                'Beta',\n",
      "                'Pmax',\n",
      "                'Tlag',\n",
      "                'Kf',\n",
      "                'Ks',\n",
      "                'Si',\n",
      "                'Su',\n",
      "                'Sf',\n",
      "                'Ss',\n",
      "            ],\n",
      "        ),\n",
      "    ],\n",
      "    ensemble_method=None,\n",
      "    observed_variable_name=None,\n",
      "    observations=None,\n",
      ")\n"
     ]
    }
   ],
   "source": [
    "pprint(ensemble)"
   ]
  },
  {
   "cell_type": "markdown",
   "id": "14cd67cd-b327-475a-9315-0f199c317718",
   "metadata": {},
   "source": [
    "## run DA"
   ]
  },
  {
   "cell_type": "code",
   "execution_count": 23,
   "id": "c5c3ad4b-7458-4353-ab7b-b7eb4ff88ddc",
   "metadata": {},
   "outputs": [],
   "source": [
    "def generate_weights(prior, obs) -> np.ndarray:\n",
    "    \"\"\"Takes the ensemble and observations and returns the posterior\n",
    "    Args:\n",
    "        prior (np.ndarray): modeled values for different particles\n",
    "        obs (float): observed value\n",
    "\n",
    "    Returns:\n",
    "        normalised_weights (np.ndarray): weights of normalised likelihood - closer to observed is more likely\n",
    "\n",
    "    \"\"\"\n",
    "    difference = (obs - prior)\n",
    "    like_sigma = 0.05  # In [m]; so 5 mm\n",
    "    unnormalised_log_weights = scipy.stats.norm.logpdf(difference, loc=0, scale=like_sigma)\n",
    "    normalised_weights = np.exp(unnormalised_log_weights - scipy.special.logsumexp(unnormalised_log_weights))\n",
    "    return normalised_weights\n",
    "\n",
    "def add_noise(like_sigma) -> float:\n",
    "    \"\"\"Normal (zero-mean) noise to be added to a state\n",
    "\n",
    "    Args:\n",
    "        like_sigma (float): scale parameter - pseudo variance & thus 'like'-sigma\n",
    "\n",
    "    Returns:\n",
    "        sample from normal distribution\n",
    "    \"\"\"\n",
    "    return rng.normal(loc=0, scale=like_sigma)  # log normal so can't go to 0 ?"
   ]
  },
  {
   "cell_type": "markdown",
   "id": "baa45e7b-7070-404c-a198-13995bdbd0d9",
   "metadata": {},
   "source": [
    "###### \n",
    "#### if fails, run in cmd:\n",
    "[link1](https://stackoverflow.com/questions/65272764/ports-are-not-available-listen-tcp-0-0-0-0-50070-bind-an-attempt-was-made-to)\n",
    "[link2](https://asheroto.medium.com/docker-error-an-attempt-was-made-to-access-a-socket-in-a-way-forbidden-by-its-access-permissions-15a444ab217b)\n",
    "```bash\n",
    "net stop winnat\n",
    "netsh int ipv4 set dynamic tcp start=49152 num=16384\n",
    "netsh int ipv6 set dynamic tcp start=49152 num=16384\n",
    "net start winnat\n",
    "````"
   ]
  },
  {
   "cell_type": "code",
   "execution_count": 24,
   "id": "db6c859e-4b52-4ed3-87ac-47face95a3ce",
   "metadata": {},
   "outputs": [],
   "source": [
    "# # #### run if fails \n",
    "# ensemble.finalize()"
   ]
  },
  {
   "cell_type": "code",
   "execution_count": 25,
   "id": "14b2507f-d55a-4828-9aa6-a3da9d7ac4af",
   "metadata": {},
   "outputs": [],
   "source": [
    "# create list of ensemble members\n",
    "ref_model = ensemble.ensemble_list[0].model"
   ]
  },
  {
   "cell_type": "code",
   "execution_count": 26,
   "id": "5cba2cc4-fbf3-45cf-bee3-95716f689f95",
   "metadata": {},
   "outputs": [],
   "source": [
    "ds = xr.open_dataset(forcing_path / ref_model.forcing.pr)"
   ]
  },
  {
   "cell_type": "markdown",
   "id": "d252ff01-2475-44d2-adad-345297a81b11",
   "metadata": {},
   "source": [
    "## import observations"
   ]
  },
  {
   "cell_type": "code",
   "execution_count": 27,
   "id": "2788bf40-4cc4-45b4-b999-ffbe4f25cbeb",
   "metadata": {},
   "outputs": [],
   "source": [
    "observations = observations_path / f'0{HRU_id}_streamflow_qc.txt'"
   ]
  },
  {
   "cell_type": "code",
   "execution_count": 28,
   "id": "2f884c9d-a19b-4d21-8686-1abb1017fa13",
   "metadata": {},
   "outputs": [],
   "source": [
    "cubic_ft_to_cubic_m = 0.0283168466 "
   ]
  },
  {
   "cell_type": "code",
   "execution_count": 29,
   "id": "3acb63f5-c1a9-4485-b96a-aa3762f1bddd",
   "metadata": {},
   "outputs": [],
   "source": [
    "new_header = ['GAGEID','Year','Month', 'Day', 'Streamflow(cubic feet per second)','QC_flag']\n",
    "new_header_dict = dict(list(zip(range(len(new_header)),new_header)))\n",
    "\n",
    "df_Q = pd.read_fwf(observations,delimiter=' ',encoding='utf-8',header=None)\n",
    "df_Q = df_Q.rename(columns=new_header_dict)\n",
    "df_Q['Streamflow(cubic feet per second)'] = df_Q['Streamflow(cubic feet per second)'].apply(lambda x: np.nan if x==-999.00 else x)\n",
    "df_Q['Q (m3/s)'] = df_Q['Streamflow(cubic feet per second)'] * cubic_ft_to_cubic_m\n",
    "df_Q['Q'] = df_Q['Q (m3/s)'] / ds.attrs['area basin(m^2)'] * 3600 * 24 * 1000 # m3/s -> m/s ->m/d -> mm/d\n",
    "df_Q.index = df_Q.apply(lambda x: pd.Timestamp(f'{int(x.Year)}-{int(x.Month)}-{int(x.Day)}'),axis=1)\n",
    "df_Q.index.name = \"time\"\n",
    "df_Q.drop(columns=['Year','Month', 'Day','Streamflow(cubic feet per second)'],inplace=True)\n",
    "df_Q = df_Q.dropna(axis=0)"
   ]
  },
  {
   "cell_type": "code",
   "execution_count": 30,
   "id": "470add53-a8b1-45f2-a84f-2b06b6ea37db",
   "metadata": {},
   "outputs": [
    {
     "data": {
      "text/plain": [
       "<Axes: xlabel='time'>"
      ]
     },
     "execution_count": 30,
     "metadata": {},
     "output_type": "execute_result"
    },
    {
     "data": {
      "image/png": "[encoded data removed]",
      "text/plain": [
       "<Figure size 640x480 with 1 Axes>"
      ]
     },
     "metadata": {},
     "output_type": "display_data"
    }
   ],
   "source": [
    "df_Q['Q'].plot()\n",
    "# ax.set_xlim((pd.Timestamp('1997-08-01'),pd.Timestamp('1998-06-01')))"
   ]
  },
  {
   "cell_type": "code",
   "execution_count": 31,
   "id": "46e458a3-a255-48ae-93e5-d8102ff481c3",
   "metadata": {},
   "outputs": [],
   "source": [
    "# same on other ewatercycle stuff, guess you don't run the last step\n",
    "# n_timesteps = len(ds.time.values) - 1\n",
    "# or better \n",
    "# n_timesteps = int((ref_model.end_time - ref_model.start_time) / ref_model.time_step)"
   ]
  },
  {
   "cell_type": "code",
   "execution_count": 32,
   "id": "dc6af4a9-bc77-4300-bd43-0c03ac530aae",
   "metadata": {},
   "outputs": [
    {
     "data": {
      "text/plain": [
       "['Imax',\n",
       " 'Ce',\n",
       " 'Sumax',\n",
       " 'Beta',\n",
       " 'Pmax',\n",
       " 'Tlag',\n",
       " 'Kf',\n",
       " 'Ks',\n",
       " 'Si',\n",
       " 'Su',\n",
       " 'Sf',\n",
       " 'Ss']"
      ]
     },
     "execution_count": 32,
     "metadata": {},
     "output_type": "execute_result"
    }
   ],
   "source": [
    "list(dict(ensemble.ensemble_list[0].model.parameters).keys()) + list(dict(ensemble.ensemble_list[0].model.states).keys())"
   ]
  },
  {
   "cell_type": "code",
   "execution_count": 33,
   "id": "b096e8a4-66a8-427a-9c5c-71c50150f2c9",
   "metadata": {},
   "outputs": [
    {
     "data": {
      "text/plain": [
       "875664000.0"
      ]
     },
     "execution_count": 33,
     "metadata": {},
     "output_type": "execute_result"
    }
   ],
   "source": [
    "ensemble.ensemble_list[0].model.time"
   ]
  },
  {
   "cell_type": "code",
   "execution_count": 34,
   "id": "596c2408-1e30-4019-a956-b82d879285a2",
   "metadata": {},
   "outputs": [
    {
     "data": {
      "text/plain": [
       "array([8.43465586e-01, 7.08039351e-01, 4.63110572e+01, 1.21562168e+00,\n",
       "       1.13647613e-01, 9.00000000e+00, 1.31775457e-02, 6.98588981e-03,\n",
       "       0.00000000e+00, 1.00000000e+02, 0.00000000e+00, 5.00000000e+00])"
      ]
     },
     "execution_count": 34,
     "metadata": {},
     "output_type": "execute_result"
    }
   ],
   "source": [
    "ensemble.ensemble_list[2].get_state_vector()"
   ]
  },
  {
   "cell_type": "code",
   "execution_count": 35,
   "id": "61355fa5-0a74-45e5-b780-edf7c8ab780d",
   "metadata": {},
   "outputs": [],
   "source": [
    "set_arr = np.ones(12)\n",
    "ensemble.ensemble_list[2].set_state_vector(set_arr)"
   ]
  },
  {
   "cell_type": "code",
   "execution_count": 36,
   "id": "5638e424-e88c-40eb-9570-001df28923e2",
   "metadata": {},
   "outputs": [
    {
     "data": {
      "text/plain": [
       "array([1., 1., 1., 1., 1., 1., 1., 1., 1., 1., 1., 1.])"
      ]
     },
     "execution_count": 36,
     "metadata": {},
     "output_type": "execute_result"
    }
   ],
   "source": [
    "ensemble.ensemble_list[2].get_state_vector()"
   ]
  },
  {
   "cell_type": "code",
   "execution_count": 37,
   "id": "5fbcda2d-23c2-482b-8dd2-37d6c4dace49",
   "metadata": {},
   "outputs": [],
   "source": [
    "ensemble.update()"
   ]
  },
  {
   "cell_type": "code",
   "execution_count": 38,
   "id": "c244d855-b22e-499a-badd-b111de962036",
   "metadata": {},
   "outputs": [
    {
     "data": {
      "text/plain": [
       "array([1., 1., 1., 1., 1., 1., 1., 1., 0., 0., 0., 0.])"
      ]
     },
     "execution_count": 38,
     "metadata": {},
     "output_type": "execute_result"
    }
   ],
   "source": [
    "ensemble.ensemble_list[2].get_state_vector()"
   ]
  },
  {
   "cell_type": "code",
   "execution_count": 39,
   "id": "e13f23eb-886a-4200-a1c7-f8eba8a77941",
   "metadata": {},
   "outputs": [],
   "source": [
    "ensemble.update()"
   ]
  },
  {
   "cell_type": "code",
   "execution_count": 40,
   "id": "66fa6597-2c47-4798-ad06-ce0956debb85",
   "metadata": {},
   "outputs": [],
   "source": [
    "lst = []\n",
    "for i in range(3):\n",
    "    lst.append(ensemble.ensemble_list[i].get_state_vector())"
   ]
  },
  {
   "cell_type": "code",
   "execution_count": 41,
   "id": "b6f457ff-3d88-4b1f-a32e-f79741722bbc",
   "metadata": {},
   "outputs": [
    {
     "data": {
      "text/plain": [
       "[array([5.26533749e+00, 2.84308854e-01, 2.72671108e+02, 3.35813125e+00,\n",
       "        4.90187516e-02, 3.00000000e+00, 5.22550003e-02, 9.54935602e-03,\n",
       "        0.00000000e+00, 9.54847371e+01, 0.00000000e+00, 4.93922458e+00]),\n",
       " array([8.89488863e-01, 9.50995818e-01, 1.63280550e+02, 1.31225589e+00,\n",
       "        2.43323313e-01, 8.00000000e+00, 2.45669551e-02, 9.95159242e-03,\n",
       "        0.00000000e+00, 9.74589873e+01, 0.00000000e+00, 5.18949072e+00]),\n",
       " array([1., 1., 1., 1., 1., 1., 1., 1., 0., 0., 0., 0.])]"
      ]
     },
     "execution_count": 41,
     "metadata": {},
     "output_type": "execute_result"
    }
   ],
   "source": [
    "lst"
   ]
  },
  {
   "cell_type": "code",
   "execution_count": 42,
   "id": "92804088-8dad-442b-b60b-bd68eeb41d92",
   "metadata": {},
   "outputs": [
    {
     "name": "stdout",
     "output_type": "stream",
     "text": [
      "5th index is Tlag\n"
     ]
    }
   ],
   "source": [
    "# set up arrays\n",
    "n_storage_terms = len(stor_names)\n",
    "n_param_terms = len(param_names)\n",
    "Q_m_arr = np.zeros(n_particles)\n",
    "storage_terms_arr = np.zeros((n_particles, n_storage_terms))\n",
    "parameter_terms_arr = np.zeros((n_particles, n_param_terms))\n",
    "t_lag_max = 100 # for now? \n",
    "index_t_lag = 5 # fith parameter (base 0)\n",
    "print(f'{index_t_lag}th index is {param_names[index_t_lag]}')\n",
    "lag_vector_memory_arr = np.zeros((n_particles, t_lag_max))"
   ]
  },
  {
   "cell_type": "code",
   "execution_count": 43,
   "id": "f313b1f6-b54d-4d58-93fc-dec65520bfae",
   "metadata": {},
   "outputs": [
    {
     "name": "stdout",
     "output_type": "stream",
     "text": [
      "['Imax', 'Ce', 'Sumax', 'Beta', 'Pmax', 'Tlag', 'Kf', 'Ks']\n",
      "['Si', 'Su', 'Sf', 'Ss']\n"
     ]
    }
   ],
   "source": [
    "print(param_names)\n",
    "print(stor_names)"
   ]
  },
  {
   "cell_type": "code",
   "execution_count": 46,
   "id": "443f7de0-31ae-470e-a6df-03ebb2e71dc4",
   "metadata": {
    "scrolled": true
   },
   "outputs": [
    {
     "ename": "TypeError",
     "evalue": "unhashable type: 'list'",
     "output_type": "error",
     "traceback": [
      "\u001b[0;31m---------------------------------------------------------------------------\u001b[0m",
      "\u001b[0;31mTypeError\u001b[0m                                 Traceback (most recent call last)",
      "Cell \u001b[0;32mIn[46], line 17\u001b[0m\n\u001b[1;32m     15\u001b[0m ensemble\u001b[38;5;241m.\u001b[39mupdate()\n\u001b[1;32m     16\u001b[0m Q_m_arr \u001b[38;5;241m=\u001b[39m ensemble\u001b[38;5;241m.\u001b[39mget_value(\u001b[38;5;124m\"\u001b[39m\u001b[38;5;124mQ\u001b[39m\u001b[38;5;124m\"\u001b[39m)\n\u001b[0;32m---> 17\u001b[0m state_vector \u001b[38;5;241m=\u001b[39m np\u001b[38;5;241m.\u001b[39marray([ensemble\u001b[38;5;241m.\u001b[39mget_value(variable_name) \u001b[38;5;28;01mfor\u001b[39;00m variable_name \u001b[38;5;129;01min\u001b[39;00m [stor_names, param_names]])\u001b[38;5;241m.\u001b[39mT\n\u001b[1;32m     19\u001b[0m \u001b[38;5;28;01mfor\u001b[39;00m m_index, ensembleMember \u001b[38;5;129;01min\u001b[39;00m \u001b[38;5;28menumerate\u001b[39m(ensemble\u001b[38;5;241m.\u001b[39mensemble_list):        \n\u001b[1;32m     20\u001b[0m     \u001b[38;5;66;03m## get the memory vector - leave this for now? \u001b[39;00m\n\u001b[1;32m     21\u001b[0m     t_lag \u001b[38;5;241m=\u001b[39m \u001b[38;5;28mint\u001b[39m(parameter_terms_arr[m_index, t_index, index_t_lag])\n",
      "Cell \u001b[0;32mIn[46], line 17\u001b[0m, in \u001b[0;36m<listcomp>\u001b[0;34m(.0)\u001b[0m\n\u001b[1;32m     15\u001b[0m ensemble\u001b[38;5;241m.\u001b[39mupdate()\n\u001b[1;32m     16\u001b[0m Q_m_arr \u001b[38;5;241m=\u001b[39m ensemble\u001b[38;5;241m.\u001b[39mget_value(\u001b[38;5;124m\"\u001b[39m\u001b[38;5;124mQ\u001b[39m\u001b[38;5;124m\"\u001b[39m)\n\u001b[0;32m---> 17\u001b[0m state_vector \u001b[38;5;241m=\u001b[39m np\u001b[38;5;241m.\u001b[39marray([\u001b[43mensemble\u001b[49m\u001b[38;5;241;43m.\u001b[39;49m\u001b[43mget_value\u001b[49m\u001b[43m(\u001b[49m\u001b[43mvariable_name\u001b[49m\u001b[43m)\u001b[49m \u001b[38;5;28;01mfor\u001b[39;00m variable_name \u001b[38;5;129;01min\u001b[39;00m [stor_names, param_names]])\u001b[38;5;241m.\u001b[39mT\n\u001b[1;32m     19\u001b[0m \u001b[38;5;28;01mfor\u001b[39;00m m_index, ensembleMember \u001b[38;5;129;01min\u001b[39;00m \u001b[38;5;28menumerate\u001b[39m(ensemble\u001b[38;5;241m.\u001b[39mensemble_list):        \n\u001b[1;32m     20\u001b[0m     \u001b[38;5;66;03m## get the memory vector - leave this for now? \u001b[39;00m\n\u001b[1;32m     21\u001b[0m     t_lag \u001b[38;5;241m=\u001b[39m \u001b[38;5;28mint\u001b[39m(parameter_terms_arr[m_index, t_index, index_t_lag])\n",
      "File \u001b[0;32m~/eWaterCycle-WSL-WIP/../eWaterCycle-DA/src/eWaterCycle_DA/DA.py:158\u001b[0m, in \u001b[0;36mEnsemble.get_value\u001b[0;34m(self, var_name)\u001b[0m\n\u001b[1;32m    156\u001b[0m output_array \u001b[38;5;241m=\u001b[39m np\u001b[38;5;241m.\u001b[39mzeros(\u001b[38;5;28mself\u001b[39m\u001b[38;5;241m.\u001b[39mN)\n\u001b[1;32m    157\u001b[0m \u001b[38;5;28;01mfor\u001b[39;00m i, ensemble_member \u001b[38;5;129;01min\u001b[39;00m \u001b[38;5;28menumerate\u001b[39m(\u001b[38;5;28mself\u001b[39m\u001b[38;5;241m.\u001b[39mensemble_list):\n\u001b[0;32m--> 158\u001b[0m     output_array[i] \u001b[38;5;241m=\u001b[39m \u001b[43mensemble_member\u001b[49m\u001b[38;5;241;43m.\u001b[39;49m\u001b[43mmodel\u001b[49m\u001b[38;5;241;43m.\u001b[39;49m\u001b[43mget_value\u001b[49m\u001b[43m(\u001b[49m\u001b[43mvar_name\u001b[49m\u001b[43m)\u001b[49m[\u001b[38;5;241m0\u001b[39m]\n\u001b[1;32m    159\u001b[0m \u001b[38;5;28;01mreturn\u001b[39;00m output_array\n",
      "File \u001b[0;32m~/miniconda3/envs/ewatercycle/lib/python3.10/site-packages/ewatercycle/base/model.py:188\u001b[0m, in \u001b[0;36meWaterCycleModel.get_value\u001b[0;34m(self, name)\u001b[0m\n\u001b[1;32m    182\u001b[0m \u001b[38;5;28;01mdef\u001b[39;00m \u001b[38;5;21mget_value\u001b[39m(\u001b[38;5;28mself\u001b[39m, name: \u001b[38;5;28mstr\u001b[39m) \u001b[38;5;241m-\u001b[39m\u001b[38;5;241m>\u001b[39m np\u001b[38;5;241m.\u001b[39mndarray:\n\u001b[1;32m    183\u001b[0m \u001b[38;5;250m    \u001b[39m\u001b[38;5;124;03m\"\"\"Get a copy of values of the given variable.\u001b[39;00m\n\u001b[1;32m    184\u001b[0m \n\u001b[1;32m    185\u001b[0m \u001b[38;5;124;03m    Args:\u001b[39;00m\n\u001b[1;32m    186\u001b[0m \u001b[38;5;124;03m        name: Name of variable\u001b[39;00m\n\u001b[1;32m    187\u001b[0m \u001b[38;5;124;03m    \"\"\"\u001b[39;00m\n\u001b[0;32m--> 188\u001b[0m     \u001b[38;5;28;01mreturn\u001b[39;00m \u001b[38;5;28;43mself\u001b[39;49m\u001b[38;5;241;43m.\u001b[39;49m\u001b[43m_bmi\u001b[49m\u001b[38;5;241;43m.\u001b[39;49m\u001b[43mget_value\u001b[49m\u001b[43m(\u001b[49m\u001b[43mname\u001b[49m\u001b[43m)\u001b[49m\n",
      "File \u001b[0;32m~/miniconda3/envs/ewatercycle/lib/python3.10/site-packages/grpc4bmi/bmi_optionaldest.py:110\u001b[0m, in \u001b[0;36mOptionalDestBmi.get_value\u001b[0;34m(self, name, dest)\u001b[0m\n\u001b[1;32m    108\u001b[0m \u001b[38;5;28;01mdef\u001b[39;00m \u001b[38;5;21mget_value\u001b[39m(\u001b[38;5;28mself\u001b[39m, name, dest: Optional[np\u001b[38;5;241m.\u001b[39mndarray]\u001b[38;5;241m=\u001b[39m\u001b[38;5;28;01mNone\u001b[39;00m) \u001b[38;5;241m-\u001b[39m\u001b[38;5;241m>\u001b[39m np\u001b[38;5;241m.\u001b[39mndarray:\n\u001b[1;32m    109\u001b[0m     \u001b[38;5;28;01mif\u001b[39;00m dest \u001b[38;5;129;01mis\u001b[39;00m \u001b[38;5;28;01mNone\u001b[39;00m:\n\u001b[0;32m--> 110\u001b[0m         dest \u001b[38;5;241m=\u001b[39m \u001b[43mreserve_values\u001b[49m\u001b[43m(\u001b[49m\u001b[38;5;28;43mself\u001b[39;49m\u001b[38;5;241;43m.\u001b[39;49m\u001b[43morigin\u001b[49m\u001b[43m,\u001b[49m\u001b[43m \u001b[49m\u001b[43mname\u001b[49m\u001b[43m)\u001b[49m\n\u001b[1;32m    111\u001b[0m     \u001b[38;5;28;01mreturn\u001b[39;00m \u001b[38;5;28mself\u001b[39m\u001b[38;5;241m.\u001b[39morigin\u001b[38;5;241m.\u001b[39mget_value(name, dest)\n",
      "File \u001b[0;32m~/miniconda3/envs/ewatercycle/lib/python3.10/site-packages/grpc4bmi/reserve.py:9\u001b[0m, in \u001b[0;36mreserve_values\u001b[0;34m(model, name)\u001b[0m\n\u001b[1;32m      7\u001b[0m \u001b[38;5;28;01mdef\u001b[39;00m \u001b[38;5;21mreserve_values\u001b[39m(model: Bmi, name: \u001b[38;5;28mstr\u001b[39m) \u001b[38;5;241m-\u001b[39m\u001b[38;5;241m>\u001b[39m numpy\u001b[38;5;241m.\u001b[39mndarray:\n\u001b[1;32m      8\u001b[0m \u001b[38;5;250m    \u001b[39m\u001b[38;5;124;03m\"\"\"Reserve dest for :func:`bmipy.Bmi.get_value`\"\"\"\u001b[39;00m\n\u001b[0;32m----> 9\u001b[0m     dtype \u001b[38;5;241m=\u001b[39m \u001b[43mmodel\u001b[49m\u001b[38;5;241;43m.\u001b[39;49m\u001b[43mget_var_type\u001b[49m\u001b[43m(\u001b[49m\u001b[43mname\u001b[49m\u001b[43m)\u001b[49m\n\u001b[1;32m     10\u001b[0m     item_size \u001b[38;5;241m=\u001b[39m model\u001b[38;5;241m.\u001b[39mget_var_itemsize(name)\n\u001b[1;32m     11\u001b[0m     total_size \u001b[38;5;241m=\u001b[39m model\u001b[38;5;241m.\u001b[39mget_var_nbytes(name)\n",
      "File \u001b[0;32m~/miniconda3/envs/ewatercycle/lib/python3.10/site-packages/grpc4bmi/bmi_memoized.py:99\u001b[0m, in \u001b[0;36mMemoizedBmi.get_var_type\u001b[0;34m(self, var_name)\u001b[0m\n\u001b[1;32m     98\u001b[0m \u001b[38;5;28;01mdef\u001b[39;00m \u001b[38;5;21mget_var_type\u001b[39m(\u001b[38;5;28mself\u001b[39m, var_name):\n\u001b[0;32m---> 99\u001b[0m     \u001b[38;5;28;01mreturn\u001b[39;00m \u001b[38;5;28;43mself\u001b[39;49m\u001b[38;5;241;43m.\u001b[39;49m\u001b[43m_cache\u001b[49m\u001b[43m(\u001b[49m\u001b[38;5;124;43m'\u001b[39;49m\u001b[38;5;124;43mget_var_type\u001b[39;49m\u001b[38;5;124;43m'\u001b[39;49m\u001b[43m,\u001b[49m\u001b[43m \u001b[49m\u001b[43mvar_name\u001b[49m\u001b[43m)\u001b[49m\n",
      "File \u001b[0;32m~/miniconda3/envs/ewatercycle/lib/python3.10/site-packages/grpc4bmi/bmi_memoized.py:45\u001b[0m, in \u001b[0;36mMemoizedBmi._cache\u001b[0;34m(self, fn, arg, output)\u001b[0m\n\u001b[1;32m     43\u001b[0m \u001b[38;5;28;01mif\u001b[39;00m fn \u001b[38;5;129;01mnot\u001b[39;00m \u001b[38;5;129;01min\u001b[39;00m \u001b[38;5;28mself\u001b[39m\u001b[38;5;241m.\u001b[39mcache:\n\u001b[1;32m     44\u001b[0m     \u001b[38;5;28mself\u001b[39m\u001b[38;5;241m.\u001b[39mcache[fn] \u001b[38;5;241m=\u001b[39m \u001b[38;5;28mdict\u001b[39m()\n\u001b[0;32m---> 45\u001b[0m \u001b[38;5;28;01mif\u001b[39;00m \u001b[43marg\u001b[49m\u001b[43m \u001b[49m\u001b[38;5;129;43;01mnot\u001b[39;49;00m\u001b[43m \u001b[49m\u001b[38;5;129;43;01min\u001b[39;49;00m\u001b[43m \u001b[49m\u001b[38;5;28;43mself\u001b[39;49m\u001b[38;5;241;43m.\u001b[39;49m\u001b[43mcache\u001b[49m\u001b[43m[\u001b[49m\u001b[43mfn\u001b[49m\u001b[43m]\u001b[49m:\n\u001b[1;32m     46\u001b[0m     \u001b[38;5;28;01mif\u001b[39;00m arg \u001b[38;5;129;01mis\u001b[39;00m \u001b[38;5;28;01mNone\u001b[39;00m:\n\u001b[1;32m     47\u001b[0m         \u001b[38;5;28mself\u001b[39m\u001b[38;5;241m.\u001b[39mcache[fn][arg] \u001b[38;5;241m=\u001b[39m \u001b[38;5;28mgetattr\u001b[39m(\u001b[38;5;28mself\u001b[39m\u001b[38;5;241m.\u001b[39morigin, fn)()\n",
      "\u001b[0;31mTypeError\u001b[0m: unhashable type: 'list'"
     ]
    }
   ],
   "source": [
    "start = datetime.now()\n",
    "time = []\n",
    "Q_m_lst = []\n",
    "storage_terms_lst = []\n",
    "parameter_terms_lst = []\n",
    "## running for whole timeseries takes long, just do first couple of months to see inpact\n",
    "# while ref_model.time < ref_model.start_time + n_timesteps * ref_model.time_step:\n",
    "while ref_model.time < ref_model.end_time:\n",
    "\n",
    "    # before the update, the model is still at t_index = 0: thus also get the timestep then. \n",
    "    time.append(pd.Timestamp(ref_model.time_as_datetime.date()))\n",
    "    # print(f'{t_index}/{n_timesteps}',end=\"\\r\")\n",
    "    # run model forward\n",
    "\n",
    "    ensemble.update()\n",
    "    Q_m_arr = ensemble.get_value(\"Q\")\n",
    "    state_vector = np.array([ensemble.get_value(variable_name) for variable_name in [stor_names, param_names]]).T\n",
    "\n",
    "    for m_index, ensembleMember in enumerate(ensemble.ensemble_list):        \n",
    "        ## get the memory vector - leave this for now? \n",
    "        t_lag = int(parameter_terms_arr[m_index, t_index, index_t_lag])\n",
    "        lag_vector_memory_arr[m_index, t_index, :t_lag] = np.array([ensembleMember.get_value(f\"memory_vector{i}\") for i in range(t_lag)]).flatten()\n",
    "    \n",
    "    #### Part of the PF section? \n",
    "    Q_obs = df_Q.loc[pd.Timestamp(ref_model.time_as_datetime.date()),\"Q\"] # get observed value from DF \n",
    "    \n",
    "    # add error to Q_obs - roughly sig^2 = (0.1 * Q_obs)^2 - clark 2008\n",
    "    likelihood = generate_weights(Q_m_arr, Q_obs) \n",
    "    resample_indices = random.choices(population=np.arange(n_particles),weights=likelihood, k=n_particles)\n",
    "    \n",
    "    new_state_vector    = state_vector.copy()[resample_indices]\n",
    "    new_lag        = lag_vector_memory_arr[:,t_index].copy()[resample_indices] # dont have a way to set new lag function as of yet\n",
    "\n",
    "    ## add noise\n",
    "    ## TODO: literature to choose sigma - maybe make sigma dependant on the parameter: i.e. %age of parameter\n",
    "    sigma = 0.00005\n",
    "    # sigma_p = np.var(new_parameters,axis=0) + 1e-50#0.\n",
    "    sigma_p = [sigma] * len(param_names)\n",
    "    # CONSTRRAIN?\n",
    "    new_parameters = np.array([np.array([min(max(perturbed + add_noise(sigma_p[param_index]),1e-6),p_max_initial[param_index]) for perturbed in par]) \n",
    "                               for param_index, par in enumerate(new_parameters.T)]).T\n",
    "    \n",
    "    # sigma_s = np.var(new_storage,axis=0) +  1e-50 # 0.05\n",
    "    sigma_s = [sigma] * len(stor_names)\n",
    "    new_storage    = np.array([np.array([max(perturbed + add_noise(sigma_s[stor_index]),1e-6) for perturbed in stor]) \n",
    "                               for stor_index, stor in enumerate(new_storage.T)]).T\n",
    "    \n",
    "    \n",
    "    for p_index, parameter in enumerate(param_names):\n",
    "        ensemble.set_value(parameter, new_parameters[:, p_index])\n",
    "    \n",
    "    for s_index, storage in enumerate(stor_names):\n",
    "        ensemble.set_value(storage, new_storage[:, s_index])\n",
    "    \n",
    "    # update the parameters & states\n",
    "    for index, ensembleMember in enumerate(ensemble.ensemble_list):\n",
    "        # TODO: adjust so that tLag cant go to 0\n",
    "        new_tlag = new_parameters[index, index_t_lag]\n",
    "        [ensembleMember.set_value(f\"memory_vector{mem_index}\", np.array([new_lag[index, mem_index]])) for mem_index in range(int(new_tlag))]\n",
    "\n",
    "    # advance the index\n",
    "    t_index+=1 \n",
    "\n",
    "## TODO: way to fix this?\n",
    "# units = {}\n",
    "# for name in stor_names + param_names:\n",
    "#     units[name] = ref_model.get_units(name)\n",
    "\n",
    "print('Finalising')\n",
    "# end model - IMPORTANT! when working with dockers\n",
    "ensemble.finalize()\n",
    "\n",
    "end = datetime.now()\n",
    "run = end - start\n",
    "print(f'{run.seconds//60}min,{run.seconds%60}sec')"
   ]
  },
  {
   "cell_type": "markdown",
   "id": "3ff9f321-0273-493b-8930-a260fad4da2b",
   "metadata": {},
   "source": [
    "### process the numpy data into easily acessed data types"
   ]
  },
  {
   "cell_type": "code",
   "execution_count": null,
   "id": "8ad75ed7-4d48-44d2-93af-d3b7acfa530a",
   "metadata": {},
   "outputs": [],
   "source": [
    "save, load = True, False\n",
    "current_time = str(datetime.now())[:-10].replace(\":\",\"_\")"
   ]
  },
  {
   "cell_type": "code",
   "execution_count": null,
   "id": "614e4052-17f9-4b09-84dc-433b890d6ba0",
   "metadata": {},
   "outputs": [],
   "source": [
    "if not load:\n",
    "    df_ensemble = pd.DataFrame(data=Q_m_arr[:,:len(time)].T,index=time,columns=[f'particle {n}' for n in range(n_particles)])"
   ]
  },
  {
   "cell_type": "markdown",
   "id": "5ef5174a-c0f0-4ab7-bcb0-8a10414d50ed",
   "metadata": {},
   "source": [
    "### process states and parameters into xarrys"
   ]
  },
  {
   "cell_type": "code",
   "execution_count": null,
   "id": "95343676-2174-47aa-8e08-612b4ec4cbb0",
   "metadata": {},
   "outputs": [],
   "source": [
    "##### Save? \n",
    "if save:\n",
    "    df_ensemble.to_feather(output_path /f'df_ensemble_{current_time}.feather')\n",
    "if load:\n",
    "    df_ensemble = pd.read_feather(glob.glob(str(output_path/'df_ensemble_*.feather'))[-1]) # read last"
   ]
  },
  {
   "cell_type": "code",
   "execution_count": null,
   "id": "1f4cbd7a-3941-403e-9347-aaa972794f7a",
   "metadata": {},
   "outputs": [],
   "source": [
    "# if load:\n",
    "# TODO: obtain from model \n",
    "units= {\"Imax\":\"mm\",\n",
    "        \"Ce\": \"-\",\n",
    "        \"Sumax\": \"mm\",\n",
    "        \"Beta\": \"-\",\n",
    "        \"Pmax\": \"mm\",\n",
    "        \"Tlag\": \"d\",\n",
    "        \"Kf\": \"-\",\n",
    "        \"Ks\": \"-\",\n",
    "        \"Si\": \"mm\",\n",
    "        \"Su\": \"mm\",\n",
    "        \"Sf\": \"mm\",\n",
    "        \"Ss\": \"mm\",\n",
    "        \"Ei_dt\": \"mm/d\",\n",
    "        \"Ea_dt\": \"mm/d\",\n",
    "        \"Qs_dt\": \"mm/d\",\n",
    "        \"Qf_dt\": \"mm/d\",\n",
    "        \"Q_tot_dt\": \"mm/d\",\n",
    "        \"Q_m\": \"mm/d\"}"
   ]
  },
  {
   "cell_type": "code",
   "execution_count": null,
   "id": "45ce2567-5092-4e57-b625-f2c5905e4f92",
   "metadata": {
    "scrolled": true
   },
   "outputs": [],
   "source": [
    "if not load:\n",
    "    # combine the 3D numpy arr into one dataArray\n",
    "    storage_terms_ds = xr.DataArray(storage_terms_arr,dims=[\"EnsembleMember\",\"time\",\"storage\"],\n",
    "                                    coords=[np.arange(n_particles),df_ensemble.index,stor_names],\n",
    "                                    attrs={\"title\": f\"HBV storage terms data over time for {n_particles} particles \", \n",
    "                                           \"history\": f\"Storage term results from ewatercycle_HBV.model\",\n",
    "                                        \"description\":\"Moddeled storage\",\n",
    "                                             \"units\": \"mm\"})\n",
    "    \n",
    "    parameter_terms_ds = xr.DataArray(parameter_terms_arr,dims=[\"EnsembleMember\",\"time\",\"parameter\"],\n",
    "                                coords=[np.arange(n_particles),df_ensemble.index,param_names],\n",
    "                                    attrs={\"title\": f\"HBV storage terms data over time for {n_particles} particles \", \n",
    "                                           \"history\": f\"Storage terms results from ewatercycle_HBV.model\",})\n",
    "    \n",
    "    # even better is to combine into one Data_set_- this is most intuitive way for me - probably more ways\n",
    "    data_vars = {}\n",
    "    for i, name in enumerate(stor_names):\n",
    "        storage_terms_i = xr.DataArray(storage_terms_arr[:,:,i],\n",
    "                                       name=name,\n",
    "                                       dims=[\"EnsembleMember\",\"time\"],\n",
    "                                      coords=[np.arange(n_particles),df_ensemble.index],\n",
    "                                      attrs={\"title\": f\"HBV storage terms data over time for {n_particles} particles \", \n",
    "                                               \"history\": f\"Storage term results from ewatercycle_HBV.model\",\n",
    "                                            \"description\":\"Moddeled storage\",\n",
    "                                                 \"units\": \"mm\"})\n",
    "        data_vars[name] = storage_terms_i\n",
    "    for i, name in enumerate(param_names):\n",
    "        storage_terms_i = xr.DataArray(parameter_terms_arr[:,:,i],\n",
    "                                       name=name,\n",
    "                                       dims=[\"EnsembleMember\",\"time\"],\n",
    "                                      coords=[np.arange(n_particles),df_ensemble.index],\n",
    "                                      attrs={\"title\": f\"HBV storage terms data over time for {n_particles} particles \", \n",
    "                                               \"history\": f\"Storage term results from ewatercycle_HBV.model\",\n",
    "                                            \"description\":\"Moddeled storage\",\n",
    "                                                 \"units\": units[name]})\n",
    "        data_vars[name] = storage_terms_i\n",
    "\n",
    "    ds_combined = xr.Dataset(data_vars,\n",
    "                             attrs={\"title\": f\"HBV storage terms data over time for {n_particles} particles \", \n",
    "                                    \"history\": f\"Storage term results from ewatercycle_HBV.model\",}\n",
    "                              )"
   ]
  },
  {
   "cell_type": "code",
   "execution_count": null,
   "id": "13f44bc9-28af-41bf-82c0-f93cb7c6cd34",
   "metadata": {},
   "outputs": [],
   "source": [
    "##### Save? \n",
    "if save:\n",
    "    storage_terms_ds.to_netcdf(output_path / f'storage_terms_ds_{current_time}.nc')\n",
    "    parameter_terms_ds.to_netcdf(output_path / f'parameter_terms_ds_{current_time}.nc')\n",
    "    ds_combined.to_netcdf(output_path / f'combined_ds_{current_time}.nc')\n",
    "    \n",
    "if load:\n",
    "    storage_terms_ds = xr.open_dataarray(glob.glob(str(output_path / r'storage_terms_ds_*.nc'))[-1])\n",
    "    parameter_terms_ds = xr.open_dataarray(glob.glob(str(output_path / 'parameter_terms_ds_*.nc'))[-1])\n",
    "    ds_combined = xr.open_dataset(glob.glob(str(output_path / 'combined_ds_*.nc'))[-1])"
   ]
  },
  {
   "cell_type": "markdown",
   "id": "1c99d78a-9b2f-4418-b7d2-7b48e5d6a403",
   "metadata": {},
   "source": [
    "# Plotting"
   ]
  },
  {
   "cell_type": "code",
   "execution_count": null,
   "id": "7941203c-e86b-42b9-8449-988d5a34c791",
   "metadata": {},
   "outputs": [],
   "source": [
    "# df_ensemble.plot()\n",
    "fig, ax = plt.subplots(1,1,figsize=(12,5))\n",
    "# ax.plot(ds.time.values[:n_days],ds['Q'].values[:n_days],lw=0,marker=\"*\",ms=2.5,zorder=0,label=\"Observations\",color=\"k\")\n",
    "# ax.plot(df.index, Q_m_in_ref[1:],label=\"Modelled reference Q\");\n",
    "df_Q.loc[Q_obs_t_lst,\"Q\"].plot(ax=ax,lw=0,marker=\"*\",ms=2.5,zorder=0,label=\"Observations\",color='k')\n",
    "ax.legend(bbox_to_anchor=(1,1))\n",
    "df_ensemble.plot(ax=ax,alpha=0.5,zorder=-1,legend=False)\n",
    "ax.set_ylabel(\"Q [mm]\")\n",
    "ax.set_title(f\"Run ensemble of {n_particles} particles\");\n",
    "ax.set_xlim((pd.Timestamp('1997-08-01'),pd.Timestamp('1998-12-01')))\n",
    "ax.set_ylim((0,10))\n",
    "if save:\n",
    "    fig.savefig(figure_path / f\"ensemble_run_for_{n_particles}_particles_{current_time}.png\")"
   ]
  },
  {
   "cell_type": "markdown",
   "id": "4f9c7c94-9525-45a1-b7d4-6437964196aa",
   "metadata": {},
   "source": [
    "Can calculate the mean of 50 particles as a reference"
   ]
  },
  {
   "cell_type": "code",
   "execution_count": null,
   "id": "59377984-0f40-4143-9ebd-ab058886e6ef",
   "metadata": {},
   "outputs": [],
   "source": [
    "mean_ensemble = df_ensemble.T.mean()\n",
    "NSE_mean_ens = calc_NSE(df_Q.loc[time,\"Q\"],mean_ensemble.loc[time])"
   ]
  },
  {
   "cell_type": "code",
   "execution_count": null,
   "id": "64906eb1-eff6-4562-bd55-7bb5edbd4a51",
   "metadata": {},
   "outputs": [],
   "source": [
    "# df_ensemble.plot()\n",
    "fig, ax = plt.subplots(1,1,figsize=(12,5))\n",
    "# ax.plot(ds.time.values[:n_days],ds['Q'].values[:n_days],lw=0,marker=\"*\",ms=2.5,zorder=0,label=\"Observations\",color=\"k\")\n",
    "# ax.plot(df.index, Q_m_in_ref[1:],label=\"Modelled reference Q\");\n",
    "df_Q.loc[Q_obs_t_lst,\"Q\"].plot(ax=ax,lw=0,marker=\"*\",ms=2.0,zorder=0,label=\"Observations\",color='k')\n",
    "\n",
    "ax.plot(mean_ensemble,color=\"C1\",lw=0.5,label=f\"mean {NSE_mean_ens:.2f}\",zorder=-1)\n",
    "ax.fill_between(df_ensemble.index,df_ensemble.T.min(),df_ensemble.T.max(),color=\"C0\", alpha=0.35,zorder=-10,label=\"bounds\")\n",
    "ax.legend(bbox_to_anchor=(1.25,1))\n",
    "ax.set_ylabel(\"Q [mm]\")\n",
    "ax.set_title(f\"Run ensemble of {n_particles} particles\");\n",
    "# ax.set_xlim((pd.Timestamp('1997-08-01'),pd.Timestamp('1998-06-01')))\n",
    "if save:\n",
    "    fig.savefig(figure_path / f\"ensemble_run_for_{n_particles}_particles_{current_time}.png\",bbox_inches=\"tight\",dpi=400);"
   ]
  },
  {
   "cell_type": "code",
   "execution_count": null,
   "id": "b8abd739-6157-4e5a-94f8-4a2637d1eaca",
   "metadata": {},
   "outputs": [],
   "source": [
    "# df_ensemble.plot()\n",
    "fig, ax = plt.subplots(1,1,figsize=(12,5))\n",
    "# ax.plot(ds.time.values[:n_days],ds['Q'].values[:n_days],lw=0,marker=\"*\",ms=2.5,zorder=0,label=\"Observations\",color=\"k\")\n",
    "# ax.plot(df.index, Q_m_in_ref[1:],label=\"Modelled reference Q\");\n",
    "df_Q.loc[Q_obs_t_lst,\"Q\"].plot(ax=ax,lw=0,marker=\"*\",ms=2.0,zorder=0,label=\"Observations\",color='k')\n",
    "\n",
    "ax_pr = ax.twinx()\n",
    "ax_pr.invert_yaxis()\n",
    "ax_pr.set_ylabel(f\"P [mm]\")\n",
    "ax_pr.bar(df_ensemble.index,ds['pr'].values[:n_timesteps],zorder=-15,label=\"Precipitation\",color=\"grey\")\n",
    "ax_pr.legend(bbox_to_anchor=(1.25,0.8))\n",
    "\n",
    "ax.plot(mean_ensemble,color=\"C1\",lw=0.5,label=f\"mean\",zorder=-1)\n",
    "ax.fill_between(df_ensemble.index,df_ensemble.T.min(),df_ensemble.T.max(),color=\"C0\", alpha=0.35,zorder=-10,label=\"bounds\")\n",
    "ax.legend(bbox_to_anchor=(1.25,1))\n",
    "ax.set_ylabel(\"Q [mm]\")\n",
    "ax.set_title(f\"Run ensemble of {n_particles} particles\");\n",
    "if save:\n",
    "    fig.savefig(figure_path / f\"ensemble_run_for_{n_particles}_particles_bounds_P_{current_time}.png\",bbox_inches=\"tight\",dpi=400);"
   ]
  },
  {
   "cell_type": "code",
   "execution_count": null,
   "id": "2fc8e3b3-3454-4ee5-96f1-964f1cdf4096",
   "metadata": {},
   "outputs": [],
   "source": [
    "n=5\n",
    "fig, axs = plt.subplots(n,1,figsize=(12,n*2),sharex=True)\n",
    "\n",
    "ax = axs[0]\n",
    "df_Q.loc[Q_obs_t_lst,\"Q\"].plot(ax=ax,lw=0,marker=\"*\",ms=2.5,zorder=0,label=\"Observations\",color='k')\n",
    "ax_pr = ax.twinx()\n",
    "ax_pr.invert_yaxis()\n",
    "ax_pr.set_ylabel(f\"P [mm]\")\n",
    "ax_pr.bar(df_ensemble.index,ds['pr'].values[:n_timesteps],zorder=-10,label=\"Precipitation\",color=\"grey\")\n",
    "\n",
    "ax.plot(mean_ensemble,color=\"C1\",lw=0.5,label=f\"mean\",zorder=-1)\n",
    "ax.fill_between(df_ensemble.index,df_ensemble.T.min(),df_ensemble.T.max(),color=\"C0\", alpha=0.5,zorder=-10,label=\"bounds\")\n",
    "ax.legend(bbox_to_anchor=(1.25,1))\n",
    "ax.set_ylabel(\"Q [mm]\")\n",
    "\n",
    "ax.set_title(f\"Run ensemble of {n_particles} particles\");\n",
    "\n",
    "for i, S_name in enumerate(S_names):\n",
    "    for j in range(n_particles):\n",
    "        storage_terms_ds.isel(storage=i,EnsembleMember=j).plot(ax=axs[i+1],color=f\"C{i}\",alpha=0.5)\n",
    "        axs[i+1].set_title(S_name)\n",
    "\n",
    "# remove all unncecearry xlabels\n",
    "[ax.set_xlabel(None) for ax in axs[:-1]]\n",
    "[ax.set_ylabel(\"S [mm]\") for ax in axs[1:]]\n",
    "if save:\n",
    "    fig.savefig(figure_path / f\"ensemble_run_for__{n_particles}_particles_storages_{current_time}.png\",bbox_inches=\"tight\",dpi=400)"
   ]
  },
  {
   "cell_type": "code",
   "execution_count": null,
   "id": "93b4ea15-2374-49ca-80be-bb4de67c7ce4",
   "metadata": {},
   "outputs": [],
   "source": [
    "fig, ax = plt.subplots(1,1)\n",
    "for i in range(n_particles):\n",
    "    storage_terms_ds.sel(storage=\"Ss\").isel(EnsembleMember=i).plot(ax=ax)"
   ]
  },
  {
   "cell_type": "code",
   "execution_count": null,
   "id": "9fc02d3a-5867-46bb-ae1d-7dce4e8d338a",
   "metadata": {},
   "outputs": [],
   "source": [
    "fig, ax = plt.subplots(1,1)\n",
    "\n",
    "parameter=\"Tlag\"\n",
    "for i in range(n_particles):\n",
    "    parameter_terms_ds.sel(parameter=parameter).isel(EnsembleMember=i).plot(ax=ax)\n",
    "ax.set_title(f'parameter={parameter} for {n_particles} Ensemble Members')"
   ]
  },
  {
   "cell_type": "code",
   "execution_count": null,
   "id": "238fdbc0-9386-400e-b15a-209403d6232d",
   "metadata": {},
   "outputs": [],
   "source": [
    "fig, axs = plt.subplots(2,4,figsize=(25,10),sharex=True)\n",
    "axs = axs.flatten()\n",
    "for j, parameter in enumerate(param_names):\n",
    "    ax = axs[j]\n",
    "    for i in range(n_particles):\n",
    "        parameter_terms_ds.sel(parameter=parameter).isel(EnsembleMember=i).plot(ax=ax,alpha=0.3)\n",
    "    ax.set_title(f'parameter={parameter}')# for {n_particles} Ensemble Members')\n",
    "    ax.set_ylabel(f'[{units[parameter]}]')\n",
    "if save:\n",
    "    fig.savefig(figure_path /  f\"ensemble_run_for__{n_particles}_particles_parameters_{current_time}.png\",bbox_inches=\"tight\",dpi=400)"
   ]
  },
  {
   "cell_type": "code",
   "execution_count": null,
   "id": "b79994f2-0a3c-4c15-a75c-1cb2770b70cd",
   "metadata": {},
   "outputs": [],
   "source": []
  }
 ],
 "metadata": {
  "kernelspec": {
   "display_name": "Python 3 (ipykernel)",
   "language": "python",
   "name": "python3"
  },
  "language_info": {
   "codemirror_mode": {
    "name": "ipython",
    "version": 3
   },
   "file_extension": ".py",
   "mimetype": "text/x-python",
   "name": "python",
   "nbconvert_exporter": "python",
   "pygments_lexer": "ipython3",
   "version": "3.10.13"
  }
 },
 "nbformat": 4,
 "nbformat_minor": 5
}
