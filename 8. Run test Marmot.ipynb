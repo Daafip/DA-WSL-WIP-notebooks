{
 "cells": [
  {
   "cell_type": "code",
   "execution_count": 1,
   "id": "acea7de7-e131-480c-872d-862e1956a7a0",
   "metadata": {},
   "outputs": [],
   "source": [
    "# general python\n",
    "import warnings\n",
    "warnings.filterwarnings(\"ignore\", category=UserWarning)\n",
    "import numpy as np\n",
    "import os\n",
    "from pathlib import Path\n",
    "import yaml\n",
    "import pandas as pd\n",
    "import matplotlib.pyplot as plt\n",
    "from datetime import datetime\n",
    "import scipy\n",
    "import xarray as xr\n",
    "from tqdm import tqdm\n",
    "import glob"
   ]
  },
  {
   "cell_type": "code",
   "execution_count": 2,
   "id": "34a6f1ea-06cf-42b2-8d9e-df9ff5a985d3",
   "metadata": {},
   "outputs": [],
   "source": [
    "import ewatercycle\n",
    "import ewatercycle.forcing\n",
    "import ewatercycle.models"
   ]
  },
  {
   "cell_type": "code",
   "execution_count": 55,
   "id": "c2f0282c-c87a-4e94-afca-ac1383ea47f2",
   "metadata": {},
   "outputs": [],
   "source": [
    "from ewatercycle.models import MarrmotM14"
   ]
  },
  {
   "cell_type": "code",
   "execution_count": 56,
   "id": "65b81034-7946-49e7-b1ec-060fcd9ce7f6",
   "metadata": {},
   "outputs": [
    {
     "data": {
      "text/plain": [
       "PosixPath('/home/davidhaasnoot/eWaterCycle-WSL-WIP/Forcing/rhine_example_eWCserver')"
      ]
     },
     "execution_count": 56,
     "metadata": {},
     "output_type": "execute_result"
    }
   ],
   "source": [
    "path = Path.cwd()\n",
    "forcing_path = path / \"Forcing\" / \"rhine_example_eWCserver\" \n",
    "observations_path = path / \"Observations\"\n",
    "figure_path = path / \"Figures\"\n",
    "output_path = path / \"Output\"\n",
    "forcing_path"
   ]
  },
  {
   "cell_type": "code",
   "execution_count": 57,
   "id": "cd80e36d-4db2-4b34-9285-0372eefe297f",
   "metadata": {},
   "outputs": [],
   "source": [
    "forcing = ewatercycle.forcing.sources[\"MarrmotForcing\"](\n",
    "    directory=forcing_path,\n",
    "    start_time=\"1989-01-01T00:00:00Z\",\n",
    "    end_time=\"1992-12-31T00:00:00Z\",\n",
    "    forcing_file=\"BMI_testcase_m01_BuffaloRiver_TN_USA.mat\",\n",
    ")"
   ]
  },
  {
   "cell_type": "code",
   "execution_count": 58,
   "id": "314dc125-0af6-41f8-9a5f-766d6af67ccc",
   "metadata": {},
   "outputs": [
    {
     "name": "stderr",
     "output_type": "stream",
     "text": [
      "WARNING:ewatercycle_marrmot.model:The length of parameters in forcing /home/davidhaasnoot/eWaterCycle-WSL-WIP/Forcing/rhine_example_eWCserver/BMI_testcase_m01_BuffaloRiver_TN_USA.mat does not match the length of M14 parameters that is seven.\n",
      "WARNING:ewatercycle_marrmot.model:The length of initial stores in forcing /home/davidhaasnoot/eWaterCycle-WSL-WIP/Forcing/rhine_example_eWCserver/BMI_testcase_m01_BuffaloRiver_TN_USA.mat does not match the length of M14 iniatial stores that is two.\n"
     ]
    }
   ],
   "source": [
    "model = ewatercycle.models.MarrmotM14(forcing=forcing)"
   ]
  },
  {
   "cell_type": "code",
   "execution_count": 59,
   "id": "b912cc1c-79e9-48ff-8790-7f8f7c4e2dfc",
   "metadata": {},
   "outputs": [
    {
     "data": {
      "text/plain": [
       "dict_items([('maximum_soil_moisture_storage', 1000.0), ('threshold_flow_generation_evap_change', 0.5), ('leakage_saturated_zone_flow_coefficient', 0.5), ('zero_deficit_base_flow_speed', 100.0), ('baseflow_coefficient', 0.5), ('gamma_distribution_chi_parameter', 4.25), ('gamma_distribution_phi_parameter', 2.5), ('initial_upper_zone_storage', 900.0), ('initial_saturated_zone_storage', 900.0), ('solver', Solver(name='createOdeApprox_IE', resnorm_tolerance=array([0.1]), resnorm_maxiter=array([6.]))), ('start time', '1989-01-01T00:00:00Z'), ('end time', '1992-12-31T00:00:00Z')])"
      ]
     },
     "execution_count": 59,
     "metadata": {},
     "output_type": "execute_result"
    }
   ],
   "source": [
    "model.parameters"
   ]
  },
  {
   "cell_type": "code",
   "execution_count": 60,
   "id": "c0448a25-7942-45a2-bc1a-15ea45fa8bb2",
   "metadata": {},
   "outputs": [],
   "source": [
    "setup_values = {'maximum_soil_moisture_storage':12, \n",
    "                'end_time':\"1989-02-01T00:00:00Z\",\n",
    "                'test': 1,\n",
    "               }"
   ]
  },
  {
   "cell_type": "code",
   "execution_count": 61,
   "id": "5f276b59-bfb8-4c48-b99a-4d28026411a4",
   "metadata": {},
   "outputs": [],
   "source": [
    "cfg_file, cfg_dir = model.setup(**setup_values)"
   ]
  },
  {
   "cell_type": "code",
   "execution_count": 62,
   "id": "303bf3ae-9eae-4ad0-9949-47c006c7ca7b",
   "metadata": {},
   "outputs": [],
   "source": [
    "model.initialize(cfg_file)"
   ]
  },
  {
   "cell_type": "code",
   "execution_count": 63,
   "id": "40b4bde3-7732-4fde-aeed-1deb6f30aff3",
   "metadata": {},
   "outputs": [
    {
     "data": {
      "text/plain": [
       "dict_items([('maximum_soil_moisture_storage', 12), ('threshold_flow_generation_evap_change', 0.5), ('leakage_saturated_zone_flow_coefficient', 0.5), ('zero_deficit_base_flow_speed', 100.0), ('baseflow_coefficient', 0.5), ('gamma_distribution_chi_parameter', 4.25), ('gamma_distribution_phi_parameter', 2.5), ('initial_upper_zone_storage', 900.0), ('initial_saturated_zone_storage', 900.0), ('solver', Solver(name='createOdeApprox_IE', resnorm_tolerance=array([0.1]), resnorm_maxiter=array([6.]))), ('start time', '1989-01-01T00:00:00Z'), ('end time', '1989-02-01T00:00:00Z')])"
      ]
     },
     "execution_count": 63,
     "metadata": {},
     "output_type": "execute_result"
    }
   ],
   "source": [
    "model.parameters"
   ]
  },
  {
   "cell_type": "code",
   "execution_count": 64,
   "id": "2f07c2df-5f04-4a3d-b7e4-0847c3622e8b",
   "metadata": {},
   "outputs": [],
   "source": [
    "from typing import Type"
   ]
  },
  {
   "cell_type": "code",
   "execution_count": 65,
   "id": "12bd42bc-0cd7-46ac-81e2-c30d2faa794a",
   "metadata": {},
   "outputs": [],
   "source": [
    "from ewatercycle.base.model import eWaterCycleModel"
   ]
  },
  {
   "cell_type": "code",
   "execution_count": 66,
   "id": "2ed4550a-10a4-4646-8027-03c4a7f4e213",
   "metadata": {},
   "outputs": [
    {
     "data": {
      "text/plain": [
       "typing.Type[ewatercycle.base.model.eWaterCycleModel]"
      ]
     },
     "execution_count": 66,
     "metadata": {},
     "output_type": "execute_result"
    }
   ],
   "source": [
    "Type[eWaterCycleModel]"
   ]
  },
  {
   "cell_type": "code",
   "execution_count": 67,
   "id": "4eced7a0-fba0-4d43-94fe-56529a4e8e5f",
   "metadata": {},
   "outputs": [
    {
     "ename": "SyntaxError",
     "evalue": "invalid syntax (3624370644.py, line 1)",
     "output_type": "error",
     "traceback": [
      "\u001b[0;36m  Cell \u001b[0;32mIn[67], line 1\u001b[0;36m\u001b[0m\n\u001b[0;31m    Type[]\u001b[0m\n\u001b[0m         ^\u001b[0m\n\u001b[0;31mSyntaxError\u001b[0m\u001b[0;31m:\u001b[0m invalid syntax\n"
     ]
    }
   ],
   "source": [
    "Type[]"
   ]
  },
  {
   "cell_type": "code",
   "execution_count": 37,
   "id": "d80e6299-4d8c-472a-81c0-6cbba85d9f35",
   "metadata": {},
   "outputs": [],
   "source": [
    "model.update()"
   ]
  },
  {
   "cell_type": "code",
   "execution_count": null,
   "id": "027cf1b3-91a0-4b1f-9af2-37158ca076b6",
   "metadata": {},
   "outputs": [],
   "source": []
  }
 ],
 "metadata": {
  "kernelspec": {
   "display_name": "Python 3 (ipykernel)",
   "language": "python",
   "name": "python3"
  },
  "language_info": {
   "codemirror_mode": {
    "name": "ipython",
    "version": 3
   },
   "file_extension": ".py",
   "mimetype": "text/x-python",
   "name": "python",
   "nbconvert_exporter": "python",
   "pygments_lexer": "ipython3",
   "version": "3.10.13"
  }
 },
 "nbformat": 4,
 "nbformat_minor": 5
}
