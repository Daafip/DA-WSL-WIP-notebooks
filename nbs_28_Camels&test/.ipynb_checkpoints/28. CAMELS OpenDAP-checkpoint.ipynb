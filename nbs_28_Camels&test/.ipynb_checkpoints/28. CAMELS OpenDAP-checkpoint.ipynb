{
 "cells": [
  {
   "cell_type": "markdown",
   "id": "0cbf05e3-fdb5-4671-bbec-fdc9aa445211",
   "metadata": {},
   "source": [
    "# Retrieve forcing for any CARAVAN catchment\n",
    "\n",
    "In this notebook you will retrieve forcing from the Cravan dataset.The caravan dataset is a collection of streamflow and forcing data. <br>\n",
    "Caravan was prepared by [Frederik Kratzert](https://doi.org/10.1038/s41597-023-01975-w), the forcing is based on the ERA5-Land model. The streamflow is from the USGS. <br>\n",
    "To access it easily, it was stored [here](https://doi.org/10.4121/bf0eaf7c-f2fa-46f6-b8cd-77ad939dd350.v4) on the [OPenDAP](https://data.4tu.nl/info/about-your-data/netcdf-and-opendap) server from data.4TU.nl .<br>\n",
    "This saves you from downloading and reading the whole dataset hosted on [zenodo](https://zenodo.org/records/6578598), instead only the necesarry data is downloaded. \n",
    "\n",
    "This notebook will show case how to run this for the HBV model. \n",
    "\n",
    "You have to supply the wanted basin_id. The shapefile will be downloaded automatically. \n",
    "Running the default will download the combined shapefile of all the catchments. \n",
    "Loading this combined shapefile and exploring it will show all availible catchments. "
   ]
  },
  {
   "cell_type": "code",
   "execution_count": 1,
   "id": "ec7e710a-5aa4-40f9-a1cb-151e3cddbe04",
   "metadata": {},
   "outputs": [],
   "source": [
    "# general python\n",
    "import warnings\n",
    "warnings.filterwarnings(\"ignore\", category=UserWarning)\n",
    "import numpy as np\n",
    "from pathlib import Path\n",
    "import pandas as pd\n",
    "import matplotlib.pyplot as plt\n",
    "# from rich import print"
   ]
  },
  {
   "cell_type": "code",
   "execution_count": 2,
   "id": "4569a0f2-4bea-48cc-b5a4-ca5384e368c6",
   "metadata": {},
   "outputs": [],
   "source": [
    "# general eWC\n",
    "import ewatercycle\n",
    "import ewatercycle.forcing\n",
    "import ewatercycle.models\n",
    "import ewatercycle.analysis"
   ]
  },
  {
   "cell_type": "markdown",
   "id": "111bc65b-8299-43ba-95fd-e92df6b92707",
   "metadata": {},
   "source": [
    "#### set up paths"
   ]
  },
  {
   "cell_type": "code",
   "execution_count": 3,
   "id": "df66893d-b667-4fcc-a841-683f32ed2cc7",
   "metadata": {},
   "outputs": [],
   "source": [
    "path = Path.cwd()\n",
    "forcing_path = path / \"Forcing\""
   ]
  },
  {
   "cell_type": "code",
   "execution_count": 4,
   "id": "03aea008-87ce-4d09-8d01-f12dfe6bb116",
   "metadata": {},
   "outputs": [],
   "source": [
    "experiment_start_date = \"1997-08-01T00:00:00Z\"\n",
    "experiment_end_date = \"2005-09-01T00:00:00Z\"\n",
    "HRU_id = 3439000"
   ]
  },
  {
   "cell_type": "markdown",
   "id": "cd6131c6-9fdc-4081-a7bd-60e9c13969c7",
   "metadata": {},
   "source": [
    "### retrieve forcing"
   ]
  },
  {
   "cell_type": "code",
   "execution_count": 5,
   "id": "0b96eb07-083b-4a81-ac0f-b87af53e8917",
   "metadata": {},
   "outputs": [],
   "source": [
    "# pip install git+https://github.com/eWaterCycle/ewatercycle@main"
   ]
  },
  {
   "cell_type": "code",
   "execution_count": 6,
   "id": "8d0091f8-e352-41c1-884d-a693d2694d51",
   "metadata": {},
   "outputs": [],
   "source": [
    "# pip uninstall ewatercycle -y"
   ]
  },
  {
   "cell_type": "code",
   "execution_count": 7,
   "id": "41855c32-2650-403e-bcad-332eab6c1ec4",
   "metadata": {},
   "outputs": [],
   "source": [
    "import ewatercycle.forcing"
   ]
  },
  {
   "cell_type": "code",
   "execution_count": 8,
   "id": "c4960e1a-b061-46ee-ba9d-bc882950222b",
   "metadata": {},
   "outputs": [
    {
     "name": "stdout",
     "output_type": "stream",
     "text": [
      "ForcingSources[\n",
      "    \"CaravanForcing\",\n",
      "    \"DistributedMakkinkForcing\",\n",
      "    \"DistributedUserForcing\",\n",
      "    \"GenericDistributedForcing\",\n",
      "    \"GenericLumpedForcing\",\n",
      "    \"LumpedMakkinkForcing\",\n",
      "    \"LumpedUserForcing\"\n",
      "]\n"
     ]
    }
   ],
   "source": [
    "print(ewatercycle.forcing.sources)"
   ]
  },
  {
   "cell_type": "code",
   "execution_count": 9,
   "id": "762ce8e0-11d5-4272-81ab-356ca3419bed",
   "metadata": {},
   "outputs": [
    {
     "data": {
      "text/plain": [
       "'1.6.5'"
      ]
     },
     "execution_count": 9,
     "metadata": {},
     "output_type": "execute_result"
    }
   ],
   "source": [
    "import netCDF4 as ncf\n",
    "ncf.__version__"
   ]
  },
  {
   "cell_type": "code",
   "execution_count": 12,
   "id": "7f27dbd4-421d-4110-bac3-ecb832a97d97",
   "metadata": {},
   "outputs": [],
   "source": [
    "caravan_forcing = ewatercycle.forcing.sources['CaravanForcing'].generate(start_time = experiment_start_date,\n",
    "                                                                           end_time = experiment_end_date,\n",
    "                                                                           directory = forcing_path / \"Camels\",\n",
    "                                                                           basin_id = f\"camels_0{HRU_id}\",\n",
    "                                                                             )"
   ]
  },
  {
   "cell_type": "code",
   "execution_count": 11,
   "id": "ceabd8c5-2b5c-4267-b67c-6f337b47ebaa",
   "metadata": {},
   "outputs": [
    {
     "ename": "NameError",
     "evalue": "name 'ds_caravan' is not defined",
     "output_type": "error",
     "traceback": [
      "\u001b[0;31m---------------------------------------------------------------------------\u001b[0m",
      "\u001b[0;31mNameError\u001b[0m                                 Traceback (most recent call last)",
      "Cell \u001b[0;32mIn[11], line 1\u001b[0m\n\u001b[0;32m----> 1\u001b[0m \u001b[38;5;28mlist\u001b[39m(\u001b[43mds_caravan\u001b[49m\u001b[38;5;241m.\u001b[39mdata_vars\u001b[38;5;241m.\u001b[39mkeys())\n",
      "\u001b[0;31mNameError\u001b[0m: name 'ds_caravan' is not defined"
     ]
    }
   ],
   "source": [
    "list(ds_caravan.data_vars.keys())"
   ]
  },
  {
   "cell_type": "code",
   "execution_count": null,
   "id": "4140dab8-e723-4427-870d-1883b24d7f86",
   "metadata": {},
   "outputs": [],
   "source": [
    "RENAME_ERA5 = {\n",
    "    \"total_precipitation_sum\": \"pr\",\n",
    "    \"potential_evaporation_sum\": \"evspsblpot\",\n",
    "    \"temperature_2m_mean\": \"tas\",\n",
    "    \"temperature_2m_min\": \"tasmin\",\n",
    "    \"temperature_2m_max\": \"tasmax\",\n",
    "    \"streamflow\": \"Q\",\n",
    "}\n"
   ]
  },
  {
   "cell_type": "code",
   "execution_count": null,
   "id": "b26bb864-744b-41d4-b101-4d375fe39737",
   "metadata": {},
   "outputs": [],
   "source": [
    "RENAME_ERA5.keys()"
   ]
  },
  {
   "cell_type": "code",
   "execution_count": null,
   "id": "b5f752d8-911b-40ba-b243-f896f2382671",
   "metadata": {},
   "outputs": [],
   "source": [
    "ds_caravan"
   ]
  },
  {
   "cell_type": "markdown",
   "id": "5b42822a-d82a-4b20-8cd6-e037d627bdf7",
   "metadata": {},
   "source": [
    "As you can see it will only download the required data variables needed for modeling"
   ]
  },
  {
   "cell_type": "code",
   "execution_count": null,
   "id": "9bc20065-2fda-4979-96c3-32ef580e68e2",
   "metadata": {},
   "outputs": [],
   "source": [
    "ds_caravan.data_vars"
   ]
  },
  {
   "cell_type": "code",
   "execution_count": null,
   "id": "cdc7d3d3-dc48-4b6e-b22e-a9200de8d5da",
   "metadata": {},
   "outputs": [],
   "source": [
    "fig, ax = plt.subplots(2,1,sharex=True, sharey=True)\n",
    "ds_caravan['pr'].plot(ax=ax[0],label=\"P\")\n",
    "ds_caravan['evspsblpot'].plot(ax=ax[1],label=\"E\",color=\"C1\")\n",
    "ax[0].set_title(f'{ds_caravan.name.values.astype(str)} \\nid:\"{ds_caravan.basin_id.values.astype(str)}\"');\n",
    "ax[1].set_title(None)\n",
    "fig.tight_layout()"
   ]
  },
  {
   "cell_type": "markdown",
   "id": "84922bab-80b2-48cf-82e9-9c854338e9de",
   "metadata": {},
   "source": [
    "#### setup model "
   ]
  },
  {
   "cell_type": "code",
   "execution_count": null,
   "id": "b311c594-98a7-4771-b18a-ce4ba651ccb4",
   "metadata": {},
   "outputs": [],
   "source": [
    "from ewatercycle.models import HBV"
   ]
  },
  {
   "cell_type": "code",
   "execution_count": null,
   "id": "699ba20a-76c2-493e-b044-6753a681ec50",
   "metadata": {},
   "outputs": [],
   "source": [
    "model = HBV(forcing=caravan_forcing)"
   ]
  },
  {
   "cell_type": "markdown",
   "id": "986b8cd0-4ee4-4312-becb-4533dd11ffd7",
   "metadata": {},
   "source": [
    "#### pass parameters"
   ]
  },
  {
   "cell_type": "code",
   "execution_count": null,
   "id": "3ce8da0e-243b-41fb-bfc6-20f9216a9f3e",
   "metadata": {},
   "outputs": [],
   "source": [
    "s_0 = np.array([0,  100,  0,  5, 0])\n",
    "par_0 = np.array([2,    0.8,  460,   1.5,    1.0,     4,    .4,   .04, 3])"
   ]
  },
  {
   "cell_type": "code",
   "execution_count": null,
   "id": "e73b5456-02c3-49b6-8622-321e5b733097",
   "metadata": {},
   "outputs": [],
   "source": [
    "config_file, _ = model.setup(parameters=','.join([str(p) for p in par_0]),\n",
    "                             initial_storage=','.join([str(s) for s in s_0]),\n",
    "                             )"
   ]
  },
  {
   "cell_type": "code",
   "execution_count": null,
   "id": "86d29887-2095-4936-8b0d-d8eb67407432",
   "metadata": {},
   "outputs": [],
   "source": [
    "model.initialize(config_file)"
   ]
  },
  {
   "cell_type": "markdown",
   "id": "e2d40059-f2da-4a1f-b6cf-4a5d608d885a",
   "metadata": {},
   "source": [
    "#### Run the model"
   ]
  },
  {
   "cell_type": "code",
   "execution_count": null,
   "id": "06da4985-e120-470d-a510-f471f94ae773",
   "metadata": {},
   "outputs": [],
   "source": [
    "Q_m = []\n",
    "time = []\n",
    "while model.time < model.end_time:\n",
    "    model.update()\n",
    "    Q_m.append(model.get_value(\"Q\"))\n",
    "    time.append(model.time_as_datetime.date())"
   ]
  },
  {
   "cell_type": "code",
   "execution_count": null,
   "id": "5bc424f2-0bd1-4055-9e56-bf8ee4e3bc15",
   "metadata": {},
   "outputs": [],
   "source": [
    "hydro_data = pd.DataFrame(data=Q_m,index=time,columns=[\"model output\"])\n",
    "hydro_data['discharge observations'] = ds_caravan['Q'].to_pandas()"
   ]
  },
  {
   "cell_type": "code",
   "execution_count": null,
   "id": "ec5dabc0-9ef5-4806-8434-962edb837ad0",
   "metadata": {},
   "outputs": [],
   "source": [
    "hydro_data"
   ]
  },
  {
   "cell_type": "markdown",
   "id": "18275909-e17f-4f0a-93e8-a9a7e1cef7a8",
   "metadata": {},
   "source": [
    "Not a great result model wise but it runs and makes some sense!"
   ]
  },
  {
   "cell_type": "code",
   "execution_count": null,
   "id": "34eddcca-f776-411f-a34e-6b7f022c70db",
   "metadata": {},
   "outputs": [],
   "source": [
    "ewatercycle.analysis.hydrograph(hydro_data, reference='discharge observations');"
   ]
  },
  {
   "cell_type": "code",
   "execution_count": null,
   "id": "69d40845-fde7-4260-93c1-0a040cdb9c6c",
   "metadata": {},
   "outputs": [],
   "source": [
    "model.finalize()"
   ]
  },
  {
   "cell_type": "markdown",
   "id": "204adc3f-659d-4b80-a896-7693476efb6d",
   "metadata": {},
   "source": [
    "### Basins"
   ]
  },
  {
   "cell_type": "markdown",
   "id": "27a56155-f521-4f93-b812-40e5297016b9",
   "metadata": {},
   "source": [
    "Using the shapefile we can look at the location of the basin on a map"
   ]
  },
  {
   "cell_type": "code",
   "execution_count": null,
   "id": "0eb828bb-c355-46de-beaa-906e8ead395c",
   "metadata": {},
   "outputs": [],
   "source": [
    "import cartopy.crs as ccrs\n",
    "import cartopy.feature as cfeature"
   ]
  },
  {
   "cell_type": "markdown",
   "id": "948ad3e9-fcc8-4374-b2b7-03b89e3ffdfa",
   "metadata": {},
   "source": [
    "I use geopandas:\n",
    "```py\n",
    "pip install geopandas\n",
    "```\n",
    "as using shapely/cartopy is a hastle"
   ]
  },
  {
   "cell_type": "code",
   "execution_count": null,
   "id": "92b940b3-fb96-4a78-8e20-4def6475b012",
   "metadata": {},
   "outputs": [],
   "source": [
    "import geopandas as gpd"
   ]
  },
  {
   "cell_type": "code",
   "execution_count": null,
   "id": "b4157a22-6f85-4eb7-a629-a1fcb9818d43",
   "metadata": {},
   "outputs": [],
   "source": [
    "gdf_basin = gpd.read_file(caravan_forcing.shape)\n",
    "gdf_basin_buffer = gdf_basin.buffer(1.5)"
   ]
  },
  {
   "cell_type": "code",
   "execution_count": null,
   "id": "f03ad3a1-da02-4a18-8bff-0e9f74e1147f",
   "metadata": {},
   "outputs": [],
   "source": [
    "gdf_basin"
   ]
  },
  {
   "cell_type": "code",
   "execution_count": null,
   "id": "4bb9bb3e-9570-435f-b166-9c9262d0231e",
   "metadata": {},
   "outputs": [],
   "source": [
    "# fig, ax = plt.subplots()\n",
    "ax = plt.axes(projection=ccrs.PlateCarree())\n",
    "country_borders = cfeature.NaturalEarthFeature(\n",
    "    category='cultural',\n",
    "    name='admin_0_boundary_lines_land',\n",
    "    scale='10m',\n",
    "    facecolor='none')\n",
    "ax.add_feature(country_borders, edgecolor='gray')\n",
    "\n",
    "state_borders = cfeature.NaturalEarthFeature(\n",
    "    category='cultural',\n",
    "    name='admin_1_states_provinces_lines',\n",
    "    scale='10m',\n",
    "    facecolor='none')\n",
    "ax.add_feature(state_borders, edgecolor='lightgray')\n",
    "ax.add_feature(cfeature.COASTLINE, edgecolor='gray')\n",
    "ax.add_feature(cfeature.OCEAN, edgecolor='lightblue')\n",
    "\n",
    "\n",
    "gdf_basin.plot(ax=ax,facecolor=\"green\")\n",
    "gdf_basin_buffer.plot(ax=ax,facecolor=\"None\", edgecolor=\"C3\",zorder=10)\n",
    "\n",
    "ax.set_title(f\"{gdf_basin.loc[0,'gauge_id']} catchments\")\n",
    "ax.set_extent([-127.275,  -64.853, 25.864, 50.101], crs=ccrs.Geodetic())\n",
    "\n",
    "plt.tight_layout()"
   ]
  },
  {
   "cell_type": "markdown",
   "id": "48726e9b-f731-4db2-a5bd-78e68cda6e3c",
   "metadata": {},
   "source": [
    "##### and with the combined shapefile we see the all the basins"
   ]
  },
  {
   "cell_type": "code",
   "execution_count": null,
   "id": "f373d9d5-582f-4ef2-aa4b-0cf8711f8b36",
   "metadata": {},
   "outputs": [],
   "source": [
    "gdf_all = gpd.read_file(caravan_forcing.directory / 'shapefiles' / 'combined.shp')"
   ]
  },
  {
   "cell_type": "code",
   "execution_count": null,
   "id": "abe0c3c8-756b-425e-b9ec-373bdae06da1",
   "metadata": {},
   "outputs": [],
   "source": [
    "ax = plt.axes(projection=ccrs.PlateCarree())\n",
    "ax.add_feature(cfeature.COASTLINE, edgecolor='gray')\n",
    "gdf_all.plot(ax=ax,zorder=1,color=\"C0\")\n",
    "plt.tight_layout()"
   ]
  },
  {
   "cell_type": "code",
   "execution_count": null,
   "id": "82b30be7-4f2b-48b6-aea3-307ba964950d",
   "metadata": {},
   "outputs": [],
   "source": [
    "gdf_all"
   ]
  },
  {
   "cell_type": "code",
   "execution_count": null,
   "id": "484bda5f-40b6-4585-9041-d7f9e28ef25d",
   "metadata": {},
   "outputs": [],
   "source": [
    "set(gdf_all['gauge_id'].apply(lambda x: x.split(\"_\")[0]).values)"
   ]
  },
  {
   "cell_type": "code",
   "execution_count": null,
   "id": "d1153323-5ef0-473b-a541-ae2f58acc2ee",
   "metadata": {},
   "outputs": [],
   "source": [
    "import xarray as xr"
   ]
  },
  {
   "cell_type": "code",
   "execution_count": null,
   "id": "88e2cf15-a66d-4028-8725-4904f2bd8ff4",
   "metadata": {},
   "outputs": [],
   "source": [
    "COMMON_URL = \"ca13056c-c347-4a27-b320-930c2a4dd207\"\n",
    "OPENDAP_URL = f\"https://opendap.4tu.nl/thredds/dodsC/data2/djht/{COMMON_URL}/1/\"\n",
    "SHAPEFILE_URL = (\n",
    "    f\"https://data.4tu.nl/file/{COMMON_URL}/bbe94526-cf1a-4b96-8155-244f20094719\"\n",
    ")\n"
   ]
  },
  {
   "cell_type": "code",
   "execution_count": null,
   "id": "8ed575fc-bdf1-47e4-ab4e-f96487dd8a65",
   "metadata": {},
   "outputs": [],
   "source": [
    "def get_dataset(dataset) -> xr.Dataset:\n",
    "    \"\"\"Opens specified dataset from 4tu.nl opendap server.\n",
    "        args:\n",
    "            dataset:\n",
    "                Choose from:    \n",
    "                'camels', # US\n",
    "                'camelsaus', # Australia\n",
    "                'camelsbr', # Brazil\n",
    "                'camelscl', # Chille \n",
    "                'camelsgb', # Great Britan\n",
    "                'hysets',  # US\n",
    "                'lamah', # US\n",
    "    \"\"\"\n",
    "    return xr.open_dataset(f\"{OPENDAP_URL}{dataset}.nc\")"
   ]
  },
  {
   "cell_type": "code",
   "execution_count": null,
   "id": "280b8f58-b6cf-4018-b3fe-e8b1182c0bc0",
   "metadata": {},
   "outputs": [],
   "source": [
    "def get_basin_id(dataset) -> list[str]:\n",
    "    \"\"\"\n",
    "    args:\n",
    "        dataset:\n",
    "            Choose from:    \n",
    "            'camels', \n",
    "            'camelsaus', \n",
    "            'camelsbr', \n",
    "            'camelscl', \n",
    "            'camelsgb', \n",
    "            'hysets', \n",
    "            'lamah'\n",
    "    \n",
    "    returns: \n",
    "        list of basin_ids of matching dataset\n",
    "        \n",
    "    \"\"\"\n",
    "    return [val.decode() for val in get_dataset(dataset).basin_id.values]"
   ]
  },
  {
   "cell_type": "code",
   "execution_count": null,
   "id": "070278ae-af34-4efe-8947-cdb3a4e108c2",
   "metadata": {},
   "outputs": [],
   "source": []
  }
 ],
 "metadata": {
  "kernelspec": {
   "display_name": "Python 3 (ipykernel)",
   "language": "python",
   "name": "python3"
  },
  "language_info": {
   "codemirror_mode": {
    "name": "ipython",
    "version": 3
   },
   "file_extension": ".py",
   "mimetype": "text/x-python",
   "name": "python",
   "nbconvert_exporter": "python",
   "pygments_lexer": "ipython3",
   "version": "3.10.14"
  }
 },
 "nbformat": 4,
 "nbformat_minor": 5
}
