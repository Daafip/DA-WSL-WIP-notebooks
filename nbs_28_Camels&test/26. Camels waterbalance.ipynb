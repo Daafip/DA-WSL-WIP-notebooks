{
 "cells": [
  {
   "cell_type": "markdown",
   "id": "e9cd8d85-eb4a-45d6-925a-e3e770592043",
   "metadata": {},
   "source": [
    "### Import modules and verify they work? "
   ]
  },
  {
   "cell_type": "code",
   "execution_count": 1,
   "id": "ec7e710a-5aa4-40f9-a1cb-151e3cddbe04",
   "metadata": {},
   "outputs": [],
   "source": [
    "# general python\n",
    "import warnings\n",
    "warnings.filterwarnings(\"ignore\", category=UserWarning)\n",
    "import numpy as np\n",
    "import os\n",
    "from pathlib import Path\n",
    "import yaml\n",
    "import pandas as pd\n",
    "import matplotlib.pyplot as plt\n",
    "from datetime import datetime\n",
    "import scipy\n",
    "import xarray as xr\n",
    "from tqdm import tqdm\n",
    "import glob\n",
    "from devtools import pprint\n",
    "from tqdm import tqdm"
   ]
  },
  {
   "cell_type": "code",
   "execution_count": 2,
   "id": "4569a0f2-4bea-48cc-b5a4-ca5384e368c6",
   "metadata": {},
   "outputs": [],
   "source": [
    "# general eWC\n",
    "import ewatercycle\n",
    "import ewatercycle.forcing\n",
    "import ewatercycle.models"
   ]
  },
  {
   "cell_type": "code",
   "execution_count": 3,
   "id": "cac240ea-cd32-4ab7-9c76-17bd79e4a946",
   "metadata": {},
   "outputs": [],
   "source": [
    "from pydantic import BaseModel\n",
    "from typing import Any"
   ]
  },
  {
   "cell_type": "code",
   "execution_count": 4,
   "id": "8dae7459-8585-40f7-b4e7-392d5ac80843",
   "metadata": {},
   "outputs": [],
   "source": [
    "# from ewatercycle.forcing import HBVforcing"
   ]
  },
  {
   "cell_type": "markdown",
   "id": "d1454a07-6f82-4728-87cc-f799951db83d",
   "metadata": {},
   "source": [
    "Download plugin model"
   ]
  },
  {
   "cell_type": "code",
   "execution_count": 5,
   "id": "9700e11c-c767-47ed-870a-d08afbf52651",
   "metadata": {},
   "outputs": [],
   "source": [
    "# pip uninstall ewatercycle-HBV -ydd"
   ]
  },
  {
   "cell_type": "code",
   "execution_count": 6,
   "id": "dd415d7a-38b9-4124-ba09-05d21ca859ab",
   "metadata": {},
   "outputs": [],
   "source": [
    "# pip install --upgrade git+https://github.com/Daafip/ewatercycle-hbv.git@dev"
   ]
  },
  {
   "cell_type": "markdown",
   "id": "111bc65b-8299-43ba-95fd-e92df6b92707",
   "metadata": {},
   "source": [
    "#### set up paths"
   ]
  },
  {
   "cell_type": "code",
   "execution_count": 7,
   "id": "df66893d-b667-4fcc-a841-683f32ed2cc7",
   "metadata": {},
   "outputs": [
    {
     "data": {
      "text/plain": [
       "PosixPath('/home/davidhaasnoot/eWaterCycle-WSL-WIP/nbs_28_Camels&test/Forcing')"
      ]
     },
     "execution_count": 7,
     "metadata": {},
     "output_type": "execute_result"
    }
   ],
   "source": [
    "path = Path.cwd()\n",
    "forcing_path = path / \"Forcing\"\n",
    "observations_path = path / \"Observations\"\n",
    "figure_path = path / \"Figures\"\n",
    "output_path = path / \"Output\"\n",
    "forcing_path"
   ]
  },
  {
   "cell_type": "markdown",
   "id": "4787c692-3f9c-402b-9b48-93daeeb47926",
   "metadata": {},
   "source": [
    "#### add parameter info"
   ]
  },
  {
   "cell_type": "code",
   "execution_count": 8,
   "id": "33fbba0f-dbc0-4812-9125-79e0df831e7b",
   "metadata": {},
   "outputs": [],
   "source": [
    "## Array of initial storage terms - we keep these constant for now \n",
    "##              Si,  Su, Sf, Ss\n",
    "s_0 = np.array([0,  100,  0,  5, 0])\n",
    "\n",
    "## Array of parameters min/max bounds as a reference\n",
    "##                      Imax,  Ce,  Sumax, beta,  Pmax,  T_lag,   Kf,   Ks, FM\n",
    "p_min_initial= np.array([0,   0.2,  40,    .5,   .001,   1,     .01,  .0001, 6])\n",
    "p_max_initial = np.array([8,    1,  800,   4,    .3,     10,    .1,   .01, 0.1])\n",
    "p_names = [\"$I_{max}$\",  \"$C_e$\",  \"$Su_{max}$\", \"β\",  \"$P_{max}$\",  \"$T_{lag}$\",   \"$K_f$\",   \"$K_s$\", \"FM\"]\n",
    "S_names = [\"Interception storage\", \"Unsaturated Rootzone Storage\", \"Fastflow storage\", \"Groundwater storage\", \"Snowpack storage\"]\n",
    "param_names = [\"Imax\",\"Ce\",  \"Sumax\", \"Beta\",  \"Pmax\",  \"Tlag\",   \"Kf\",   \"Ks\", \"FM\"]\n",
    "stor_names = [\"Si\", \"Su\", \"Sf\", \"Ss\", \"Sp\"]\n",
    "\n",
    "# set initial as mean of max,min\n",
    "par_0 = (p_min_initial + p_max_initial)/2"
   ]
  },
  {
   "cell_type": "code",
   "execution_count": 27,
   "id": "03aea008-87ce-4d09-8d01-f12dfe6bb116",
   "metadata": {},
   "outputs": [],
   "source": [
    "experiment_start_date = \"1997-08-01T00:00:00Z\"\n",
    "experiment_end_date = \"2017-09-01T00:00:00Z\"\n",
    "HRU_id = 1181000\n",
    "alpha = 1.26"
   ]
  },
  {
   "cell_type": "code",
   "execution_count": 28,
   "id": "41855c32-2650-403e-bcad-332eab6c1ec4",
   "metadata": {},
   "outputs": [],
   "source": [
    "from ewatercycle.forcing import sources"
   ]
  },
  {
   "cell_type": "code",
   "execution_count": 29,
   "id": "7f27dbd4-421d-4110-bac3-ecb832a97d97",
   "metadata": {},
   "outputs": [],
   "source": [
    "camels_forcing = sources.HBVForcing(start_time = experiment_start_date,\n",
    "                          end_time = experiment_end_date,\n",
    "                          directory = forcing_path,\n",
    "                          camels_file = f'0{HRU_id}_lump_cida_forcing_leap.txt',\n",
    "                          alpha = alpha,\n",
    "                          )"
   ]
  },
  {
   "cell_type": "markdown",
   "id": "b944e1b8-e225-483d-b39e-74ed4dea37cf",
   "metadata": {},
   "source": [
    "#### import model"
   ]
  },
  {
   "cell_type": "code",
   "execution_count": 30,
   "id": "555a3c69-953c-403b-a259-125aa8370dd8",
   "metadata": {},
   "outputs": [],
   "source": [
    "from ewatercycle_DA.local_models.HBV import HBVLocal"
   ]
  },
  {
   "cell_type": "code",
   "execution_count": 31,
   "id": "fc989970-e528-42b2-8001-10c80e4282bb",
   "metadata": {},
   "outputs": [],
   "source": [
    "model = HBVLocal(forcing=camels_forcing)\n",
    "config, _ = model.setup(**{'parameters':','.join([str(p) for p in par_0]), \n",
    "                            'initial_storage':','.join([str(s) for s in s_0]),\n",
    "                             })\n",
    "model.initialize(config)"
   ]
  },
  {
   "cell_type": "code",
   "execution_count": 32,
   "id": "7cf408e6-6c68-4e25-853b-598ef963c70a",
   "metadata": {},
   "outputs": [],
   "source": [
    "# create a reference model\n",
    "ds = xr.open_dataset(forcing_path / model.forcing.pr)"
   ]
  },
  {
   "cell_type": "code",
   "execution_count": 33,
   "id": "3cea8704-d305-417a-b5c9-d76be9117cc1",
   "metadata": {},
   "outputs": [
    {
     "data": {
      "text/plain": [
       "PosixPath('/home/davidhaasnoot/eWaterCycle-WSL-WIP/nbs_28_Camels&test/Forcing/HBV_forcing_CAMELS_2024-05-13 11_40_yUNyo.nc')"
      ]
     },
     "execution_count": 33,
     "metadata": {},
     "output_type": "execute_result"
    }
   ],
   "source": [
    "forcing_path / model.forcing.pr"
   ]
  },
  {
   "cell_type": "code",
   "execution_count": 34,
   "id": "a7ba804a-256d-47f2-9844-650cc82a76a2",
   "metadata": {},
   "outputs": [],
   "source": [
    "observations = observations_path / f'0{HRU_id}_streamflow_qc.txt'"
   ]
  },
  {
   "cell_type": "code",
   "execution_count": 35,
   "id": "44235d5a-a940-4a0b-bf7e-396d661f4bc2",
   "metadata": {},
   "outputs": [],
   "source": [
    "cubic_ft_to_cubic_m = 0.0283168466 "
   ]
  },
  {
   "cell_type": "markdown",
   "id": "30c9209c-8871-4a44-9234-7bfdabbcf6f0",
   "metadata": {},
   "source": [
    "Load camels observation file and write to a netcdf file"
   ]
  },
  {
   "cell_type": "code",
   "execution_count": 36,
   "id": "b136561d-095c-48d2-8a76-02d1954aac1b",
   "metadata": {},
   "outputs": [],
   "source": [
    "new_header = ['GAGEID','Year','Month', 'Day', 'Streamflow(cubic feet per second)','QC_flag']\n",
    "new_header_dict = dict(list(zip(range(len(new_header)),new_header)))\n",
    "\n",
    "df_Q = pd.read_fwf(observations,delimiter=' ',encoding='utf-8',header=None)\n",
    "df_Q = df_Q.rename(columns=new_header_dict)\n",
    "df_Q['Streamflow(cubic feet per second)'] = df_Q['Streamflow(cubic feet per second)'].apply(lambda x: np.nan if x==-999.00 else x)\n",
    "df_Q['Q (m3/s)'] = df_Q['Streamflow(cubic feet per second)'] * cubic_ft_to_cubic_m\n",
    "df_Q['Q'] = df_Q['Q (m3/s)'] / ds.attrs['area basin(m^2)'] * 3600 * 24 * 1000 # m3/s -> m/s ->m/d -> mm/d\n",
    "df_Q.index = df_Q.apply(lambda x: pd.Timestamp(f'{int(x.Year)}-{int(x.Month)}-{int(x.Day)}'),axis=1)\n",
    "df_Q.index.name = \"time\"\n",
    "df_Q.drop(columns=['Year','Month', 'Day','Streamflow(cubic feet per second)'],inplace=True)\n",
    "df_Q = df_Q.dropna(axis=0)\n",
    "\n",
    "ds_obs_dir = observations_path / f'0{HRU_id}_streamflow_qc.nc'\n",
    "ds_obs = xr.Dataset(data_vars=df_Q[['Q']])\n",
    "if not ds_obs_dir.exists():\n",
    "    ds_obs.to_netcdf(ds_obs_dir)"
   ]
  },
  {
   "cell_type": "code",
   "execution_count": 37,
   "id": "327d70b2-8807-41c4-b418-fa917d68f5b0",
   "metadata": {},
   "outputs": [
    {
     "data": {
      "image/png": "[encoded data removed]",
      "text/plain": [
       "<Figure size 640x480 with 1 Axes>"
      ]
     },
     "metadata": {},
     "output_type": "display_data"
    }
   ],
   "source": [
    "ax = df_Q['Q'].plot(label=\"Q\",marker=\".\",lw=0,color=\"k\")\n",
    "ds['evspsblpot'].plot(ax=ax,label=\"E\",color=\"C2\")\n",
    "ds['pr'].plot(ax=ax,zorder=-2,label=\"P\",color=\"C1\")\n",
    "ax.set_xlim((pd.Timestamp(experiment_start_date),pd.Timestamp(experiment_end_date)))\n",
    "ax.set_ylabel(\"Q (mm/d)\")\n",
    "ax.set_title(\"observations\")\n",
    "ax.legend();"
   ]
  },
  {
   "cell_type": "code",
   "execution_count": 38,
   "id": "58726982-4be7-4059-8e33-7daf16b02416",
   "metadata": {},
   "outputs": [],
   "source": [
    "df_combined = ds_obs.to_pandas()\n",
    "df_combined['P'] = ds['pr'].to_pandas()\n",
    "df_combined['EP'] = ds['evspsblpot'].to_pandas()\n",
    "df_combined = df_combined.dropna(axis=0)"
   ]
  },
  {
   "cell_type": "code",
   "execution_count": 44,
   "id": "27de3126-bed1-4cae-b2ab-d85d1131ac25",
   "metadata": {},
   "outputs": [
    {
     "data": {
      "text/plain": [
       "(15029.929311502794, 13621.882134154699)"
      ]
     },
     "execution_count": 44,
     "metadata": {},
     "output_type": "execute_result"
    }
   ],
   "source": [
    "sum = df_combined.sum(axis=0)\n",
    "sum.P - sum.EP, sum.Q"
   ]
  },
  {
   "cell_type": "code",
   "execution_count": null,
   "id": "f57419b3-af43-4d61-94c3-226cc25c895e",
   "metadata": {},
   "outputs": [],
   "source": []
  }
 ],
 "metadata": {
  "kernelspec": {
   "display_name": "Python 3 (ipykernel)",
   "language": "python",
   "name": "python3"
  },
  "language_info": {
   "codemirror_mode": {
    "name": "ipython",
    "version": 3
   },
   "file_extension": ".py",
   "mimetype": "text/x-python",
   "name": "python",
   "nbconvert_exporter": "python",
   "pygments_lexer": "ipython3",
   "version": "3.10.13"
  }
 },
 "nbformat": 4,
 "nbformat_minor": 5
}
