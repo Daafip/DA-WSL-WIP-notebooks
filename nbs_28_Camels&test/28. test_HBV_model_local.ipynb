{
 "cells": [
  {
   "cell_type": "markdown",
   "id": "e9cd8d85-eb4a-45d6-925a-e3e770592043",
   "metadata": {},
   "source": [
    "### Import modules and verify they work? "
   ]
  },
  {
   "cell_type": "code",
   "execution_count": 1,
   "id": "ec7e710a-5aa4-40f9-a1cb-151e3cddbe04",
   "metadata": {},
   "outputs": [],
   "source": [
    "# general python\n",
    "import warnings\n",
    "warnings.filterwarnings(\"ignore\", category=UserWarning)\n",
    "import numpy as np\n",
    "import os\n",
    "from pathlib import Path\n",
    "import yaml\n",
    "import pandas as pd\n",
    "import matplotlib.pyplot as plt\n",
    "import xarray as xr"
   ]
  },
  {
   "cell_type": "code",
   "execution_count": 2,
   "id": "4569a0f2-4bea-48cc-b5a4-ca5384e368c6",
   "metadata": {},
   "outputs": [],
   "source": [
    "# general eWC\n",
    "import ewatercycle\n",
    "import ewatercycle.models\n",
    "import ewatercycle.forcing"
   ]
  },
  {
   "cell_type": "code",
   "execution_count": 3,
   "id": "d9173a25-e32e-4a1a-8b37-12633efa9d09",
   "metadata": {},
   "outputs": [],
   "source": [
    "# pip install ewatercycle-HBV"
   ]
  },
  {
   "cell_type": "code",
   "execution_count": 4,
   "id": "4e987f92-f6ea-4161-8582-1a5b86b54984",
   "metadata": {},
   "outputs": [],
   "source": [
    "import ewatercycle_HBV"
   ]
  },
  {
   "cell_type": "code",
   "execution_count": 5,
   "id": "60eb0ccb-d5e8-486a-aee0-e6962348c727",
   "metadata": {},
   "outputs": [
    {
     "data": {
      "text/plain": [
       "'1.8.3'"
      ]
     },
     "execution_count": 5,
     "metadata": {},
     "output_type": "execute_result"
    }
   ],
   "source": [
    "ewatercycle_HBV.__version__"
   ]
  },
  {
   "cell_type": "markdown",
   "id": "111bc65b-8299-43ba-95fd-e92df6b92707",
   "metadata": {},
   "source": [
    "#### set up paths"
   ]
  },
  {
   "cell_type": "code",
   "execution_count": 6,
   "id": "df66893d-b667-4fcc-a841-683f32ed2cc7",
   "metadata": {},
   "outputs": [
    {
     "data": {
      "text/plain": [
       "PosixPath('/home/davidhaasnoot/eWaterCycle-WSL-WIP/nbs_28_Camels&test/Forcing')"
      ]
     },
     "execution_count": 6,
     "metadata": {},
     "output_type": "execute_result"
    }
   ],
   "source": [
    "path = Path.cwd()\n",
    "forcing_path = path / \"Forcing\"\n",
    "forcing_path"
   ]
  },
  {
   "cell_type": "markdown",
   "id": "4787c692-3f9c-402b-9b48-93daeeb47926",
   "metadata": {},
   "source": [
    "#### add parameter info"
   ]
  },
  {
   "cell_type": "code",
   "execution_count": 7,
   "id": "33fbba0f-dbc0-4812-9125-79e0df831e7b",
   "metadata": {},
   "outputs": [],
   "source": [
    "## Array of initial storage terms - we keep these constant for now \n",
    "##              Si,  Su, Sf, Ss, Sp\n",
    "s_0 = np.array([0,  100,  0,  5, 0])\n",
    "\n",
    "## Array of parameters min/max bounds as a reference\n",
    "##                      Imax,  Ce,  Sumax, beta,  Pmax,  T_lag,   Kf,   Ks, FM\n",
    "p_min_initial= np.array([0,   0.2,  40,    .5,   .001,   1,     .01,  .0001, 6])\n",
    "p_max_initial = np.array([8,    1,  800,   4,    .3,     10,    .1,   .01, 0.1])\n",
    "p_names = [\"$I_{max}$\",  \"$C_e$\",  \"$Su_{max}$\", \"β\",  \"$P_{max}$\",  \"$T_{lag}$\",   \"$K_f$\",   \"$K_s$\", \"FM\"]\n",
    "S_names = [\"Interception storage\", \"Unsaturated Rootzone Storage\", \"Fastflow storage\", \"Groundwater storage\", \"Snowpack storage\"]\n",
    "param_names = [\"Imax\",\"Ce\",  \"Sumax\", \"beta\",  \"Pmax\",  \"Tlag\",   \"Kf\",   \"Ks\", \"FM\"]\n",
    "\n",
    "# set initial as mean of max,min\n",
    "par_0 = (p_min_initial + p_max_initial)/2"
   ]
  },
  {
   "cell_type": "code",
   "execution_count": 8,
   "id": "03aea008-87ce-4d09-8d01-f12dfe6bb116",
   "metadata": {},
   "outputs": [],
   "source": [
    "experiment_start_date = \"1997-08-01T00:00:00Z\"\n",
    "experiment_end_date = \"2000-08-31T00:00:00Z\"\n",
    "HRU_id = 2479155\n",
    "alpha = 1.2626"
   ]
  },
  {
   "cell_type": "code",
   "execution_count": 9,
   "id": "41855c32-2650-403e-bcad-332eab6c1ec4",
   "metadata": {},
   "outputs": [],
   "source": [
    "from ewatercycle.forcing import sources "
   ]
  },
  {
   "cell_type": "code",
   "execution_count": 10,
   "id": "7b37cdcd-a85a-42db-8624-4ee77899702b",
   "metadata": {},
   "outputs": [
    {
     "data": {
      "text/plain": [
       "ForcingSources[\n",
       "    \"CaravanForcing\",\n",
       "    \"DistributedMakkinkForcing\",\n",
       "    \"DistributedUserForcing\",\n",
       "    \"GenericDistributedForcing\",\n",
       "    \"GenericLumpedForcing\",\n",
       "    \"HBVForcing\",\n",
       "    \"LorenzForcing\",\n",
       "    \"LumpedMakkinkForcing\",\n",
       "    \"LumpedUserForcing\"\n",
       "]"
      ]
     },
     "execution_count": 10,
     "metadata": {},
     "output_type": "execute_result"
    }
   ],
   "source": [
    "sources"
   ]
  },
  {
   "cell_type": "code",
   "execution_count": 11,
   "id": "6249ec9f-8ff2-4181-ac6f-cac309d8cf72",
   "metadata": {},
   "outputs": [],
   "source": [
    "test_forcing = ewatercycle.forcing.sources.HBVForcing(start_time = experiment_start_date,\n",
    "                          end_time = experiment_end_date,\n",
    "                          directory = forcing_path,\n",
    "                          camels_file = f'test_forcing.txt',\n",
    "                          test_data_bool=True\n",
    "                          )"
   ]
  },
  {
   "cell_type": "markdown",
   "id": "7ab1b4e5-c1bf-48d1-a46a-19a7aeb8867c",
   "metadata": {},
   "source": [
    "#### Can also run locally"
   ]
  },
  {
   "cell_type": "code",
   "execution_count": 12,
   "id": "c13afe17-a7d9-4728-9fa7-bc9b70c94fee",
   "metadata": {},
   "outputs": [
    {
     "data": {
      "text/plain": [
       "ModelSources[\n",
       "    \"HBV\",\n",
       "    \"HBVLocal\",\n",
       "    \"Lorenz\"\n",
       "]"
      ]
     },
     "execution_count": 12,
     "metadata": {},
     "output_type": "execute_result"
    }
   ],
   "source": [
    "ewatercycle.models.sources"
   ]
  },
  {
   "cell_type": "code",
   "execution_count": 13,
   "id": "ab699e15-e3d2-4504-bc02-202e16ea5818",
   "metadata": {},
   "outputs": [],
   "source": [
    "from ewatercycle.models import HBVLocal "
   ]
  },
  {
   "cell_type": "code",
   "execution_count": 14,
   "id": "9aad16e2-272a-4fe3-a048-0801cbfa4a52",
   "metadata": {
    "editable": true,
    "slideshow": {
     "slide_type": ""
    },
    "tags": []
   },
   "outputs": [],
   "source": [
    "local_model = HBVLocal(forcing=test_forcing)"
   ]
  },
  {
   "cell_type": "markdown",
   "id": "b6f86ebb-37ed-4db7-b011-971b8eafbbb0",
   "metadata": {},
   "source": [
    "need to  add a local container to run"
   ]
  },
  {
   "cell_type": "code",
   "execution_count": 15,
   "id": "a6c23e65-f652-444b-9782-238b8ad957a7",
   "metadata": {},
   "outputs": [],
   "source": [
    "config_file, _ = local_model.setup(\n",
    "            parameters=','.join([str(p) for p in par_0]),\n",
    "            initial_storage=','.join([str(s) for s in s_0]),\n",
    "           )"
   ]
  },
  {
   "cell_type": "code",
   "execution_count": 16,
   "id": "33bec934-bd45-4274-9204-3c762564434c",
   "metadata": {},
   "outputs": [],
   "source": [
    "local_model.initialize(config_file)"
   ]
  },
  {
   "cell_type": "code",
   "execution_count": 17,
   "id": "d232b347-c50a-487b-a04b-d18c0ef4ec27",
   "metadata": {},
   "outputs": [],
   "source": [
    "ds = xr.open_dataset(forcing_path / local_model.forcing.pr)"
   ]
  },
  {
   "cell_type": "code",
   "execution_count": 18,
   "id": "5c67e834-9232-41a3-9e19-216c742e83da",
   "metadata": {},
   "outputs": [],
   "source": [
    "Q_m = []\n",
    "time = []\n",
    "while local_model.time < local_model.end_time:\n",
    "    local_model.update()\n",
    "    Q_m.append(local_model.get_value(\"Q\"))\n",
    "    time.append(local_model.time_as_datetime.date())"
   ]
  },
  {
   "cell_type": "code",
   "execution_count": 19,
   "id": "d6d843b5-08d7-44da-b2ff-098b71091a9c",
   "metadata": {},
   "outputs": [
    {
     "data": {
      "text/plain": [
       "[<matplotlib.lines.Line2D at 0x7f5614d9cb50>]"
      ]
     },
     "execution_count": 19,
     "metadata": {},
     "output_type": "execute_result"
    },
    {
     "data": {
      "image/png": "[encoded data removed]",
      "text/plain": [
       "<Figure size 640x480 with 1 Axes>"
      ]
     },
     "metadata": {},
     "output_type": "display_data"
    }
   ],
   "source": [
    "plt.plot(time[:-10], Q_m[:-10])"
   ]
  },
  {
   "cell_type": "code",
   "execution_count": 20,
   "id": "dda2476e-8842-4a18-99dc-f37e68424f03",
   "metadata": {},
   "outputs": [],
   "source": [
    "param_names = [\"Imax\",\"Ce\",  \"Sumax\", \"Beta\",  \"Pmax\",  \"Tlag\",   \"Kf\",   \"Ks\", \"FM\"]\n",
    "stor_names = [\"Si\", \"Su\", \"Sf\", \"Ss\", \"Sp\"]"
   ]
  },
  {
   "cell_type": "code",
   "execution_count": 21,
   "id": "1ff5c18f-7f4d-477b-9dcf-ce85c94c3185",
   "metadata": {},
   "outputs": [],
   "source": [
    "local_model.finalize()"
   ]
  },
  {
   "cell_type": "markdown",
   "id": "d638ed73-f837-453b-984c-d6e4e8cbdc21",
   "metadata": {},
   "source": [
    "Test camels"
   ]
  },
  {
   "cell_type": "code",
   "execution_count": 22,
   "id": "9f206132-2205-4bfc-9f27-4718969a94ed",
   "metadata": {},
   "outputs": [],
   "source": [
    "from ewatercycle.forcing import sources"
   ]
  },
  {
   "cell_type": "code",
   "execution_count": 27,
   "id": "117bde42-4895-4a5f-9ab2-b9864ca25e7f",
   "metadata": {},
   "outputs": [],
   "source": [
    "experiment_start_date = \"1997-08-01T00:00:00Z\"\n",
    "experiment_end_date = \"2005-09-01T00:00:00Z\"\n",
    "HRU_id = 14138900\n",
    "alpha = 1.26"
   ]
  },
  {
   "cell_type": "code",
   "execution_count": 31,
   "id": "1c828693-a426-4526-a4c8-e866a460488d",
   "metadata": {},
   "outputs": [],
   "source": [
    "camels_forcing = sources.HBVForcing(start_time = experiment_start_date,\n",
    "                          end_time = experiment_end_date,\n",
    "                          directory = forcing_path,\n",
    "                          camels_file = f'{HRU_id}_lump_cida_forcing_leap.txt',\n",
    "                          alpha = alpha,\n",
    "                          )"
   ]
  },
  {
   "cell_type": "code",
   "execution_count": 32,
   "id": "4e44ad44-a796-401b-aa5e-d571b18defcd",
   "metadata": {},
   "outputs": [],
   "source": [
    "local_model_camels = HBVLocal(forcing=camels_forcing)"
   ]
  },
  {
   "cell_type": "code",
   "execution_count": 33,
   "id": "4972d5b5-ed5f-4d11-97f4-d88c0a88f755",
   "metadata": {},
   "outputs": [],
   "source": [
    "config_file, _ = local_model_camels.setup(\n",
    "            parameters=','.join([str(p) for p in par_0]),\n",
    "            initial_storage=','.join([str(s) for s in s_0]),\n",
    "           )"
   ]
  },
  {
   "cell_type": "code",
   "execution_count": 34,
   "id": "d8faf65a-3f1a-4ce0-b072-d8dcfb8f6310",
   "metadata": {},
   "outputs": [],
   "source": [
    "local_model_camels.initialize(config_file)"
   ]
  },
  {
   "cell_type": "code",
   "execution_count": 35,
   "id": "4782dc11-48d9-494f-8421-1d024e137422",
   "metadata": {},
   "outputs": [],
   "source": [
    "Q_m = []\n",
    "time = []\n",
    "while local_model_camels.time < local_model_camels.end_time:\n",
    "    local_model_camels.update()\n",
    "    Q_m.append(local_model_camels.get_value(\"Q\"))\n",
    "    time.append(local_model_camels.time_as_datetime.date())"
   ]
  },
  {
   "cell_type": "code",
   "execution_count": 36,
   "id": "401f3655-8459-407c-bb74-2f88fe0f6590",
   "metadata": {},
   "outputs": [
    {
     "data": {
      "text/plain": [
       "[<matplotlib.lines.Line2D at 0x7f560c3184f0>]"
      ]
     },
     "execution_count": 36,
     "metadata": {},
     "output_type": "execute_result"
    },
    {
     "data": {
      "image/png": "[encoded data removed]",
      "text/plain": [
       "<Figure size 640x480 with 1 Axes>"
      ]
     },
     "metadata": {},
     "output_type": "display_data"
    }
   ],
   "source": [
    "plt.plot(time[:-10], Q_m[:-10])"
   ]
  },
  {
   "cell_type": "markdown",
   "id": "079e5a37-0155-421f-b5cb-2f175db20d60",
   "metadata": {},
   "source": [
    "# makkink"
   ]
  },
  {
   "cell_type": "code",
   "execution_count": 37,
   "id": "2e40862b-f269-4d10-99f7-3caf399ebecc",
   "metadata": {},
   "outputs": [],
   "source": [
    "#shapefile that describes the basin we want to study.\n",
    "path = Path.cwd()\n",
    "forcing_path = path / \"Forcing\"\n",
    "shapeFile = forcing_path/ \"Rhine_shp\" / \"Rhine.shp\"\n",
    "\n",
    "#location to saved forcing results from previous notebook\n",
    "forcingLocation = forcing_path / \"RhineForcing2000-2002\"\n",
    "\n",
    "#GRDC station ID for the observation station\n",
    "grdc_station_id = \"6335020\"  # GRDC station ID\n",
    "basin_name = \"Rhine\"\n",
    "observation_path = path / \"Observations\"\n",
    "\n",
    "#period of interest. Make sure that GRDC data is available for this period and that.\n",
    "experiment_start_time=\"2000-01-01T00:00:00Z\"\n",
    "experiment_end_time=\"2002-12-31T00:00:00Z\"\n"
   ]
  },
  {
   "cell_type": "code",
   "execution_count": 38,
   "id": "5bc42599-c0b8-4909-a9bf-b3c46002b76c",
   "metadata": {},
   "outputs": [
    {
     "ename": "FileNotFoundError",
     "evalue": "Forcing file /home/davidhaasnoot/eWaterCycle-WSL-WIP/nbs_28_Camels&test/Forcing/RhineForcing2000-2002/ewatercycle_forcing.yaml not found. Perhaps you want to use LumpedMakkinkForcing(...)?",
     "output_type": "error",
     "traceback": [
      "\u001b[0;31m---------------------------------------------------------------------------\u001b[0m",
      "\u001b[0;31mFileNotFoundError\u001b[0m                         Traceback (most recent call last)",
      "Cell \u001b[0;32mIn[38], line 1\u001b[0m\n\u001b[0;32m----> 1\u001b[0m ERA5_forcing \u001b[38;5;241m=\u001b[39m \u001b[43mewatercycle\u001b[49m\u001b[38;5;241;43m.\u001b[39;49m\u001b[43mforcing\u001b[49m\u001b[38;5;241;43m.\u001b[39;49m\u001b[43msources\u001b[49m\u001b[43m[\u001b[49m\u001b[38;5;124;43m\"\u001b[39;49m\u001b[38;5;124;43mLumpedMakkinkForcing\u001b[39;49m\u001b[38;5;124;43m\"\u001b[39;49m\u001b[43m]\u001b[49m\u001b[38;5;241;43m.\u001b[39;49m\u001b[43mload\u001b[49m\u001b[43m(\u001b[49m\u001b[43mforcingLocation\u001b[49m\u001b[43m)\u001b[49m\n",
      "File \u001b[0;32m~/miniconda3/envs/ewatercycle_dev/lib/python3.10/site-packages/ewatercycle/base/forcing.py:243\u001b[0m, in \u001b[0;36mDefaultForcing.load\u001b[0;34m(cls, directory)\u001b[0m\n\u001b[1;32m    240\u001b[0m yaml \u001b[38;5;241m=\u001b[39m YAML(typ\u001b[38;5;241m=\u001b[39m\u001b[38;5;124m\"\u001b[39m\u001b[38;5;124msafe\u001b[39m\u001b[38;5;124m\"\u001b[39m)\n\u001b[1;32m    242\u001b[0m \u001b[38;5;28;01mif\u001b[39;00m \u001b[38;5;129;01mnot\u001b[39;00m meta\u001b[38;5;241m.\u001b[39mexists():\n\u001b[0;32m--> 243\u001b[0m     \u001b[38;5;28;01mraise\u001b[39;00m \u001b[38;5;167;01mFileNotFoundError\u001b[39;00m(\n\u001b[1;32m    244\u001b[0m         \u001b[38;5;124mf\u001b[39m\u001b[38;5;124m\"\u001b[39m\u001b[38;5;124mForcing file \u001b[39m\u001b[38;5;132;01m{\u001b[39;00mmeta\u001b[38;5;132;01m}\u001b[39;00m\u001b[38;5;124m not found. \u001b[39m\u001b[38;5;124m\"\u001b[39m\n\u001b[1;32m    245\u001b[0m         \u001b[38;5;124mf\u001b[39m\u001b[38;5;124m\"\u001b[39m\u001b[38;5;124mPerhaps you want to use \u001b[39m\u001b[38;5;132;01m{\u001b[39;00m\u001b[38;5;28mcls\u001b[39m\u001b[38;5;241m.\u001b[39m\u001b[38;5;18m__name__\u001b[39m\u001b[38;5;132;01m}\u001b[39;00m\u001b[38;5;124m(...)?\u001b[39m\u001b[38;5;124m\"\u001b[39m\n\u001b[1;32m    246\u001b[0m     )\n\u001b[1;32m    247\u001b[0m metadata \u001b[38;5;241m=\u001b[39m meta\u001b[38;5;241m.\u001b[39mread_text()\n\u001b[1;32m    248\u001b[0m \u001b[38;5;66;03m# Workaround for legacy forcing files having !PythonClass tag.\u001b[39;00m\n\u001b[1;32m    249\u001b[0m \u001b[38;5;66;03m# Remove it so ewatercycle.forcing.source[<forcing name>].load(dir) works.\u001b[39;00m\n",
      "\u001b[0;31mFileNotFoundError\u001b[0m: Forcing file /home/davidhaasnoot/eWaterCycle-WSL-WIP/nbs_28_Camels&test/Forcing/RhineForcing2000-2002/ewatercycle_forcing.yaml not found. Perhaps you want to use LumpedMakkinkForcing(...)?"
     ]
    }
   ],
   "source": [
    "ERA5_forcing = ewatercycle.forcing.sources[\"LumpedMakkinkForcing\"].load(forcingLocation)"
   ]
  },
  {
   "cell_type": "code",
   "execution_count": 39,
   "id": "93ea3380-52d4-4f62-96ed-6d3055ddf906",
   "metadata": {},
   "outputs": [
    {
     "ename": "NameError",
     "evalue": "name 'ERA5_forcing' is not defined",
     "output_type": "error",
     "traceback": [
      "\u001b[0;31m---------------------------------------------------------------------------\u001b[0m",
      "\u001b[0;31mNameError\u001b[0m                                 Traceback (most recent call last)",
      "Cell \u001b[0;32mIn[39], line 1\u001b[0m\n\u001b[0;32m----> 1\u001b[0m local_model_era5 \u001b[38;5;241m=\u001b[39m HBVLocal(forcing\u001b[38;5;241m=\u001b[39m\u001b[43mERA5_forcing\u001b[49m)\n",
      "\u001b[0;31mNameError\u001b[0m: name 'ERA5_forcing' is not defined"
     ]
    }
   ],
   "source": [
    "local_model_era5 = HBVLocal(forcing=ERA5_forcing)"
   ]
  },
  {
   "cell_type": "code",
   "execution_count": null,
   "id": "fa0126a7-d20e-4dea-b398-780cb5d89b65",
   "metadata": {},
   "outputs": [],
   "source": [
    "config_file, _ = local_model_era5.setup(\n",
    "            parameters=','.join([str(p) for p in par_0]),\n",
    "            initial_storage=','.join([str(s) for s in s_0]),\n",
    "           )"
   ]
  },
  {
   "cell_type": "code",
   "execution_count": null,
   "id": "e199f93d-abb4-4511-8ae0-ad63ae4263d5",
   "metadata": {},
   "outputs": [],
   "source": [
    "local_model_era5.initialize(config_file)"
   ]
  },
  {
   "cell_type": "code",
   "execution_count": null,
   "id": "542c6524-c503-4752-8c59-2e97f9018fd2",
   "metadata": {},
   "outputs": [],
   "source": [
    "Q_m = []\n",
    "time = []\n",
    "while local_model_era5.time < local_model_era5.end_time:\n",
    "    local_model_era5.update()\n",
    "    Q_m.append(local_model_era5.get_value(\"Q\"))\n",
    "    time.append(local_model_era5.time_as_datetime.date())"
   ]
  },
  {
   "cell_type": "code",
   "execution_count": null,
   "id": "2ec298e2-0704-422a-8029-0e48909e580f",
   "metadata": {},
   "outputs": [],
   "source": [
    "plt.plot(time[:-10], Q_m[:-10])"
   ]
  },
  {
   "cell_type": "markdown",
   "id": "b944e1b8-e225-483d-b39e-74ed4dea37cf",
   "metadata": {},
   "source": [
    "# Containerised"
   ]
  },
  {
   "cell_type": "code",
   "execution_count": null,
   "id": "555a3c69-953c-403b-a259-125aa8370dd8",
   "metadata": {},
   "outputs": [],
   "source": [
    "from ewatercycle.models import HBV"
   ]
  },
  {
   "cell_type": "code",
   "execution_count": null,
   "id": "e58785c1-fe03-4f4f-b00c-ee5754de1bf5",
   "metadata": {},
   "outputs": [],
   "source": [
    "model = HBV(forcing=test_forcing) "
   ]
  },
  {
   "cell_type": "code",
   "execution_count": null,
   "id": "ebbd898f-b3cc-4d03-8050-21067d31c1e8",
   "metadata": {},
   "outputs": [],
   "source": [
    "config_file, _ = model.setup(\n",
    "                parameters=','.join([str(p) for p in par_0]),\n",
    "                initial_storage=','.join([str(s) for s in s_0]),\n",
    "           )"
   ]
  },
  {
   "cell_type": "code",
   "execution_count": null,
   "id": "ba14b408-e446-45aa-b406-91dc35f40bc1",
   "metadata": {},
   "outputs": [],
   "source": [
    "model.initialize(config_file)"
   ]
  },
  {
   "cell_type": "code",
   "execution_count": null,
   "id": "579fe3d8-0418-4e76-9d66-9c1a938812cc",
   "metadata": {},
   "outputs": [],
   "source": [
    "Q_m = []\n",
    "time = []\n",
    "while model.time < model.end_time:\n",
    "    model.update()\n",
    "    Q_m.append(model.get_value(\"Q\"))\n",
    "    time.append(pd.Timestamp(model.time_as_datetime.date()))"
   ]
  },
  {
   "cell_type": "code",
   "execution_count": null,
   "id": "a6fd6178-1059-497a-a91f-dd0fa983df2a",
   "metadata": {},
   "outputs": [],
   "source": [
    "model.finalize()"
   ]
  },
  {
   "cell_type": "code",
   "execution_count": null,
   "id": "ccde9dca-258d-409c-a602-d4abda553b32",
   "metadata": {},
   "outputs": [],
   "source": [
    "df = pd.DataFrame(data=Q_m,columns=[\"Modeled discharge\"],index=time)"
   ]
  },
  {
   "cell_type": "code",
   "execution_count": null,
   "id": "5a1fa61b-97ec-46a7-9fbd-65d415568371",
   "metadata": {},
   "outputs": [],
   "source": [
    "Q_m_in_ref = np.loadtxt(r\"Observations/Q_m_out_ref.txt\")"
   ]
  },
  {
   "cell_type": "code",
   "execution_count": null,
   "id": "a39c2e98-30d0-4658-adbd-b2feae7062f4",
   "metadata": {},
   "outputs": [],
   "source": [
    "fig, ax = plt.subplots(1,1)\n",
    "df.plot(ax=ax,label=\"Modeled discharge HBV-bmi\")\n",
    "ax.plot(df.index, Q_m_in_ref[:-1],ls=\"--\",label=\"Modelled reference Q\");\n",
    "ax.legend(bbox_to_anchor=(1,1))"
   ]
  },
  {
   "cell_type": "code",
   "execution_count": null,
   "id": "f72d4492-b3e1-467f-8778-4925d0be0de3",
   "metadata": {},
   "outputs": [],
   "source": []
  }
 ],
 "metadata": {
  "kernelspec": {
   "display_name": "Python 3 (ipykernel)",
   "language": "python",
   "name": "python3"
  },
  "language_info": {
   "codemirror_mode": {
    "name": "ipython",
    "version": 3
   },
   "file_extension": ".py",
   "mimetype": "text/x-python",
   "name": "python",
   "nbconvert_exporter": "python",
   "pygments_lexer": "ipython3",
   "version": "3.10.14"
  }
 },
 "nbformat": 4,
 "nbformat_minor": 5
}
