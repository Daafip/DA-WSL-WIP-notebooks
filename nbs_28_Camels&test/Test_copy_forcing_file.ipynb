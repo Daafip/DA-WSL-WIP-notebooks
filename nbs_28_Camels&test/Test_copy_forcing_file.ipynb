{
 "cells": [
  {
   "cell_type": "code",
   "execution_count": 13,
   "id": "34708164-0324-491d-a5da-2f520e9bbc41",
   "metadata": {},
   "outputs": [],
   "source": [
    "import shutil\n",
    "from pathlib import Path"
   ]
  },
  {
   "cell_type": "code",
   "execution_count": 2,
   "id": "3eee7eca-909d-488f-aa2d-338fcfa48507",
   "metadata": {},
   "outputs": [],
   "source": [
    "path = Path.cwd()\n",
    "forcing_path = path / \"Forcing\"\n",
    "observations_path = path / \"Observations\"\n",
    "output_path = path / \"Output\"\n",
    "paths = forcing_path, output_path, observations_path\n",
    "figure_path = path / \"Figures\""
   ]
  },
  {
   "cell_type": "code",
   "execution_count": 8,
   "id": "5ec67c66-a209-45da-8d45-5484e6723c65",
   "metadata": {},
   "outputs": [],
   "source": [
    "HRU_id = \"14138900\""
   ]
  },
  {
   "cell_type": "code",
   "execution_count": 9,
   "id": "8c06d0a7-804a-4a4c-809e-08aba0e1d17e",
   "metadata": {},
   "outputs": [],
   "source": [
    "origin_camels_path = forcing_path / f'{HRU_id}_lump_cida_forcing_leap.txt'"
   ]
  },
  {
   "cell_type": "code",
   "execution_count": 10,
   "id": "b1d95ea8-07ad-4c36-8131-14ef1a12f7fe",
   "metadata": {},
   "outputs": [
    {
     "data": {
      "text/plain": [
       "PosixPath('/home/davidhaasnoot/eWaterCycle-WSL-WIP/nbs_28_Camels&test/Forcing/14138900_lump_cida_forcing_leap.txt')"
      ]
     },
     "execution_count": 10,
     "metadata": {},
     "output_type": "execute_result"
    }
   ],
   "source": [
    "origin_camels_path"
   ]
  },
  {
   "cell_type": "code",
   "execution_count": 14,
   "id": "002d7a33-b1ff-4e23-9e33-fd965f517b32",
   "metadata": {},
   "outputs": [
    {
     "data": {
      "text/plain": [
       "PosixPath('/home/davidhaasnoot/eWaterCycle-WSL-WIP/nbs_28_Camels&test/Forcing/14138900_lump_cida_forcing_leap_0.txt')"
      ]
     },
     "execution_count": 14,
     "metadata": {},
     "output_type": "execute_result"
    }
   ],
   "source": [
    "shutil.copy(origin_camels_path, forcing_path / f'{HRU_id}_lump_cida_forcing_leap_{0}.txt')"
   ]
  },
  {
   "cell_type": "code",
   "execution_count": 15,
   "id": "8b886e33-16ae-4348-bf1d-3df0ad866d75",
   "metadata": {},
   "outputs": [],
   "source": [
    "import numpy as np"
   ]
  }
 ],
 "metadata": {
  "kernelspec": {
   "display_name": "Python 3 (ipykernel)",
   "language": "python",
   "name": "python3"
  },
  "language_info": {
   "codemirror_mode": {
    "name": "ipython",
    "version": 3
   },
   "file_extension": ".py",
   "mimetype": "text/x-python",
   "name": "python",
   "nbconvert_exporter": "python",
   "pygments_lexer": "ipython3",
   "version": "3.10.13"
  }
 },
 "nbformat": 4,
 "nbformat_minor": 5
}
