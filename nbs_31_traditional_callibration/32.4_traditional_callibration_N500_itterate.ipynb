{
 "cells": [
  {
   "cell_type": "code",
   "execution_count": 1,
   "id": "67193873-d4a0-4ebb-a42e-057a3d77df66",
   "metadata": {},
   "outputs": [],
   "source": [
    "# general python\n",
    "import warnings\n",
    "warnings.filterwarnings(\"ignore\", category=UserWarning)\n",
    "import numpy as np\n",
    "import os\n",
    "from pathlib import Path\n",
    "import yaml\n",
    "import pandas as pd\n",
    "import matplotlib.pyplot as plt\n",
    "from datetime import datetime\n",
    "import scipy\n",
    "import xarray as xr\n",
    "from tqdm import tqdm\n",
    "import glob\n",
    "# from devtools import pprint\n",
    "# from rich import print\n",
    "from tqdm import tqdm"
   ]
  },
  {
   "cell_type": "code",
   "execution_count": 2,
   "id": "f9b153b4-dba9-4676-85a4-224041c66f59",
   "metadata": {},
   "outputs": [],
   "source": [
    "# general eWC\n",
    "import ewatercycle\n",
    "import ewatercycle.forcing\n",
    "import ewatercycle.models"
   ]
  },
  {
   "cell_type": "code",
   "execution_count": 3,
   "id": "1b65a1d9-70a0-41ac-bb19-ad82523bf64e",
   "metadata": {
    "scrolled": true
   },
   "outputs": [],
   "source": [
    "# pip install --upgrade ewatercycle"
   ]
  },
  {
   "cell_type": "code",
   "execution_count": 4,
   "id": "916af79e-89bb-4d73-8aaf-829214d4494c",
   "metadata": {},
   "outputs": [
    {
     "data": {
      "text/plain": [
       "PosixPath('/home/davidhaasnoot/eWaterCycle-WSL-WIP/nbs_31_normal vs da/Forcing')"
      ]
     },
     "execution_count": 4,
     "metadata": {},
     "output_type": "execute_result"
    }
   ],
   "source": [
    "path = Path.cwd()\n",
    "forcing_path = path / \"Forcing\"\n",
    "observations_path = path / \"Observations\"\n",
    "figure_path = path / \"Figures\"\n",
    "output_path = path / \"Output\"\n",
    "forcing_path"
   ]
  },
  {
   "cell_type": "markdown",
   "id": "9acf43ec-9590-4629-b671-c461abed4e62",
   "metadata": {},
   "source": [
    "Simple example using HBV:"
   ]
  },
  {
   "cell_type": "code",
   "execution_count": 5,
   "id": "1e9811b5-d075-4ad9-95a4-2f9011f6bc5f",
   "metadata": {},
   "outputs": [],
   "source": [
    "from ewatercycle.forcing import sources"
   ]
  },
  {
   "cell_type": "code",
   "execution_count": 6,
   "id": "a708f3a7-25ef-43d9-8f63-fdc809181388",
   "metadata": {},
   "outputs": [],
   "source": [
    "from ewatercycle_DA import DA"
   ]
  },
  {
   "cell_type": "code",
   "execution_count": 7,
   "id": "750e6be3-3659-4418-bc5f-2e55e442dfa1",
   "metadata": {},
   "outputs": [],
   "source": [
    "import ewatercycle_DA"
   ]
  },
  {
   "cell_type": "code",
   "execution_count": 8,
   "id": "7818d91d-c27e-4d08-952f-6122a8c00625",
   "metadata": {},
   "outputs": [],
   "source": [
    "n_particles = 500"
   ]
  },
  {
   "cell_type": "code",
   "execution_count": 9,
   "id": "21194c92-e16a-4fc0-968b-836babb73b82",
   "metadata": {},
   "outputs": [],
   "source": [
    "def calc_NSE(Qo, Qm):\n",
    "    QoAv  = np.mean(Qo)\n",
    "    ErrUp = np.sum((Qm - Qo)**2)\n",
    "    ErrDo = np.sum((Qo - QoAv)**2)\n",
    "    return 1 - (ErrUp / ErrDo)"
   ]
  },
  {
   "cell_type": "code",
   "execution_count": 10,
   "id": "f18dd4e6-a788-48ad-a31f-2a3b5bed8e67",
   "metadata": {},
   "outputs": [],
   "source": [
    "## Array of initial storage terms - we keep these constant for now \n",
    "##              Si,  Su, Sf, Ss\n",
    "s_0 = np.array([0,  100,  0,  5, 0])\n",
    "\n",
    "## Array of parameters min/max bounds as a reference\n",
    "##                      Imax,  Ce,  Sumax, beta,  Pmax,  T_lag,   Kf,   Ks, FM\n",
    "p_min_initial= np.array([0,   0.2,  40,    .5,   .001,   1,     .01,  .0001, 6])\n",
    "p_max_initial = np.array([8,    1,  800,   4,    .3,     10,    .1,   .01, 0.1])\n",
    "p_names = [\"$I_{max}$\",  \"$C_e$\",  \"$Su_{max}$\", \"β\",  \"$P_{max}$\",  \"$T_{lag}$\",   \"$K_f$\",   \"$K_s$\", \"FM\"]\n",
    "S_names = [\"Interception storage\", \"Unsaturated Rootzone Storage\", \"Fastflow storage\", \"Groundwater storage\", \"Snowpack storage\"]\n",
    "param_names = [\"Imax\",\"Ce\",  \"Sumax\", \"Beta\",  \"Pmax\",  \"Tlag\",   \"Kf\",   \"Ks\", \"FM\"]\n",
    "stor_names = [\"Si\", \"Su\", \"Sf\", \"Ss\", \"Sp\"]"
   ]
  },
  {
   "cell_type": "code",
   "execution_count": 11,
   "id": "8c3fb76d-7c09-451b-a88b-482e340b5873",
   "metadata": {},
   "outputs": [],
   "source": [
    "from ewatercycle_DA.local_models.HBV import HBVLocal"
   ]
  },
  {
   "cell_type": "code",
   "execution_count": 12,
   "id": "4d96db9e-19c3-4a83-b094-1ceae18de5b3",
   "metadata": {},
   "outputs": [],
   "source": [
    "experiment_start_date = \"1997-08-01T00:00:00Z\"\n",
    "experiment_end_date = \"2000-08-01T00:00:00Z\"\n",
    "# HRU_id = 1411300\n",
    "alpha = 1.26"
   ]
  },
  {
   "cell_type": "code",
   "execution_count": 13,
   "id": "7f0727bd-e32b-407e-bb36-3c933db03033",
   "metadata": {},
   "outputs": [],
   "source": [
    "HRU_ids = [path.name[1:8] for path in  forcing_path.glob(\"*.txt\")]"
   ]
  },
  {
   "cell_type": "code",
   "execution_count": 14,
   "id": "6d91cb91-e160-4d85-8a15-877caa543e93",
   "metadata": {},
   "outputs": [],
   "source": [
    "def run_callibration(HRU_id):\n",
    "    camels_forcing_callibration = sources.HBVForcing(start_time = experiment_start_date,\n",
    "                              end_time = experiment_end_date,\n",
    "                              directory = forcing_path,\n",
    "                              camels_file = f'0{HRU_id}_lump_cida_forcing_leap.txt',\n",
    "                              alpha = alpha,\n",
    "                              )\n",
    "    \n",
    "    ensemble = DA.Ensemble(N=n_particles)\n",
    "    ensemble.setup()\n",
    "    \n",
    "    array_random_num = np.array([[np.random.random() for i in range(len(p_max_initial))] for i in range(n_particles)])\n",
    "    p_intial = p_min_initial + array_random_num * (p_max_initial-p_min_initial)\n",
    "    # values wihch you \n",
    "    setup_kwargs_lst = []\n",
    "    for index in range(n_particles):\n",
    "        setup_kwargs_lst.append({'parameters':','.join([str(p) for p in p_intial[index]]), \n",
    "                                'initial_storage':','.join([str(s) for s in s_0]),\n",
    "                                 })\n",
    "    ensemble.loaded_models.update({'HBVLocal': HBVLocal})\n",
    "    # this initializes the models for all ensemble members. \n",
    "    ensemble.initialize(model_name=[\"HBVLocal\"]*n_particles,\n",
    "                        forcing=[camels_forcing_callibration]*n_particles,\n",
    "                        setup_kwargs=setup_kwargs_lst) \n",
    "    ensemble.set_state_vector_variables('all')\n",
    "    ref_model = ensemble.ensemble_list[0].model\n",
    "    n_timesteps = int((ref_model.end_time - ref_model.start_time) /  ref_model.time_step)\n",
    "    \n",
    "    time_cal = []\n",
    "    lst_state_vector = []\n",
    "    lst_Q_cal = [] \n",
    "    \n",
    "    lst_state_vector.append(ensemble.get_state_vector())\n",
    "    for i in tqdm(range(n_timesteps)):    \n",
    "        time_cal.append(pd.Timestamp(ref_model.time_as_datetime.date()))\n",
    "        ensemble.update(assimilate=False)\n",
    "        lst_Q_cal.append(ensemble.get_value(\"Q\").flatten()) \n",
    "        \n",
    "    lst_state_vector.append(ensemble.get_state_vector())\n",
    "    # end model - IMPORTANT! when working with dockers\n",
    "    ensemble.finalize()\n",
    "    \n",
    "    Q_m_arr = np.array(lst_Q_cal).T\n",
    "    # state_vector_arr = np.array(lst_state_vector)\n",
    "    df_ensemble = pd.DataFrame(data=Q_m_arr[:,:len(time_cal)].T,index=time_cal,columns=[f'particle {n}' for n in range(n_particles)])\n",
    "    \n",
    "    ds = xr.open_dataset(forcing_path / ref_model.forcing.pr)\n",
    "    observations = observations_path / f'0{HRU_id}_streamflow_qc.txt'\n",
    "    cubic_ft_to_cubic_m = 0.0283168466 \n",
    "    new_header = ['GAGEID','Year','Month', 'Day', 'Streamflow(cubic feet per second)','QC_flag']\n",
    "    new_header_dict = dict(list(zip(range(len(new_header)),new_header)))\n",
    "    \n",
    "    df_Q = pd.read_fwf(observations,delimiter=' ',encoding='utf-8',header=None)\n",
    "    df_Q = df_Q.rename(columns=new_header_dict)\n",
    "    df_Q['Streamflow(cubic feet per second)'] = df_Q['Streamflow(cubic feet per second)'].apply(lambda x: np.nan if x==-999.00 else x)\n",
    "    df_Q['Q (m3/s)'] = df_Q['Streamflow(cubic feet per second)'] * cubic_ft_to_cubic_m\n",
    "    df_Q['Q'] = df_Q['Q (m3/s)'] / ds.attrs['area basin(m^2)'] * 3600 * 24 * 1000 # m3/s -> m/s ->m/d -> mm/d\n",
    "    df_Q.index = df_Q.apply(lambda x: pd.Timestamp(f'{int(x.Year)}-{int(x.Month)}-{int(x.Day)}'),axis=1)\n",
    "    df_Q.index.name = \"time\"\n",
    "    df_Q.drop(columns=['Year','Month', 'Day','Streamflow(cubic feet per second)'],inplace=True)\n",
    "    df_Q = df_Q.dropna(axis=0)\n",
    "    df_Q_Cal = df_Q.loc[time_cal]\n",
    "    \n",
    "    lst_nse = []\n",
    "    for i in range(n_particles):\n",
    "        lst_nse.append(calc_NSE(df_Q['Q'],df_ensemble[f'particle {i}']))\n",
    "    \n",
    "    ensmble_best_run = df_ensemble[f'particle {np.array(lst_nse).argmax()}']\n",
    "    \n",
    "    state_vector = lst_state_vector[-1][np.array(lst_nse).argmax()].copy()\n",
    "\n",
    "    del df_ensemble, lst_Q_cal, ensemble, lst_state_vector\n",
    "    return ensmble_best_run, state_vector"
   ]
  },
  {
   "cell_type": "code",
   "execution_count": null,
   "id": "7bb91e2f-6481-49e5-bf7e-1a397bfb2b5b",
   "metadata": {},
   "outputs": [],
   "source": [
    "np.savetxt("
   ]
  },
  {
   "cell_type": "code",
   "execution_count": 15,
   "id": "4ee4f585-b5e5-4cd1-9ef0-00c90d09913d",
   "metadata": {},
   "outputs": [
    {
     "name": "stderr",
     "output_type": "stream",
     "text": [
      "  4%|███                                                                              | 42/1096 [01:59<50:02,  2.85s/it]\n"
     ]
    },
    {
     "ename": "KeyboardInterrupt",
     "evalue": "",
     "output_type": "error",
     "traceback": [
      "\u001b[0;31m---------------------------------------------------------------------------\u001b[0m",
      "\u001b[0;31mKeyboardInterrupt\u001b[0m                         Traceback (most recent call last)",
      "Cell \u001b[0;32mIn[15], line 3\u001b[0m\n\u001b[1;32m      1\u001b[0m lst_output \u001b[38;5;241m=\u001b[39m []\n\u001b[1;32m      2\u001b[0m \u001b[38;5;28;01mfor\u001b[39;00m hruid \u001b[38;5;129;01min\u001b[39;00m HRU_ids:\n\u001b[0;32m----> 3\u001b[0m     lst_output\u001b[38;5;241m.\u001b[39mappend(\u001b[43mrun_callibration\u001b[49m\u001b[43m(\u001b[49m\u001b[43mhruid\u001b[49m\u001b[43m)\u001b[49m)\n",
      "Cell \u001b[0;32mIn[14], line 36\u001b[0m, in \u001b[0;36mrun_callibration\u001b[0;34m(HRU_id)\u001b[0m\n\u001b[1;32m     34\u001b[0m \u001b[38;5;28;01mfor\u001b[39;00m i \u001b[38;5;129;01min\u001b[39;00m tqdm(\u001b[38;5;28mrange\u001b[39m(n_timesteps)):    \n\u001b[1;32m     35\u001b[0m     time_cal\u001b[38;5;241m.\u001b[39mappend(pd\u001b[38;5;241m.\u001b[39mTimestamp(ref_model\u001b[38;5;241m.\u001b[39mtime_as_datetime\u001b[38;5;241m.\u001b[39mdate()))\n\u001b[0;32m---> 36\u001b[0m     \u001b[43mensemble\u001b[49m\u001b[38;5;241;43m.\u001b[39;49m\u001b[43mupdate\u001b[49m\u001b[43m(\u001b[49m\u001b[43massimilate\u001b[49m\u001b[38;5;241;43m=\u001b[39;49m\u001b[38;5;28;43;01mFalse\u001b[39;49;00m\u001b[43m)\u001b[49m\n\u001b[1;32m     37\u001b[0m     lst_Q_cal\u001b[38;5;241m.\u001b[39mappend(ensemble\u001b[38;5;241m.\u001b[39mget_value(\u001b[38;5;124m\"\u001b[39m\u001b[38;5;124mQ\u001b[39m\u001b[38;5;124m\"\u001b[39m)\u001b[38;5;241m.\u001b[39mflatten()) \n\u001b[1;32m     39\u001b[0m lst_state_vector\u001b[38;5;241m.\u001b[39mappend(ensemble\u001b[38;5;241m.\u001b[39mget_state_vector())\n",
      "File \u001b[0;32m~/miniconda3/envs/ewatercycle/lib/python3.10/site-packages/ewatercycle_DA/DA.py:446\u001b[0m, in \u001b[0;36mEnsemble.update\u001b[0;34m(self, assimilate)\u001b[0m\n\u001b[1;32m    443\u001b[0m gathered_update \u001b[38;5;241m=\u001b[39m (\u001b[38;5;28mself\u001b[39m\u001b[38;5;241m.\u001b[39mgather(\u001b[38;5;241m*\u001b[39m[\u001b[38;5;28mself\u001b[39m\u001b[38;5;241m.\u001b[39mupdate_parallel(\u001b[38;5;28mself\u001b[39m, i) \u001b[38;5;28;01mfor\u001b[39;00m i \u001b[38;5;129;01min\u001b[39;00m \u001b[38;5;28mrange\u001b[39m(\u001b[38;5;28mself\u001b[39m\u001b[38;5;241m.\u001b[39mN)]))\n\u001b[1;32m    445\u001b[0m \u001b[38;5;28;01mwith\u001b[39;00m dask\u001b[38;5;241m.\u001b[39mconfig\u001b[38;5;241m.\u001b[39mset(\u001b[38;5;28mself\u001b[39m\u001b[38;5;241m.\u001b[39mdask_config):\n\u001b[0;32m--> 446\u001b[0m     \u001b[43mgathered_update\u001b[49m\u001b[38;5;241;43m.\u001b[39;49m\u001b[43mcompute\u001b[49m\u001b[43m(\u001b[49m\u001b[43m)\u001b[49m\n\u001b[1;32m    448\u001b[0m \u001b[38;5;28;01mif\u001b[39;00m assimilate:\n\u001b[1;32m    449\u001b[0m     \u001b[38;5;28;01mif\u001b[39;00m \u001b[38;5;129;01mnot\u001b[39;00m \u001b[38;5;28mall\u001b[39m(model_name \u001b[38;5;129;01min\u001b[39;00m KNOWN_WORKING_MODELS_DA \u001b[38;5;28;01mfor\u001b[39;00m model_name \u001b[38;5;129;01min\u001b[39;00m \u001b[38;5;28mself\u001b[39m\u001b[38;5;241m.\u001b[39mlst_models_name):\n",
      "File \u001b[0;32m~/miniconda3/envs/ewatercycle/lib/python3.10/site-packages/dask/base.py:379\u001b[0m, in \u001b[0;36mDaskMethodsMixin.compute\u001b[0;34m(self, **kwargs)\u001b[0m\n\u001b[1;32m    355\u001b[0m \u001b[38;5;28;01mdef\u001b[39;00m \u001b[38;5;21mcompute\u001b[39m(\u001b[38;5;28mself\u001b[39m, \u001b[38;5;241m*\u001b[39m\u001b[38;5;241m*\u001b[39mkwargs):\n\u001b[1;32m    356\u001b[0m \u001b[38;5;250m    \u001b[39m\u001b[38;5;124;03m\"\"\"Compute this dask collection\u001b[39;00m\n\u001b[1;32m    357\u001b[0m \n\u001b[1;32m    358\u001b[0m \u001b[38;5;124;03m    This turns a lazy Dask collection into its in-memory equivalent.\u001b[39;00m\n\u001b[0;32m   (...)\u001b[0m\n\u001b[1;32m    377\u001b[0m \u001b[38;5;124;03m    dask.compute\u001b[39;00m\n\u001b[1;32m    378\u001b[0m \u001b[38;5;124;03m    \"\"\"\u001b[39;00m\n\u001b[0;32m--> 379\u001b[0m     (result,) \u001b[38;5;241m=\u001b[39m \u001b[43mcompute\u001b[49m\u001b[43m(\u001b[49m\u001b[38;5;28;43mself\u001b[39;49m\u001b[43m,\u001b[49m\u001b[43m \u001b[49m\u001b[43mtraverse\u001b[49m\u001b[38;5;241;43m=\u001b[39;49m\u001b[38;5;28;43;01mFalse\u001b[39;49;00m\u001b[43m,\u001b[49m\u001b[43m \u001b[49m\u001b[38;5;241;43m*\u001b[39;49m\u001b[38;5;241;43m*\u001b[39;49m\u001b[43mkwargs\u001b[49m\u001b[43m)\u001b[49m\n\u001b[1;32m    380\u001b[0m     \u001b[38;5;28;01mreturn\u001b[39;00m result\n",
      "File \u001b[0;32m~/miniconda3/envs/ewatercycle/lib/python3.10/site-packages/dask/base.py:665\u001b[0m, in \u001b[0;36mcompute\u001b[0;34m(traverse, optimize_graph, scheduler, get, *args, **kwargs)\u001b[0m\n\u001b[1;32m    662\u001b[0m     postcomputes\u001b[38;5;241m.\u001b[39mappend(x\u001b[38;5;241m.\u001b[39m__dask_postcompute__())\n\u001b[1;32m    664\u001b[0m \u001b[38;5;28;01mwith\u001b[39;00m shorten_traceback():\n\u001b[0;32m--> 665\u001b[0m     results \u001b[38;5;241m=\u001b[39m \u001b[43mschedule\u001b[49m\u001b[43m(\u001b[49m\u001b[43mdsk\u001b[49m\u001b[43m,\u001b[49m\u001b[43m \u001b[49m\u001b[43mkeys\u001b[49m\u001b[43m,\u001b[49m\u001b[43m \u001b[49m\u001b[38;5;241;43m*\u001b[39;49m\u001b[38;5;241;43m*\u001b[39;49m\u001b[43mkwargs\u001b[49m\u001b[43m)\u001b[49m\n\u001b[1;32m    667\u001b[0m \u001b[38;5;28;01mreturn\u001b[39;00m repack([f(r, \u001b[38;5;241m*\u001b[39ma) \u001b[38;5;28;01mfor\u001b[39;00m r, (f, a) \u001b[38;5;129;01min\u001b[39;00m \u001b[38;5;28mzip\u001b[39m(results, postcomputes)])\n",
      "File \u001b[0;32m~/miniconda3/envs/ewatercycle/lib/python3.10/queue.py:171\u001b[0m, in \u001b[0;36mQueue.get\u001b[0;34m(self, block, timeout)\u001b[0m\n\u001b[1;32m    169\u001b[0m \u001b[38;5;28;01melif\u001b[39;00m timeout \u001b[38;5;129;01mis\u001b[39;00m \u001b[38;5;28;01mNone\u001b[39;00m:\n\u001b[1;32m    170\u001b[0m     \u001b[38;5;28;01mwhile\u001b[39;00m \u001b[38;5;129;01mnot\u001b[39;00m \u001b[38;5;28mself\u001b[39m\u001b[38;5;241m.\u001b[39m_qsize():\n\u001b[0;32m--> 171\u001b[0m         \u001b[38;5;28;43mself\u001b[39;49m\u001b[38;5;241;43m.\u001b[39;49m\u001b[43mnot_empty\u001b[49m\u001b[38;5;241;43m.\u001b[39;49m\u001b[43mwait\u001b[49m\u001b[43m(\u001b[49m\u001b[43m)\u001b[49m\n\u001b[1;32m    172\u001b[0m \u001b[38;5;28;01melif\u001b[39;00m timeout \u001b[38;5;241m<\u001b[39m \u001b[38;5;241m0\u001b[39m:\n\u001b[1;32m    173\u001b[0m     \u001b[38;5;28;01mraise\u001b[39;00m \u001b[38;5;167;01mValueError\u001b[39;00m(\u001b[38;5;124m\"\u001b[39m\u001b[38;5;124m'\u001b[39m\u001b[38;5;124mtimeout\u001b[39m\u001b[38;5;124m'\u001b[39m\u001b[38;5;124m must be a non-negative number\u001b[39m\u001b[38;5;124m\"\u001b[39m)\n",
      "File \u001b[0;32m~/miniconda3/envs/ewatercycle/lib/python3.10/threading.py:320\u001b[0m, in \u001b[0;36mCondition.wait\u001b[0;34m(self, timeout)\u001b[0m\n\u001b[1;32m    318\u001b[0m \u001b[38;5;28;01mtry\u001b[39;00m:    \u001b[38;5;66;03m# restore state no matter what (e.g., KeyboardInterrupt)\u001b[39;00m\n\u001b[1;32m    319\u001b[0m     \u001b[38;5;28;01mif\u001b[39;00m timeout \u001b[38;5;129;01mis\u001b[39;00m \u001b[38;5;28;01mNone\u001b[39;00m:\n\u001b[0;32m--> 320\u001b[0m         \u001b[43mwaiter\u001b[49m\u001b[38;5;241;43m.\u001b[39;49m\u001b[43macquire\u001b[49m\u001b[43m(\u001b[49m\u001b[43m)\u001b[49m\n\u001b[1;32m    321\u001b[0m         gotit \u001b[38;5;241m=\u001b[39m \u001b[38;5;28;01mTrue\u001b[39;00m\n\u001b[1;32m    322\u001b[0m     \u001b[38;5;28;01melse\u001b[39;00m:\n",
      "\u001b[0;31mKeyboardInterrupt\u001b[0m: "
     ]
    }
   ],
   "source": [
    "lst_output = []\n",
    "for hruid in HRU_ids:\n",
    "    lst_output.append(run_callibration(hruid))"
   ]
  },
  {
   "cell_type": "markdown",
   "id": "c11358ea-eedd-4c74-9174-7f1d6d1069fd",
   "metadata": {},
   "source": [
    "# Validation"
   ]
  },
  {
   "cell_type": "code",
   "execution_count": null,
   "id": "1e855ce9-5257-44f8-bb77-12944527a4d0",
   "metadata": {},
   "outputs": [],
   "source": [
    "optimal_params = np.array([5.03347889e+00, 3.18181788e-01, 2.81910747e+02, 1.29251511e+00,\n",
    "                           1.36417039e-01, 1.00000000e+00, 6.14995023e-02, 2.78444446e-03,\n",
    "                           3.87430269e+00])\n",
    "final_storage = np.array([ 0.        , 42.67704261,  1.70780116, 20.35041783,  0.        ])"
   ]
  },
  {
   "cell_type": "code",
   "execution_count": null,
   "id": "37e682b8-6f34-496b-a699-4ab896a7b165",
   "metadata": {},
   "outputs": [],
   "source": [
    "experiment_start_date = \"2002-08-01T00:00:00Z\"\n",
    "experiment_end_date = \"2007-08-01T00:00:00Z\"\n",
    "HRU_id = 1411300\n",
    "alpha = 1.26"
   ]
  },
  {
   "cell_type": "code",
   "execution_count": null,
   "id": "81021257-b01c-446d-a47c-3cba98b2b971",
   "metadata": {},
   "outputs": [],
   "source": [
    "camels_forcing_validation = sources.HBVForcing(start_time = experiment_start_date,\n",
    "                          end_time = experiment_end_date,\n",
    "                          directory = forcing_path,\n",
    "                          camels_file = f'0{HRU_id}_lump_cida_forcing_leap.txt',\n",
    "                          alpha = alpha,\n",
    "                          )"
   ]
  },
  {
   "cell_type": "code",
   "execution_count": null,
   "id": "1928ad3a-3e30-4b29-8990-d8a959c7692d",
   "metadata": {},
   "outputs": [],
   "source": [
    "validation_model = HBVLocal(forcing=camels_forcing_validation)"
   ]
  },
  {
   "cell_type": "code",
   "execution_count": null,
   "id": "ac90e4a0-6d50-4a7f-83ed-4d5b509811a4",
   "metadata": {},
   "outputs": [],
   "source": [
    "config_file, _ = validation_model.setup(\n",
    "            parameters=','.join([str(p) for p in optimal_params]),\n",
    "            initial_storage=','.join([str(s) for s in final_storage]),\n",
    "           )"
   ]
  },
  {
   "cell_type": "code",
   "execution_count": null,
   "id": "725140bc-47c8-4132-acb0-0af3c9189860",
   "metadata": {},
   "outputs": [],
   "source": [
    "validation_model.initialize(config_file)"
   ]
  },
  {
   "cell_type": "code",
   "execution_count": null,
   "id": "b9110a27-7d2e-4703-8a4d-7de66da85ad4",
   "metadata": {},
   "outputs": [],
   "source": [
    "Q_m_val = []\n",
    "time_val = []\n",
    "while validation_model.time < validation_model.end_time:\n",
    "    time_val.append(validation_model.time_as_datetime.date())\n",
    "    validation_model.update()\n",
    "    Q_m_val.append(validation_model.get_value(\"Q\"))"
   ]
  },
  {
   "cell_type": "code",
   "execution_count": null,
   "id": "64076791-d7ae-43de-8192-7b775fc35bb7",
   "metadata": {},
   "outputs": [],
   "source": [
    "df_Q_val= df_Q.loc[time_val]"
   ]
  },
  {
   "cell_type": "code",
   "execution_count": null,
   "id": "3c1830b9-eea7-4ad1-9e8c-e827764b7316",
   "metadata": {},
   "outputs": [],
   "source": [
    "nse_cal = calc_NSE(df_Q_Cal['Q'].values, ensmble_best_run)"
   ]
  },
  {
   "cell_type": "code",
   "execution_count": null,
   "id": "80729c5d-b9ce-44e1-a338-f200182760d4",
   "metadata": {},
   "outputs": [],
   "source": [
    "nse_val = calc_NSE(df_Q_val['Q'].values,np.array(Q_m_val).flatten())"
   ]
  },
  {
   "cell_type": "code",
   "execution_count": null,
   "id": "3032b99a-a7b8-4a54-9a84-ac9e7481ea11",
   "metadata": {},
   "outputs": [],
   "source": [
    "fig, ax = plt.subplots(1,1,figsize=(12,5))\n",
    "ensmble_best_run.plot(ax=ax,color=\"C1\",label=\"Model callibration\")\n",
    "df_Q_Cal['Q'].plot(ax=ax,lw=0,marker=\"*\",ms=2.5,zorder=0,label=\"Observations Callibration\",color='grey')\n",
    "ax.plot(time_val, Q_m_val,label=\"Model Vallidation\");\n",
    "df_Q_val['Q'].plot(ax=ax,lw=0,marker=\"*\",ms=2.5,zorder=0,label=\"Observations Vallidation\",color='k')\n",
    "ax.legend();\n",
    "\n",
    "plt.title(f'Callibration (NSE = {nse_cal:.2f}) and Validation (NSE = {nse_val:.2f}) for HRU ID{HRU_id}');"
   ]
  },
  {
   "cell_type": "code",
   "execution_count": null,
   "id": "6dda98a3-6fcf-4cb9-9e32-77df7a0b4461",
   "metadata": {},
   "outputs": [],
   "source": [
    "validation_model.finalize()"
   ]
  },
  {
   "cell_type": "code",
   "execution_count": null,
   "id": "27312408-c603-47cb-b340-e4ad827418ec",
   "metadata": {},
   "outputs": [],
   "source": []
  }
 ],
 "metadata": {
  "kernelspec": {
   "display_name": "Python 3 (ipykernel)",
   "language": "python",
   "name": "python3"
  },
  "language_info": {
   "codemirror_mode": {
    "name": "ipython",
    "version": 3
   },
   "file_extension": ".py",
   "mimetype": "text/x-python",
   "name": "python",
   "nbconvert_exporter": "python",
   "pygments_lexer": "ipython3",
   "version": "3.10.13"
  }
 },
 "nbformat": 4,
 "nbformat_minor": 5
}
