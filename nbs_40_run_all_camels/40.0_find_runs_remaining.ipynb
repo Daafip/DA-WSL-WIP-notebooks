{
 "cells": [
  {
   "cell_type": "code",
   "execution_count": 101,
   "id": "3ba70f6f-4d2b-4010-814c-85dc538c040d",
   "metadata": {},
   "outputs": [],
   "source": [
    "from pathlib import Path\n",
    "import pandas as pd"
   ]
  },
  {
   "cell_type": "code",
   "execution_count": 102,
   "id": "779cf0f6-5a0b-433e-b8ce-1c9b02383be1",
   "metadata": {},
   "outputs": [],
   "source": [
    "forcing_path = Path.cwd() /\"Forcing\"\n",
    "forcing = [int(path.name[0:8]) for path in\n",
    "               forcing_path.glob(\"*_lump_cida_forcing_leap.txt\")]\n"
   ]
  },
  {
   "cell_type": "code",
   "execution_count": 103,
   "id": "5020b420-6f07-4f85-b7a4-596603ae751b",
   "metadata": {},
   "outputs": [],
   "source": [
    "output_path = Path.cwd() /\"Output\"\n",
    "output = [int(path.name[0:8]) for path in\n",
    "               output_path.glob(\"*.nc\")]\n",
    "ouput = sorted(output)"
   ]
  },
  {
   "cell_type": "code",
   "execution_count": 104,
   "id": "51573bc5-1979-4145-b3a2-bd1dc61c8721",
   "metadata": {},
   "outputs": [
    {
     "data": {
      "text/plain": [
       "(1013500, 1022500, 14400000, 14362250)"
      ]
     },
     "execution_count": 104,
     "metadata": {},
     "output_type": "execute_result"
    }
   ],
   "source": [
    "ouput[0],ouput[1],ouput[-1],ouput[-2]"
   ]
  },
  {
   "cell_type": "code",
   "execution_count": 105,
   "id": "43e0be84-f192-4276-b2fe-d6401dc1bd21",
   "metadata": {},
   "outputs": [],
   "source": [
    "prev = \"0\"\n",
    "for uid in output:\n",
    "    if int(uid) == int(prev):\n",
    "        print(uid)\n",
    "    prev = uid\n",
    "\n",
    "seen = set()\n",
    "uniq = []\n",
    "for uid in output:\n",
    "    if uid not in seen:\n",
    "        uniq.append(uid)\n",
    "        seen.add(uid)\n",
    "    else:\n",
    "        print(uid)"
   ]
  },
  {
   "cell_type": "code",
   "execution_count": 110,
   "id": "635f0aea-58d1-4210-ace8-76f7ce270799",
   "metadata": {},
   "outputs": [
    {
     "data": {
      "text/plain": [
       "675"
      ]
     },
     "execution_count": 110,
     "metadata": {},
     "output_type": "execute_result"
    }
   ],
   "source": [
    "len(forcing) +26"
   ]
  },
  {
   "cell_type": "code",
   "execution_count": 111,
   "id": "50f0c62d-89d6-4e3c-a887-d8ef010ec499",
   "metadata": {},
   "outputs": [
    {
     "data": {
      "text/plain": [
       "661"
      ]
     },
     "execution_count": 111,
     "metadata": {},
     "output_type": "execute_result"
    }
   ],
   "source": [
    "len(output)"
   ]
  },
  {
   "cell_type": "code",
   "execution_count": 112,
   "id": "b29450a0-e745-4b95-a50b-7e45ac20602c",
   "metadata": {},
   "outputs": [
    {
     "data": {
      "text/plain": [
       "661"
      ]
     },
     "execution_count": 112,
     "metadata": {},
     "output_type": "execute_result"
    }
   ],
   "source": [
    "len(set(output))"
   ]
  },
  {
   "cell_type": "code",
   "execution_count": 113,
   "id": "cfd0776b-462d-4bc2-8c44-68f2f5e03c7f",
   "metadata": {},
   "outputs": [
    {
     "data": {
      "text/plain": [
       "{2081113, 3281100, 3448942, 8178880, 9535100}"
      ]
     },
     "execution_count": 113,
     "metadata": {},
     "output_type": "execute_result"
    }
   ],
   "source": [
    "set(forcing).difference(output)"
   ]
  },
  {
   "cell_type": "markdown",
   "id": "6c4a23fd-cd40-444c-a5f0-bb09a42a5bb0",
   "metadata": {},
   "source": [
    "```bash\n",
    "starting spinup of 03448942 w2s0.001at 2024-05-28 11_23\n",
    "init \n",
    "could not convert string to float: '1980 01 03 12\\t34905.54\\t0.00\\t335.25\\t0.00\\t6.88\\t-4.92\\t426.13'\n",
    "cleanup \n",
    "'NoneType' object has no attribute 'sel'\n",
    "```"
   ]
  },
  {
   "cell_type": "markdown",
   "id": "463a49cf-78d6-4c82-ade8-017dc35a4e04",
   "metadata": {},
   "source": [
    "```bash\n",
    "03281100\n",
    "\"not all values found in index 'time'\"\n",
    "cleanup \n",
    "```\n",
    "```bash\n",
    "starting spinup of 02081113 w2s0.001at 2024-05-28 11_50\n",
    "init \n",
    "could not convert string to float: '1980 01 03 12\\t34560.00\\t0.00\\t263.65\\t0.00\\t8.59\\t-3.37\\t477.79'\n",
    "cleanup \n",
    "'NoneType' object has no attribute 'sel'\n",
    "```\n",
    "\n",
    "```bash\n",
    "starting spinup of 09535100 w2s0.001at 2024-05-28 11_52\n",
    "init \n",
    "load obs \n",
    "init da \n",
    "init_da assimilate \n",
    "100%|█████████████████████████████████████████| 761/761 [05:28<00:00,  2.32it/s]\n",
    "output \n",
    "\"not all values found in index 'time'\"\n",
    "cleanup \n",
    "'NoneType' object has no attribute 'sel'\n",
    "```"
   ]
  },
  {
   "cell_type": "code",
   "execution_count": null,
   "id": "100bec1f-58af-4e69-9268-8b2b6a41b1da",
   "metadata": {},
   "outputs": [],
   "source": []
  },
  {
   "cell_type": "code",
   "execution_count": null,
   "id": "d322d0d7-eeb4-480d-92f6-48f81c40f133",
   "metadata": {},
   "outputs": [],
   "source": []
  }
 ],
 "metadata": {
  "kernelspec": {
   "display_name": "Python 3 (ipykernel)",
   "language": "python",
   "name": "python3"
  },
  "language_info": {
   "codemirror_mode": {
    "name": "ipython",
    "version": 3
   },
   "file_extension": ".py",
   "mimetype": "text/x-python",
   "name": "python",
   "nbconvert_exporter": "python",
   "pygments_lexer": "ipython3",
   "version": "3.10.14"
  }
 },
 "nbformat": 4,
 "nbformat_minor": 5
}
